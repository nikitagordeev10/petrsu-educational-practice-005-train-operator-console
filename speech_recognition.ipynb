{
 "cells": [
  {
   "cell_type": "code",
   "execution_count": null,
   "metadata": {
    "collapsed": true
   },
   "outputs": [],
   "source": []
  },
  {
   "cell_type": "code",
   "execution_count": null,
   "outputs": [],
   "source": [
    "import speech_recognition as sr\n",
    "\n",
    "def recognize_commands():\n",
    "    # Создаем экземпляр распознавателя\n",
    "    recognizer = sr.Recognizer()\n",
    "\n",
    "    # Используем микрофон в качестве источника звука\n",
    "    with sr.Microphone() as source:\n",
    "        print(\"Скажите что-то...\")\n",
    "        # Регулируем уровень громкости окружающего шума\n",
    "        recognizer.adjust_for_ambient_noise(source)\n",
    "\n",
    "        while True:\n",
    "            try:\n",
    "                # Захватываем звук\n",
    "                audio = recognizer.listen(source)\n",
    "                print(\"Распознаю...\")\n",
    "\n",
    "                # Распознаем звук с помощью Google Speech Recognition\n",
    "                command = recognizer.recognize_google(audio, language='ru-RU')\n",
    "                print(f\"Вы сказали: {command}\")\n",
    "\n",
    "                # Здесь добавьте логику управления локомотивом\n",
    "                process_command(command)\n",
    "\n",
    "            except sr.UnknownValueError:\n",
    "                print(\"Не удалось распознать команду.\")\n",
    "            except sr.RequestError as e:\n",
    "                print(f\"Ошибка сервиса распознавания речи; {e}\")\n",
    "\n",
    "def process_command(command):\n",
    "    # Пример обработки команд\n",
    "    if \"старт\" in command:\n",
    "        print(\"Команда: Запуск локомотива.\")\n",
    "        # Здесь добавьте код для запуска локомотива\n",
    "    elif \"стоп\" in command:\n",
    "        print(\"Команда: Остановка локомотива.\")\n",
    "        # Здесь добавьте код для остановки локомотива\n",
    "    elif \"увеличить скорость\" in command:\n",
    "        print(\"Команда: Увеличение скорости локомотива.\")\n",
    "        # Здесь добавьте код для увеличения скорости\n",
    "    elif \"уменьшить скорость\" in command:\n",
    "        print(\"Команда: Уменьшение скорости локомотива.\")\n",
    "        # Здесь добавьте код для уменьшения скорости\n",
    "    else:\n",
    "        print(\"Неизвестная команда.\")\n",
    "\n",
    "if __name__ == \"__main__\":\n",
    "    recognize_commands()\n"
   ],
   "metadata": {
    "collapsed": false
   }
  }
 ],
 "metadata": {
  "kernelspec": {
   "display_name": "Python 3",
   "language": "python",
   "name": "python3"
  },
  "language_info": {
   "codemirror_mode": {
    "name": "ipython",
    "version": 2
   },
   "file_extension": ".py",
   "mimetype": "text/x-python",
   "name": "python",
   "nbconvert_exporter": "python",
   "pygments_lexer": "ipython2",
   "version": "2.7.6"
  }
 },
 "nbformat": 4,
 "nbformat_minor": 0
}
