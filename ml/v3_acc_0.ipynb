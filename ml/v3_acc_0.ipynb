{
 "cells": [
  {
   "cell_type": "markdown",
   "source": [
    "#### Импорт необходимых библиотек"
   ],
   "metadata": {
    "collapsed": false
   }
  },
  {
   "cell_type": "code",
   "execution_count": 40,
   "metadata": {
    "collapsed": true,
    "ExecuteTime": {
     "end_time": "2024-10-12T22:08:33.917351500Z",
     "start_time": "2024-10-12T22:08:33.595522Z"
    }
   },
   "outputs": [],
   "source": [
    "import json\n",
    "import os\n",
    "import jiwer as jiwer\n",
    "import torch\n",
    "import torch.nn as nn\n",
    "from torch.utils.data import Dataset, DataLoader\n",
    "from sklearn.model_selection import train_test_split\n",
    "from vosk import Model, KaldiRecognizer\n",
    "import wave\n",
    "import numpy as np\n",
    "from pydub import AudioSegment\n",
    "from sklearn.feature_extraction.text import TfidfVectorizer\n",
    "from fuzzywuzzy import process\n",
    "from transformers import BertTokenizer, BertModel\n",
    "import optuna\n",
    "from gensim.models import Word2Vec\n",
    "import librosa\n",
    "import soundfile as sf\n",
    "import random"
   ]
  },
  {
   "cell_type": "markdown",
   "source": [
    "#### Константы"
   ],
   "metadata": {
    "collapsed": false
   }
  },
  {
   "cell_type": "code",
   "execution_count": 41,
   "outputs": [],
   "source": [
    "# Константы\n",
    "DATA_DIR = '../data/train/'\n",
    "DATA_DIR_FILES = [\n",
    "    # 'hr_bot_clear',\n",
    "    # 'hr_bot_noise',\n",
    "    'hr_bot_synt'\n",
    "]\n",
    "ANNOTATION_DIR = '../data/train/annotation/'\n",
    "ANNOTATION_FILES = [\n",
    "    # 'hr_bot_clear.json',\n",
    "    # 'hr_bot_noise.json',\n",
    "    'hr_bot_synt.json'\n",
    "]\n",
    "\n",
    "VAL_DIR = '../data/val/luga/'  # Путь к валидационным данным\n",
    "ANNOTATION_VAL_FILE = os.path.join(VAL_DIR, 'luga.json')"
   ],
   "metadata": {
    "collapsed": false,
    "ExecuteTime": {
     "end_time": "2024-10-12T22:08:34.217615600Z",
     "start_time": "2024-10-12T22:08:33.676302200Z"
    }
   }
  },
  {
   "cell_type": "code",
   "execution_count": 42,
   "outputs": [
    {
     "name": "stdout",
     "output_type": "stream",
     "text": [
      "Модель Vosk загружена успешно.\n"
     ]
    }
   ],
   "source": [
    "# Настройка Vosk модели для распознавания речи\n",
    "MODEL_PATH = \"../model/vosk_model\"\n",
    "model = Model(MODEL_PATH)\n",
    "print(\"Модель Vosk загружена успешно.\")"
   ],
   "metadata": {
    "collapsed": false,
    "ExecuteTime": {
     "end_time": "2024-10-12T22:08:35.395159900Z",
     "start_time": "2024-10-12T22:08:33.697342400Z"
    }
   }
  },
  {
   "cell_type": "code",
   "execution_count": 43,
   "outputs": [],
   "source": [
    "# Метки команд\n",
    "_label = {\n",
    "    0: \"отказ\",\n",
    "    1: \"отмена\",\n",
    "    2: \"подтверждение\",\n",
    "    3: \"начать осаживание\",\n",
    "    4: \"осадить на (количество) вагон\",\n",
    "    5: \"продолжаем осаживание\",\n",
    "    6: \"зарядка тормозной магистрали\",\n",
    "    7: \"вышел из межвагонного пространства\",\n",
    "    8: \"продолжаем роспуск\",\n",
    "    9: \"растянуть автосцепки\",\n",
    "    10: \"протянуть на (количество) вагон\",\n",
    "    11: \"отцепка\",\n",
    "    12: \"назад на башмак\",\n",
    "    13: \"захожу в межвагонное пространство\",\n",
    "    14: \"остановка\",\n",
    "    15: \"вперед на башмак\",\n",
    "    16: \"сжать автосцепки\",\n",
    "    17: \"назад с башмака\",\n",
    "    18: \"тише\",\n",
    "    19: \"вперед с башмака\",\n",
    "    20: \"прекратить зарядку тормозной магистрали\",\n",
    "    21: \"тормозить\",\n",
    "    22: \"отпустить\",\n",
    "}"
   ],
   "metadata": {
    "collapsed": false,
    "ExecuteTime": {
     "end_time": "2024-10-12T22:08:35.397161500Z",
     "start_time": "2024-10-12T22:08:35.357532800Z"
    }
   }
  },
  {
   "cell_type": "markdown",
   "source": [
    "#### Объявление классов"
   ],
   "metadata": {
    "collapsed": false
   }
  },
  {
   "cell_type": "code",
   "execution_count": 44,
   "outputs": [],
   "source": [
    "# Датасет для классификации текста\n",
    "class TextDataset(Dataset):\n",
    "    def __init__(self, texts, labels):\n",
    "        self.texts = texts\n",
    "        self.labels = labels\n",
    "\n",
    "    def __len__(self):\n",
    "        return len(self.texts)\n",
    "\n",
    "    def __getitem__(self, idx):\n",
    "        return self.texts[idx], self.labels[idx]"
   ],
   "metadata": {
    "collapsed": false,
    "ExecuteTime": {
     "end_time": "2024-10-12T22:08:35.397161500Z",
     "start_time": "2024-10-12T22:08:35.372607Z"
    }
   }
  },
  {
   "cell_type": "code",
   "execution_count": 45,
   "outputs": [],
   "source": [
    "class TextClassifier(nn.Module):\n",
    "    def __init__(self, input_dim, hidden_dim, output_dim):\n",
    "        super(TextClassifier, self).__init__()\n",
    "        self.fc1 = nn.Linear(input_dim, hidden_dim)\n",
    "        self.relu = nn.ReLU()\n",
    "        self.fc2 = nn.Linear(hidden_dim, output_dim)  # output_dim соответствует количеству классов\n",
    "\n",
    "    def forward(self, x):\n",
    "        x = self.fc1(x)\n",
    "        x = self.relu(x)\n",
    "        x = self.fc2(x)\n",
    "        return x  # Возвращаем тензор с размером [batch_size, output_dim]"
   ],
   "metadata": {
    "collapsed": false,
    "ExecuteTime": {
     "end_time": "2024-10-12T22:08:35.532858400Z",
     "start_time": "2024-10-12T22:08:35.387101200Z"
    }
   }
  },
  {
   "cell_type": "markdown",
   "source": [
    "##### Объявление функций"
   ],
   "metadata": {
    "collapsed": false
   }
  },
  {
   "cell_type": "code",
   "execution_count": 46,
   "outputs": [],
   "source": [
    "# Функция для обработки аудиофайла\n",
    "def transcribe_audio(audio_file, dir):\n",
    "    wf = wave.open(f\"{dir}/{audio_file}\", \"rb\")\n",
    "    rec = KaldiRecognizer(model, wf.getframerate())\n",
    "\n",
    "    result_text = \"\"\n",
    "    while True:\n",
    "        data = wf.readframes(4000)\n",
    "        if len(data) == 0:\n",
    "            break\n",
    "        if rec.AcceptWaveform(data):\n",
    "            result = json.loads(rec.Result())\n",
    "            result_text += result.get(\"text\", \"\")\n",
    "\n",
    "    final_result = json.loads(rec.FinalResult())\n",
    "    result_text += final_result.get(\"text\", \"\")\n",
    "\n",
    "    return result_text"
   ],
   "metadata": {
    "collapsed": false,
    "ExecuteTime": {
     "end_time": "2024-10-12T22:08:35.533859100Z",
     "start_time": "2024-10-12T22:08:35.405679400Z"
    }
   }
  },
  {
   "cell_type": "code",
   "execution_count": 47,
   "outputs": [],
   "source": [
    "# Функция классификации текста\n",
    "def classify_text(text, classifier, tokenizer):\n",
    "    # Преобразование текста в вектор\n",
    "    text_vector = tokenizer.transform([text]).toarray()\n",
    "    text_tensor = torch.tensor(text_vector, dtype=torch.float32)\n",
    "\n",
    "    # Классификация текста\n",
    "    with torch.no_grad():\n",
    "        outputs = classifier(text_tensor)\n",
    "\n",
    "    _, predicted_class = torch.max(outputs, 1)\n",
    "\n",
    "    return predicted_class.item()"
   ],
   "metadata": {
    "collapsed": false,
    "ExecuteTime": {
     "end_time": "2024-10-12T22:08:35.533859100Z",
     "start_time": "2024-10-12T22:08:35.417211100Z"
    }
   }
  },
  {
   "cell_type": "code",
   "execution_count": 49,
   "outputs": [],
   "source": [
    "# Аугментация аудио\n",
    "def augment_audio(file_path):\n",
    "    # Загрузка аудио файла\n",
    "    audio, sr = librosa.load(file_path, sr=None)\n",
    "\n",
    "    # Добавление белого шума\n",
    "    noise = np.random.randn(len(audio))\n",
    "    augmented_audio = audio + 0.005 * noise\n",
    "\n",
    "    # Изменение скорости\n",
    "    augmented_audio_speed = librosa.effects.time_stretch(audio, rate=1.2)\n",
    "\n",
    "    # Сохранение аугментированного аудио с добавлением шума\n",
    "    augmented_file_path = file_path.replace('.wav', '_augmented.wav')\n",
    "    sf.write(augmented_file_path, augmented_audio, sr)\n",
    "\n",
    "    # Сохранение аугментированного аудио с изменённой скоростью\n",
    "    augmented_file_path_speed = file_path.replace('.wav', '_augmented_speed.wav')\n",
    "    sf.write(augmented_file_path_speed, augmented_audio_speed, sr)\n",
    "\n",
    "    return [augmented_file_path, augmented_file_path_speed]\n",
    "\n"
   ],
   "metadata": {
    "collapsed": false,
    "ExecuteTime": {
     "end_time": "2024-10-12T22:08:35.560017100Z",
     "start_time": "2024-10-12T22:08:35.449135600Z"
    }
   }
  },
  {
   "cell_type": "code",
   "execution_count": 50,
   "outputs": [],
   "source": [
    "# Загрузка аннотаций\n",
    "def load_annotations(file_path):\n",
    "    with open(file_path, 'r', encoding='utf-8') as f:\n",
    "        return json.load(f)"
   ],
   "metadata": {
    "collapsed": false,
    "ExecuteTime": {
     "end_time": "2024-10-12T22:08:35.560017100Z",
     "start_time": "2024-10-12T22:08:35.460657500Z"
    }
   }
  },
  {
   "cell_type": "code",
   "execution_count": 51,
   "outputs": [],
   "source": [
    "def encode_with_bert(text):\n",
    "    inputs = tokenizer(text, return_tensors='pt', padding=True, truncation=True)\n",
    "    with torch.no_grad():\n",
    "        outputs = bert_model(**inputs)\n",
    "    return outputs.last_hidden_state.mean(dim=1)"
   ],
   "metadata": {
    "collapsed": false,
    "ExecuteTime": {
     "end_time": "2024-10-12T22:08:35.561017400Z",
     "start_time": "2024-10-12T22:08:35.481285900Z"
    }
   }
  },
  {
   "cell_type": "code",
   "execution_count": 52,
   "outputs": [],
   "source": [
    "# Преобразование MP3 в WAV\n",
    "def convert_mp3_to_wav(mp3_filepath):\n",
    "    try:\n",
    "        # Убедимся, что pydub правильно обрабатывает MP3\n",
    "        if not mp3_filepath.endswith('.mp3'):\n",
    "            print(f\"Файл {mp3_filepath} не является MP3.\")\n",
    "            return None\n",
    "\n",
    "        wav_filepath = mp3_filepath.replace('.mp3', '.wav')\n",
    "        audio = AudioSegment.from_file(mp3_filepath)  # Используем from_file для универсальности\n",
    "        audio.export(wav_filepath, format='wav')\n",
    "        print(f\"Файл {mp3_filepath} успешно конвертирован в WAV: {wav_filepath}\")\n",
    "        return wav_filepath\n",
    "    except Exception as e:\n",
    "        print(f\"Ошибка при конвертации {mp3_filepath} в WAV: {e}\")\n",
    "        return None"
   ],
   "metadata": {
    "collapsed": false,
    "ExecuteTime": {
     "end_time": "2024-10-12T22:08:35.561017400Z",
     "start_time": "2024-10-12T22:08:35.494796700Z"
    }
   }
  },
  {
   "cell_type": "code",
   "execution_count": 53,
   "outputs": [],
   "source": [
    "def load_dataset():\n",
    "    audio_files = []\n",
    "    texts = []\n",
    "    labels = []\n",
    "\n",
    "    for annotation_file, data_dir in zip(ANNOTATION_FILES, DATA_DIR_FILES):\n",
    "        annotation_path = os.path.join(ANNOTATION_DIR, annotation_file)\n",
    "        print(f\"Загрузка аннотаций из: {annotation_path}\")\n",
    "        training_annotations = load_annotations(annotation_path)\n",
    "\n",
    "        for annotation in training_annotations:\n",
    "            audio_filepath = os.path.join(DATA_DIR, data_dir, annotation['audio_filepath'])\n",
    "            # Проверка существования файла перед конвертацией\n",
    "            if os.path.exists(audio_filepath):\n",
    "                if audio_filepath.endswith('.mp3'):\n",
    "                    audio_filepath = convert_mp3_to_wav(audio_filepath)\n",
    "\n",
    "                augmented_files = augment_audio(audio_filepath)  # Аугментация аудио\n",
    "                audio_files.extend(augmented_files)\n",
    "\n",
    "            else:\n",
    "                print(f\"Файл {audio_filepath} не найден.\")\n",
    "                continue  # Пропустить, если файл не найден\n",
    "\n",
    "\n",
    "            text = annotation['text']\n",
    "            label = annotation['label']\n",
    "            texts.extend([text] * len(augmented_files))  # Повторяем текст для каждого аугментированного файла\n",
    "            labels.extend([label] * len(augmented_files))\n",
    "\n",
    "    print(\"Загрузка датасета завершена.\")\n",
    "    return audio_files, texts, labels\n",
    "\n",
    "    print(\"Загрузка датасета завершена.\")\n",
    "    return audio_files, texts, labels"
   ],
   "metadata": {
    "collapsed": false,
    "ExecuteTime": {
     "end_time": "2024-10-12T22:08:35.561017400Z",
     "start_time": "2024-10-12T22:08:35.515836800Z"
    }
   }
  },
  {
   "cell_type": "code",
   "execution_count": 54,
   "outputs": [],
   "source": [
    "##### Подготовка настроек модели, создание модели"
   ],
   "metadata": {
    "collapsed": false,
    "ExecuteTime": {
     "end_time": "2024-10-12T22:08:35.561017400Z",
     "start_time": "2024-10-12T22:08:35.525333700Z"
    }
   }
  },
  {
   "cell_type": "code",
   "execution_count": 55,
   "outputs": [],
   "source": [
    "# Вычисление WER\n",
    "def calculate_wer(reference, hypothesis):\n",
    "    reference_words = reference.split()\n",
    "    hypothesis_words = hypothesis.split()\n",
    "\n",
    "    S = sum(1 for r, h in zip(reference_words, hypothesis_words) if r != h)\n",
    "    D = len(reference_words) - len(hypothesis_words) if len(reference_words) > len(hypothesis_words) else 0\n",
    "    I = len(hypothesis_words) - len(reference_words) if len(hypothesis_words) > len(reference_words) else 0\n",
    "    N = len(reference_words)\n",
    "\n",
    "    return (S + D + I) / N if N > 0 else 0\n"
   ],
   "metadata": {
    "collapsed": false,
    "ExecuteTime": {
     "end_time": "2024-10-12T22:08:35.699425300Z",
     "start_time": "2024-10-12T22:08:35.552954400Z"
    }
   }
  },
  {
   "cell_type": "code",
   "execution_count": 56,
   "outputs": [],
   "source": [
    "# Вычисление Mq\n",
    "def calculate_mq(wer, f1_weighted):\n",
    "    WERnorm = wer\n",
    "    return 0.25 * (1 - WERnorm) + 0.75 * f1_weighted"
   ],
   "metadata": {
    "collapsed": false,
    "ExecuteTime": {
     "end_time": "2024-10-12T22:08:35.699425300Z",
     "start_time": "2024-10-12T22:08:35.576558300Z"
    }
   }
  },
  {
   "cell_type": "code",
   "execution_count": 61,
   "outputs": [],
   "source": [
    "# В функции objective:\n",
    "def objective(trial):\n",
    "    hidden_dim = trial.suggest_int('hidden_dim', 32, 128)\n",
    "    learning_rate = trial.suggest_loguniform('learning_rate', 1e-5, 1e-1)\n",
    "    batch_size = trial.suggest_int('batch_size', 4, 16)\n",
    "\n",
    "    # Загрузка и подготовка данных\n",
    "    audio_files, texts, labels = load_dataset()\n",
    "    train_texts, test_texts, train_labels, test_labels = train_test_split(texts, labels, test_size=0.2)\n",
    "\n",
    "    # Генерация векторов BERT\n",
    "    bert_vectors = np.array([encode_with_bert(text).detach().numpy() for text in train_texts])\n",
    "\n",
    "    # Преобразование меток в тензор\n",
    "    train_labels = torch.tensor(train_labels, dtype=torch.long)  # Метки должны быть типа long\n",
    "\n",
    "    # Создание датасета и загрузчика\n",
    "    train_dataset = TextDataset(bert_vectors, train_labels)\n",
    "    train_loader = DataLoader(train_dataset, batch_size=batch_size, shuffle=True)\n",
    "\n",
    "    # Определение количества классов (например, 21)\n",
    "    num_classes = len(set(labels))\n",
    "\n",
    "    # Обучение модели\n",
    "    classifier = TextClassifier(input_dim=768, hidden_dim=hidden_dim, output_dim=num_classes)  # Количество классов\n",
    "    criterion = nn.CrossEntropyLoss()\n",
    "    optimizer = torch.optim.Adam(classifier.parameters(), lr=learning_rate)\n",
    "\n",
    "    for epoch in range(3):  # Можно увеличить количество эпох\n",
    "        for texts_batch, labels_batch in train_loader:\n",
    "            texts_batch = texts_batch.float()\n",
    "            optimizer.zero_grad()\n",
    "            outputs = classifier(texts_batch)\n",
    "\n",
    "            # Если метки представлены как one-hot векторы, преобразуем их в индексы\n",
    "            if labels_batch.ndim > 1:\n",
    "                labels_batch = torch.argmax(labels_batch, dim=1)  # Преобразование в индексы классов\n",
    "\n",
    "            loss = criterion(outputs, labels_batch)\n",
    "            loss.backward()\n",
    "            optimizer.step()\n",
    "\n",
    "    # Оценка модели на тестовом наборе\n",
    "    test_bert_vectors = np.array([encode_with_bert(text).detach().numpy() for text in test_texts])\n",
    "    test_dataset = TextDataset(test_bert_vectors, test_labels)\n",
    "    test_loader = DataLoader(test_dataset, batch_size=batch_size, shuffle=False)\n",
    "\n",
    "    all_predictions = []\n",
    "    all_labels = []\n",
    "\n",
    "    with torch.no_grad():\n",
    "        for texts_batch, labels_batch in test_loader:\n",
    "            texts_batch = texts_batch.float()\n",
    "            outputs = classifier(texts_batch)\n",
    "\n",
    "            # Получаем предсказанные классы\n",
    "            _, predicted = torch.max(outputs, 1)\n",
    "\n",
    "            all_predictions.extend(predicted.numpy())\n",
    "            all_labels.extend(labels_batch.numpy())\n",
    "\n",
    "    # Вычисление метрик\n",
    "    f1_weighted = f1_score(all_labels, all_predictions, average='weighted')\n",
    "    precision = precision_score(all_labels, all_predictions, average='weighted')\n",
    "    recall = recall_score(all_labels, all_predictions, average='weighted')\n",
    "\n",
    "    # Расчет WER и Mq\n",
    "    wer = calculate_wer(\" \".join(test_texts), \" \".join([tokenizer.decode(pred) for pred in all_predictions]))\n",
    "    mq = calculate_mq(wer, f1_weighted)\n",
    "\n",
    "    print(f'F1-Weighted: {f1_weighted}, Precision: {precision}, Recall: {recall}, WER: {wer}, Mq: {mq}')\n",
    "\n",
    "    return f1_weighted"
   ],
   "metadata": {
    "collapsed": false,
    "ExecuteTime": {
     "end_time": "2024-10-12T22:27:02.065790700Z",
     "start_time": "2024-10-12T22:27:01.932969500Z"
    }
   }
  },
  {
   "cell_type": "code",
   "execution_count": 62,
   "outputs": [],
   "source": [
    "# Использование BERT для контекстуальной векторизации\n",
    "tokenizer = BertTokenizer.from_pretrained('bert-base-uncased')\n",
    "bert_model = BertModel.from_pretrained('bert-base-uncased')"
   ],
   "metadata": {
    "collapsed": false,
    "ExecuteTime": {
     "end_time": "2024-10-12T22:27:04.333298Z",
     "start_time": "2024-10-12T22:27:03.081289400Z"
    }
   }
  },
  {
   "cell_type": "code",
   "execution_count": 63,
   "outputs": [
    {
     "name": "stderr",
     "output_type": "stream",
     "text": [
      "[I 2024-10-13 01:27:04,903] A new study created in memory with name: no-name-c279418f-fa14-427c-a88a-9f12c2c8da9c\n",
      "C:\\Users\\nikit\\AppData\\Local\\Temp\\ipykernel_30368\\2379490164.py:4: FutureWarning: suggest_loguniform has been deprecated in v3.0.0. This feature will be removed in v6.0.0. See https://github.com/optuna/optuna/releases/tag/v3.0.0. Use suggest_float(..., log=True) instead.\n",
      "  learning_rate = trial.suggest_loguniform('learning_rate', 1e-5, 1e-1)\n"
     ]
    },
    {
     "name": "stdout",
     "output_type": "stream",
     "text": [
      "Загрузка аннотаций из: ../data/train/annotation/hr_bot_synt.json\n",
      "Загрузка датасета завершена.\n"
     ]
    },
    {
     "name": "stderr",
     "output_type": "stream",
     "text": [
      "[W 2024-10-13 01:37:30,144] Trial 0 failed with parameters: {'hidden_dim': 75, 'learning_rate': 6.945649213089256e-05, 'batch_size': 16} because of the following error: RuntimeError('Expected target size [16, 21], got [16]').\n",
      "Traceback (most recent call last):\n",
      "  File \"D:\\russian_railways\\002_train_operator_console\\venv\\lib\\site-packages\\optuna\\study\\_optimize.py\", line 197, in _run_trial\n",
      "    value_or_values = func(trial)\n",
      "  File \"C:\\Users\\nikit\\AppData\\Local\\Temp\\ipykernel_30368\\2379490164.py\", line 39, in objective\n",
      "    loss = criterion(outputs, labels_batch)\n",
      "  File \"D:\\russian_railways\\002_train_operator_console\\venv\\lib\\site-packages\\torch\\nn\\modules\\module.py\", line 1553, in _wrapped_call_impl\n",
      "    return self._call_impl(*args, **kwargs)\n",
      "  File \"D:\\russian_railways\\002_train_operator_console\\venv\\lib\\site-packages\\torch\\nn\\modules\\module.py\", line 1562, in _call_impl\n",
      "    return forward_call(*args, **kwargs)\n",
      "  File \"D:\\russian_railways\\002_train_operator_console\\venv\\lib\\site-packages\\torch\\nn\\modules\\loss.py\", line 1188, in forward\n",
      "    return F.cross_entropy(input, target, weight=self.weight,\n",
      "  File \"D:\\russian_railways\\002_train_operator_console\\venv\\lib\\site-packages\\torch\\nn\\functional.py\", line 3104, in cross_entropy\n",
      "    return torch._C._nn.cross_entropy_loss(input, target, weight, _Reduction.get_enum(reduction), ignore_index, label_smoothing)\n",
      "RuntimeError: Expected target size [16, 21], got [16]\n",
      "[W 2024-10-13 01:37:30,146] Trial 0 failed with value None.\n"
     ]
    },
    {
     "ename": "RuntimeError",
     "evalue": "Expected target size [16, 21], got [16]",
     "output_type": "error",
     "traceback": [
      "\u001B[1;31m---------------------------------------------------------------------------\u001B[0m",
      "\u001B[1;31mRuntimeError\u001B[0m                              Traceback (most recent call last)",
      "Cell \u001B[1;32mIn[63], line 3\u001B[0m\n\u001B[0;32m      1\u001B[0m \u001B[38;5;66;03m# Запуск оптимизации гиперпараметров\u001B[39;00m\n\u001B[0;32m      2\u001B[0m study \u001B[38;5;241m=\u001B[39m optuna\u001B[38;5;241m.\u001B[39mcreate_study(direction\u001B[38;5;241m=\u001B[39m\u001B[38;5;124m'\u001B[39m\u001B[38;5;124mmaximize\u001B[39m\u001B[38;5;124m'\u001B[39m)\n\u001B[1;32m----> 3\u001B[0m \u001B[43mstudy\u001B[49m\u001B[38;5;241;43m.\u001B[39;49m\u001B[43moptimize\u001B[49m\u001B[43m(\u001B[49m\u001B[43mobjective\u001B[49m\u001B[43m,\u001B[49m\u001B[43m \u001B[49m\u001B[43mn_trials\u001B[49m\u001B[38;5;241;43m=\u001B[39;49m\u001B[38;5;241;43m10\u001B[39;49m\u001B[43m)\u001B[49m\n\u001B[0;32m      5\u001B[0m \u001B[38;5;28mprint\u001B[39m(\u001B[38;5;124m\"\u001B[39m\u001B[38;5;124mЛучшие гиперпараметры: \u001B[39m\u001B[38;5;124m\"\u001B[39m, study\u001B[38;5;241m.\u001B[39mbest_params)\n",
      "File \u001B[1;32mD:\\russian_railways\\002_train_operator_console\\venv\\lib\\site-packages\\optuna\\study\\study.py:475\u001B[0m, in \u001B[0;36mStudy.optimize\u001B[1;34m(self, func, n_trials, timeout, n_jobs, catch, callbacks, gc_after_trial, show_progress_bar)\u001B[0m\n\u001B[0;32m    373\u001B[0m \u001B[38;5;28;01mdef\u001B[39;00m \u001B[38;5;21moptimize\u001B[39m(\n\u001B[0;32m    374\u001B[0m     \u001B[38;5;28mself\u001B[39m,\n\u001B[0;32m    375\u001B[0m     func: ObjectiveFuncType,\n\u001B[1;32m   (...)\u001B[0m\n\u001B[0;32m    382\u001B[0m     show_progress_bar: \u001B[38;5;28mbool\u001B[39m \u001B[38;5;241m=\u001B[39m \u001B[38;5;28;01mFalse\u001B[39;00m,\n\u001B[0;32m    383\u001B[0m ) \u001B[38;5;241m-\u001B[39m\u001B[38;5;241m>\u001B[39m \u001B[38;5;28;01mNone\u001B[39;00m:\n\u001B[0;32m    384\u001B[0m \u001B[38;5;250m    \u001B[39m\u001B[38;5;124;03m\"\"\"Optimize an objective function.\u001B[39;00m\n\u001B[0;32m    385\u001B[0m \n\u001B[0;32m    386\u001B[0m \u001B[38;5;124;03m    Optimization is done by choosing a suitable set of hyperparameter values from a given\u001B[39;00m\n\u001B[1;32m   (...)\u001B[0m\n\u001B[0;32m    473\u001B[0m \u001B[38;5;124;03m            If nested invocation of this method occurs.\u001B[39;00m\n\u001B[0;32m    474\u001B[0m \u001B[38;5;124;03m    \"\"\"\u001B[39;00m\n\u001B[1;32m--> 475\u001B[0m     \u001B[43m_optimize\u001B[49m\u001B[43m(\u001B[49m\n\u001B[0;32m    476\u001B[0m \u001B[43m        \u001B[49m\u001B[43mstudy\u001B[49m\u001B[38;5;241;43m=\u001B[39;49m\u001B[38;5;28;43mself\u001B[39;49m\u001B[43m,\u001B[49m\n\u001B[0;32m    477\u001B[0m \u001B[43m        \u001B[49m\u001B[43mfunc\u001B[49m\u001B[38;5;241;43m=\u001B[39;49m\u001B[43mfunc\u001B[49m\u001B[43m,\u001B[49m\n\u001B[0;32m    478\u001B[0m \u001B[43m        \u001B[49m\u001B[43mn_trials\u001B[49m\u001B[38;5;241;43m=\u001B[39;49m\u001B[43mn_trials\u001B[49m\u001B[43m,\u001B[49m\n\u001B[0;32m    479\u001B[0m \u001B[43m        \u001B[49m\u001B[43mtimeout\u001B[49m\u001B[38;5;241;43m=\u001B[39;49m\u001B[43mtimeout\u001B[49m\u001B[43m,\u001B[49m\n\u001B[0;32m    480\u001B[0m \u001B[43m        \u001B[49m\u001B[43mn_jobs\u001B[49m\u001B[38;5;241;43m=\u001B[39;49m\u001B[43mn_jobs\u001B[49m\u001B[43m,\u001B[49m\n\u001B[0;32m    481\u001B[0m \u001B[43m        \u001B[49m\u001B[43mcatch\u001B[49m\u001B[38;5;241;43m=\u001B[39;49m\u001B[38;5;28;43mtuple\u001B[39;49m\u001B[43m(\u001B[49m\u001B[43mcatch\u001B[49m\u001B[43m)\u001B[49m\u001B[43m \u001B[49m\u001B[38;5;28;43;01mif\u001B[39;49;00m\u001B[43m \u001B[49m\u001B[38;5;28;43misinstance\u001B[39;49m\u001B[43m(\u001B[49m\u001B[43mcatch\u001B[49m\u001B[43m,\u001B[49m\u001B[43m \u001B[49m\u001B[43mIterable\u001B[49m\u001B[43m)\u001B[49m\u001B[43m \u001B[49m\u001B[38;5;28;43;01melse\u001B[39;49;00m\u001B[43m \u001B[49m\u001B[43m(\u001B[49m\u001B[43mcatch\u001B[49m\u001B[43m,\u001B[49m\u001B[43m)\u001B[49m\u001B[43m,\u001B[49m\n\u001B[0;32m    482\u001B[0m \u001B[43m        \u001B[49m\u001B[43mcallbacks\u001B[49m\u001B[38;5;241;43m=\u001B[39;49m\u001B[43mcallbacks\u001B[49m\u001B[43m,\u001B[49m\n\u001B[0;32m    483\u001B[0m \u001B[43m        \u001B[49m\u001B[43mgc_after_trial\u001B[49m\u001B[38;5;241;43m=\u001B[39;49m\u001B[43mgc_after_trial\u001B[49m\u001B[43m,\u001B[49m\n\u001B[0;32m    484\u001B[0m \u001B[43m        \u001B[49m\u001B[43mshow_progress_bar\u001B[49m\u001B[38;5;241;43m=\u001B[39;49m\u001B[43mshow_progress_bar\u001B[49m\u001B[43m,\u001B[49m\n\u001B[0;32m    485\u001B[0m \u001B[43m    \u001B[49m\u001B[43m)\u001B[49m\n",
      "File \u001B[1;32mD:\\russian_railways\\002_train_operator_console\\venv\\lib\\site-packages\\optuna\\study\\_optimize.py:63\u001B[0m, in \u001B[0;36m_optimize\u001B[1;34m(study, func, n_trials, timeout, n_jobs, catch, callbacks, gc_after_trial, show_progress_bar)\u001B[0m\n\u001B[0;32m     61\u001B[0m \u001B[38;5;28;01mtry\u001B[39;00m:\n\u001B[0;32m     62\u001B[0m     \u001B[38;5;28;01mif\u001B[39;00m n_jobs \u001B[38;5;241m==\u001B[39m \u001B[38;5;241m1\u001B[39m:\n\u001B[1;32m---> 63\u001B[0m         \u001B[43m_optimize_sequential\u001B[49m\u001B[43m(\u001B[49m\n\u001B[0;32m     64\u001B[0m \u001B[43m            \u001B[49m\u001B[43mstudy\u001B[49m\u001B[43m,\u001B[49m\n\u001B[0;32m     65\u001B[0m \u001B[43m            \u001B[49m\u001B[43mfunc\u001B[49m\u001B[43m,\u001B[49m\n\u001B[0;32m     66\u001B[0m \u001B[43m            \u001B[49m\u001B[43mn_trials\u001B[49m\u001B[43m,\u001B[49m\n\u001B[0;32m     67\u001B[0m \u001B[43m            \u001B[49m\u001B[43mtimeout\u001B[49m\u001B[43m,\u001B[49m\n\u001B[0;32m     68\u001B[0m \u001B[43m            \u001B[49m\u001B[43mcatch\u001B[49m\u001B[43m,\u001B[49m\n\u001B[0;32m     69\u001B[0m \u001B[43m            \u001B[49m\u001B[43mcallbacks\u001B[49m\u001B[43m,\u001B[49m\n\u001B[0;32m     70\u001B[0m \u001B[43m            \u001B[49m\u001B[43mgc_after_trial\u001B[49m\u001B[43m,\u001B[49m\n\u001B[0;32m     71\u001B[0m \u001B[43m            \u001B[49m\u001B[43mreseed_sampler_rng\u001B[49m\u001B[38;5;241;43m=\u001B[39;49m\u001B[38;5;28;43;01mFalse\u001B[39;49;00m\u001B[43m,\u001B[49m\n\u001B[0;32m     72\u001B[0m \u001B[43m            \u001B[49m\u001B[43mtime_start\u001B[49m\u001B[38;5;241;43m=\u001B[39;49m\u001B[38;5;28;43;01mNone\u001B[39;49;00m\u001B[43m,\u001B[49m\n\u001B[0;32m     73\u001B[0m \u001B[43m            \u001B[49m\u001B[43mprogress_bar\u001B[49m\u001B[38;5;241;43m=\u001B[39;49m\u001B[43mprogress_bar\u001B[49m\u001B[43m,\u001B[49m\n\u001B[0;32m     74\u001B[0m \u001B[43m        \u001B[49m\u001B[43m)\u001B[49m\n\u001B[0;32m     75\u001B[0m     \u001B[38;5;28;01melse\u001B[39;00m:\n\u001B[0;32m     76\u001B[0m         \u001B[38;5;28;01mif\u001B[39;00m n_jobs \u001B[38;5;241m==\u001B[39m \u001B[38;5;241m-\u001B[39m\u001B[38;5;241m1\u001B[39m:\n",
      "File \u001B[1;32mD:\\russian_railways\\002_train_operator_console\\venv\\lib\\site-packages\\optuna\\study\\_optimize.py:160\u001B[0m, in \u001B[0;36m_optimize_sequential\u001B[1;34m(study, func, n_trials, timeout, catch, callbacks, gc_after_trial, reseed_sampler_rng, time_start, progress_bar)\u001B[0m\n\u001B[0;32m    157\u001B[0m         \u001B[38;5;28;01mbreak\u001B[39;00m\n\u001B[0;32m    159\u001B[0m \u001B[38;5;28;01mtry\u001B[39;00m:\n\u001B[1;32m--> 160\u001B[0m     frozen_trial \u001B[38;5;241m=\u001B[39m \u001B[43m_run_trial\u001B[49m\u001B[43m(\u001B[49m\u001B[43mstudy\u001B[49m\u001B[43m,\u001B[49m\u001B[43m \u001B[49m\u001B[43mfunc\u001B[49m\u001B[43m,\u001B[49m\u001B[43m \u001B[49m\u001B[43mcatch\u001B[49m\u001B[43m)\u001B[49m\n\u001B[0;32m    161\u001B[0m \u001B[38;5;28;01mfinally\u001B[39;00m:\n\u001B[0;32m    162\u001B[0m     \u001B[38;5;66;03m# The following line mitigates memory problems that can be occurred in some\u001B[39;00m\n\u001B[0;32m    163\u001B[0m     \u001B[38;5;66;03m# environments (e.g., services that use computing containers such as GitHub Actions).\u001B[39;00m\n\u001B[0;32m    164\u001B[0m     \u001B[38;5;66;03m# Please refer to the following PR for further details:\u001B[39;00m\n\u001B[0;32m    165\u001B[0m     \u001B[38;5;66;03m# https://github.com/optuna/optuna/pull/325.\u001B[39;00m\n\u001B[0;32m    166\u001B[0m     \u001B[38;5;28;01mif\u001B[39;00m gc_after_trial:\n",
      "File \u001B[1;32mD:\\russian_railways\\002_train_operator_console\\venv\\lib\\site-packages\\optuna\\study\\_optimize.py:248\u001B[0m, in \u001B[0;36m_run_trial\u001B[1;34m(study, func, catch)\u001B[0m\n\u001B[0;32m    241\u001B[0m         \u001B[38;5;28;01massert\u001B[39;00m \u001B[38;5;28;01mFalse\u001B[39;00m, \u001B[38;5;124m\"\u001B[39m\u001B[38;5;124mShould not reach.\u001B[39m\u001B[38;5;124m\"\u001B[39m\n\u001B[0;32m    243\u001B[0m \u001B[38;5;28;01mif\u001B[39;00m (\n\u001B[0;32m    244\u001B[0m     frozen_trial\u001B[38;5;241m.\u001B[39mstate \u001B[38;5;241m==\u001B[39m TrialState\u001B[38;5;241m.\u001B[39mFAIL\n\u001B[0;32m    245\u001B[0m     \u001B[38;5;129;01mand\u001B[39;00m func_err \u001B[38;5;129;01mis\u001B[39;00m \u001B[38;5;129;01mnot\u001B[39;00m \u001B[38;5;28;01mNone\u001B[39;00m\n\u001B[0;32m    246\u001B[0m     \u001B[38;5;129;01mand\u001B[39;00m \u001B[38;5;129;01mnot\u001B[39;00m \u001B[38;5;28misinstance\u001B[39m(func_err, catch)\n\u001B[0;32m    247\u001B[0m ):\n\u001B[1;32m--> 248\u001B[0m     \u001B[38;5;28;01mraise\u001B[39;00m func_err\n\u001B[0;32m    249\u001B[0m \u001B[38;5;28;01mreturn\u001B[39;00m frozen_trial\n",
      "File \u001B[1;32mD:\\russian_railways\\002_train_operator_console\\venv\\lib\\site-packages\\optuna\\study\\_optimize.py:197\u001B[0m, in \u001B[0;36m_run_trial\u001B[1;34m(study, func, catch)\u001B[0m\n\u001B[0;32m    195\u001B[0m \u001B[38;5;28;01mwith\u001B[39;00m get_heartbeat_thread(trial\u001B[38;5;241m.\u001B[39m_trial_id, study\u001B[38;5;241m.\u001B[39m_storage):\n\u001B[0;32m    196\u001B[0m     \u001B[38;5;28;01mtry\u001B[39;00m:\n\u001B[1;32m--> 197\u001B[0m         value_or_values \u001B[38;5;241m=\u001B[39m \u001B[43mfunc\u001B[49m\u001B[43m(\u001B[49m\u001B[43mtrial\u001B[49m\u001B[43m)\u001B[49m\n\u001B[0;32m    198\u001B[0m     \u001B[38;5;28;01mexcept\u001B[39;00m exceptions\u001B[38;5;241m.\u001B[39mTrialPruned \u001B[38;5;28;01mas\u001B[39;00m e:\n\u001B[0;32m    199\u001B[0m         \u001B[38;5;66;03m# TODO(mamu): Handle multi-objective cases.\u001B[39;00m\n\u001B[0;32m    200\u001B[0m         state \u001B[38;5;241m=\u001B[39m TrialState\u001B[38;5;241m.\u001B[39mPRUNED\n",
      "Cell \u001B[1;32mIn[61], line 39\u001B[0m, in \u001B[0;36mobjective\u001B[1;34m(trial)\u001B[0m\n\u001B[0;32m     36\u001B[0m \u001B[38;5;28;01mif\u001B[39;00m labels_batch\u001B[38;5;241m.\u001B[39mndim \u001B[38;5;241m>\u001B[39m \u001B[38;5;241m1\u001B[39m:\n\u001B[0;32m     37\u001B[0m     labels_batch \u001B[38;5;241m=\u001B[39m torch\u001B[38;5;241m.\u001B[39margmax(labels_batch, dim\u001B[38;5;241m=\u001B[39m\u001B[38;5;241m1\u001B[39m)  \u001B[38;5;66;03m# Преобразование в индексы классов\u001B[39;00m\n\u001B[1;32m---> 39\u001B[0m loss \u001B[38;5;241m=\u001B[39m \u001B[43mcriterion\u001B[49m\u001B[43m(\u001B[49m\u001B[43moutputs\u001B[49m\u001B[43m,\u001B[49m\u001B[43m \u001B[49m\u001B[43mlabels_batch\u001B[49m\u001B[43m)\u001B[49m\n\u001B[0;32m     40\u001B[0m loss\u001B[38;5;241m.\u001B[39mbackward()\n\u001B[0;32m     41\u001B[0m optimizer\u001B[38;5;241m.\u001B[39mstep()\n",
      "File \u001B[1;32mD:\\russian_railways\\002_train_operator_console\\venv\\lib\\site-packages\\torch\\nn\\modules\\module.py:1553\u001B[0m, in \u001B[0;36mModule._wrapped_call_impl\u001B[1;34m(self, *args, **kwargs)\u001B[0m\n\u001B[0;32m   1551\u001B[0m     \u001B[38;5;28;01mreturn\u001B[39;00m \u001B[38;5;28mself\u001B[39m\u001B[38;5;241m.\u001B[39m_compiled_call_impl(\u001B[38;5;241m*\u001B[39margs, \u001B[38;5;241m*\u001B[39m\u001B[38;5;241m*\u001B[39mkwargs)  \u001B[38;5;66;03m# type: ignore[misc]\u001B[39;00m\n\u001B[0;32m   1552\u001B[0m \u001B[38;5;28;01melse\u001B[39;00m:\n\u001B[1;32m-> 1553\u001B[0m     \u001B[38;5;28;01mreturn\u001B[39;00m \u001B[38;5;28mself\u001B[39m\u001B[38;5;241m.\u001B[39m_call_impl(\u001B[38;5;241m*\u001B[39margs, \u001B[38;5;241m*\u001B[39m\u001B[38;5;241m*\u001B[39mkwargs)\n",
      "File \u001B[1;32mD:\\russian_railways\\002_train_operator_console\\venv\\lib\\site-packages\\torch\\nn\\modules\\module.py:1562\u001B[0m, in \u001B[0;36mModule._call_impl\u001B[1;34m(self, *args, **kwargs)\u001B[0m\n\u001B[0;32m   1557\u001B[0m \u001B[38;5;66;03m# If we don't have any hooks, we want to skip the rest of the logic in\u001B[39;00m\n\u001B[0;32m   1558\u001B[0m \u001B[38;5;66;03m# this function, and just call forward.\u001B[39;00m\n\u001B[0;32m   1559\u001B[0m \u001B[38;5;28;01mif\u001B[39;00m \u001B[38;5;129;01mnot\u001B[39;00m (\u001B[38;5;28mself\u001B[39m\u001B[38;5;241m.\u001B[39m_backward_hooks \u001B[38;5;129;01mor\u001B[39;00m \u001B[38;5;28mself\u001B[39m\u001B[38;5;241m.\u001B[39m_backward_pre_hooks \u001B[38;5;129;01mor\u001B[39;00m \u001B[38;5;28mself\u001B[39m\u001B[38;5;241m.\u001B[39m_forward_hooks \u001B[38;5;129;01mor\u001B[39;00m \u001B[38;5;28mself\u001B[39m\u001B[38;5;241m.\u001B[39m_forward_pre_hooks\n\u001B[0;32m   1560\u001B[0m         \u001B[38;5;129;01mor\u001B[39;00m _global_backward_pre_hooks \u001B[38;5;129;01mor\u001B[39;00m _global_backward_hooks\n\u001B[0;32m   1561\u001B[0m         \u001B[38;5;129;01mor\u001B[39;00m _global_forward_hooks \u001B[38;5;129;01mor\u001B[39;00m _global_forward_pre_hooks):\n\u001B[1;32m-> 1562\u001B[0m     \u001B[38;5;28;01mreturn\u001B[39;00m forward_call(\u001B[38;5;241m*\u001B[39margs, \u001B[38;5;241m*\u001B[39m\u001B[38;5;241m*\u001B[39mkwargs)\n\u001B[0;32m   1564\u001B[0m \u001B[38;5;28;01mtry\u001B[39;00m:\n\u001B[0;32m   1565\u001B[0m     result \u001B[38;5;241m=\u001B[39m \u001B[38;5;28;01mNone\u001B[39;00m\n",
      "File \u001B[1;32mD:\\russian_railways\\002_train_operator_console\\venv\\lib\\site-packages\\torch\\nn\\modules\\loss.py:1188\u001B[0m, in \u001B[0;36mCrossEntropyLoss.forward\u001B[1;34m(self, input, target)\u001B[0m\n\u001B[0;32m   1187\u001B[0m \u001B[38;5;28;01mdef\u001B[39;00m \u001B[38;5;21mforward\u001B[39m(\u001B[38;5;28mself\u001B[39m, \u001B[38;5;28minput\u001B[39m: Tensor, target: Tensor) \u001B[38;5;241m-\u001B[39m\u001B[38;5;241m>\u001B[39m Tensor:\n\u001B[1;32m-> 1188\u001B[0m     \u001B[38;5;28;01mreturn\u001B[39;00m \u001B[43mF\u001B[49m\u001B[38;5;241;43m.\u001B[39;49m\u001B[43mcross_entropy\u001B[49m\u001B[43m(\u001B[49m\u001B[38;5;28;43minput\u001B[39;49m\u001B[43m,\u001B[49m\u001B[43m \u001B[49m\u001B[43mtarget\u001B[49m\u001B[43m,\u001B[49m\u001B[43m \u001B[49m\u001B[43mweight\u001B[49m\u001B[38;5;241;43m=\u001B[39;49m\u001B[38;5;28;43mself\u001B[39;49m\u001B[38;5;241;43m.\u001B[39;49m\u001B[43mweight\u001B[49m\u001B[43m,\u001B[49m\n\u001B[0;32m   1189\u001B[0m \u001B[43m                           \u001B[49m\u001B[43mignore_index\u001B[49m\u001B[38;5;241;43m=\u001B[39;49m\u001B[38;5;28;43mself\u001B[39;49m\u001B[38;5;241;43m.\u001B[39;49m\u001B[43mignore_index\u001B[49m\u001B[43m,\u001B[49m\u001B[43m \u001B[49m\u001B[43mreduction\u001B[49m\u001B[38;5;241;43m=\u001B[39;49m\u001B[38;5;28;43mself\u001B[39;49m\u001B[38;5;241;43m.\u001B[39;49m\u001B[43mreduction\u001B[49m\u001B[43m,\u001B[49m\n\u001B[0;32m   1190\u001B[0m \u001B[43m                           \u001B[49m\u001B[43mlabel_smoothing\u001B[49m\u001B[38;5;241;43m=\u001B[39;49m\u001B[38;5;28;43mself\u001B[39;49m\u001B[38;5;241;43m.\u001B[39;49m\u001B[43mlabel_smoothing\u001B[49m\u001B[43m)\u001B[49m\n",
      "File \u001B[1;32mD:\\russian_railways\\002_train_operator_console\\venv\\lib\\site-packages\\torch\\nn\\functional.py:3104\u001B[0m, in \u001B[0;36mcross_entropy\u001B[1;34m(input, target, weight, size_average, ignore_index, reduce, reduction, label_smoothing)\u001B[0m\n\u001B[0;32m   3102\u001B[0m \u001B[38;5;28;01mif\u001B[39;00m size_average \u001B[38;5;129;01mis\u001B[39;00m \u001B[38;5;129;01mnot\u001B[39;00m \u001B[38;5;28;01mNone\u001B[39;00m \u001B[38;5;129;01mor\u001B[39;00m reduce \u001B[38;5;129;01mis\u001B[39;00m \u001B[38;5;129;01mnot\u001B[39;00m \u001B[38;5;28;01mNone\u001B[39;00m:\n\u001B[0;32m   3103\u001B[0m     reduction \u001B[38;5;241m=\u001B[39m _Reduction\u001B[38;5;241m.\u001B[39mlegacy_get_string(size_average, reduce)\n\u001B[1;32m-> 3104\u001B[0m \u001B[38;5;28;01mreturn\u001B[39;00m \u001B[43mtorch\u001B[49m\u001B[38;5;241;43m.\u001B[39;49m\u001B[43m_C\u001B[49m\u001B[38;5;241;43m.\u001B[39;49m\u001B[43m_nn\u001B[49m\u001B[38;5;241;43m.\u001B[39;49m\u001B[43mcross_entropy_loss\u001B[49m\u001B[43m(\u001B[49m\u001B[38;5;28;43minput\u001B[39;49m\u001B[43m,\u001B[49m\u001B[43m \u001B[49m\u001B[43mtarget\u001B[49m\u001B[43m,\u001B[49m\u001B[43m \u001B[49m\u001B[43mweight\u001B[49m\u001B[43m,\u001B[49m\u001B[43m \u001B[49m\u001B[43m_Reduction\u001B[49m\u001B[38;5;241;43m.\u001B[39;49m\u001B[43mget_enum\u001B[49m\u001B[43m(\u001B[49m\u001B[43mreduction\u001B[49m\u001B[43m)\u001B[49m\u001B[43m,\u001B[49m\u001B[43m \u001B[49m\u001B[43mignore_index\u001B[49m\u001B[43m,\u001B[49m\u001B[43m \u001B[49m\u001B[43mlabel_smoothing\u001B[49m\u001B[43m)\u001B[49m\n",
      "\u001B[1;31mRuntimeError\u001B[0m: Expected target size [16, 21], got [16]"
     ]
    }
   ],
   "source": [
    "# Запуск оптимизации гиперпараметров\n",
    "study = optuna.create_study(direction='maximize')\n",
    "study.optimize(objective, n_trials=10)\n",
    "\n",
    "print(\"Лучшие гиперпараметры: \", study.best_params)"
   ],
   "metadata": {
    "collapsed": false,
    "ExecuteTime": {
     "end_time": "2024-10-12T22:37:30.392714400Z",
     "start_time": "2024-10-12T22:27:04.905248600Z"
    }
   }
  },
  {
   "cell_type": "code",
   "execution_count": null,
   "outputs": [],
   "source": [],
   "metadata": {
    "collapsed": false,
    "ExecuteTime": {
     "start_time": "2024-10-12T22:19:33.829868Z"
    }
   }
  }
 ],
 "metadata": {
  "kernelspec": {
   "display_name": "Python 3",
   "language": "python",
   "name": "python3"
  },
  "language_info": {
   "codemirror_mode": {
    "name": "ipython",
    "version": 2
   },
   "file_extension": ".py",
   "mimetype": "text/x-python",
   "name": "python",
   "nbconvert_exporter": "python",
   "pygments_lexer": "ipython2",
   "version": "2.7.6"
  }
 },
 "nbformat": 4,
 "nbformat_minor": 0
}
