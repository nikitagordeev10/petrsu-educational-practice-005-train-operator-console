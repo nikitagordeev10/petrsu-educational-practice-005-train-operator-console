{
 "cells": [
  {
   "cell_type": "markdown",
   "source": [
    "#### Импорт необходимых библиотек"
   ],
   "metadata": {
    "collapsed": false
   }
  },
  {
   "cell_type": "code",
   "execution_count": 102,
   "metadata": {
    "collapsed": true,
    "ExecuteTime": {
     "end_time": "2024-10-12T23:14:20.891681900Z",
     "start_time": "2024-10-12T23:14:20.705296600Z"
    }
   },
   "outputs": [],
   "source": [
    "import json\n",
    "import os\n",
    "import jiwer as jiwer\n",
    "import torch\n",
    "import torch.nn as nn\n",
    "from torch.utils.data import Dataset, DataLoader\n",
    "from sklearn.model_selection import train_test_split\n",
    "from vosk import Model, KaldiRecognizer\n",
    "import wave\n",
    "import numpy as np\n",
    "from pydub import AudioSegment\n",
    "from sklearn.feature_extraction.text import TfidfVectorizer\n",
    "from fuzzywuzzy import process\n",
    "from transformers import BertTokenizer, BertModel\n",
    "import optuna\n",
    "from gensim.models import Word2Vec\n",
    "import librosa\n",
    "import soundfile as sf\n",
    "import random\n",
    "from sklearn.metrics import f1_score, precision_score, recall_score\n",
    "from scipy import signal"
   ]
  },
  {
   "cell_type": "markdown",
   "source": [
    "#### Константы"
   ],
   "metadata": {
    "collapsed": false
   }
  },
  {
   "cell_type": "code",
   "execution_count": 85,
   "outputs": [],
   "source": [
    "# Константы\n",
    "DATA_DIR = '../data/train/'\n",
    "DATA_DIR_FILES = [\n",
    "    # 'hr_bot_clear',\n",
    "    # 'hr_bot_noise',\n",
    "    'hr_bot_synt'\n",
    "]\n",
    "ANNOTATION_DIR = '../data/train/annotation/'\n",
    "ANNOTATION_FILES = [\n",
    "    # 'hr_bot_clear.json',\n",
    "    # 'hr_bot_noise.json',\n",
    "    'hr_bot_synt.json'\n",
    "]\n",
    "\n",
    "VAL_DIR = '../data/val/luga/'  # Путь к валидационным данным\n",
    "ANNOTATION_VAL_FILE = os.path.join(VAL_DIR, 'luga.json')"
   ],
   "metadata": {
    "collapsed": false,
    "ExecuteTime": {
     "end_time": "2024-10-12T23:08:28.377069Z",
     "start_time": "2024-10-12T23:08:27.496884300Z"
    }
   }
  },
  {
   "cell_type": "code",
   "execution_count": 86,
   "outputs": [
    {
     "name": "stdout",
     "output_type": "stream",
     "text": [
      "Модель Vosk загружена успешно.\n"
     ]
    }
   ],
   "source": [
    "# Настройка Vosk модели для распознавания речи\n",
    "MODEL_PATH = \"../model/vosk_model\"\n",
    "model = Model(MODEL_PATH)\n",
    "print(\"Модель Vosk загружена успешно.\")"
   ],
   "metadata": {
    "collapsed": false,
    "ExecuteTime": {
     "end_time": "2024-10-12T23:08:29.137373100Z",
     "start_time": "2024-10-12T23:08:27.511840800Z"
    }
   }
  },
  {
   "cell_type": "code",
   "execution_count": 87,
   "outputs": [],
   "source": [
    "# Метки команд\n",
    "_label = {\n",
    "    0: \"отказ\",\n",
    "    1: \"отмена\",\n",
    "    2: \"подтверждение\",\n",
    "    3: \"начать осаживание\",\n",
    "    4: \"осадить на (количество) вагон\",\n",
    "    5: \"продолжаем осаживание\",\n",
    "    6: \"зарядка тормозной магистрали\",\n",
    "    7: \"вышел из межвагонного пространства\",\n",
    "    8: \"продолжаем роспуск\",\n",
    "    9: \"растянуть автосцепки\",\n",
    "    10: \"протянуть на (количество) вагон\",\n",
    "    11: \"отцепка\",\n",
    "    12: \"назад на башмак\",\n",
    "    13: \"захожу в межвагонное пространство\",\n",
    "    14: \"остановка\",\n",
    "    15: \"вперед на башмак\",\n",
    "    16: \"сжать автосцепки\",\n",
    "    17: \"назад с башмака\",\n",
    "    18: \"тише\",\n",
    "    19: \"вперед с башмака\",\n",
    "    20: \"прекратить зарядку тормозной магистрали\",\n",
    "    21: \"тормозить\",\n",
    "    22: \"отпустить\",\n",
    "}"
   ],
   "metadata": {
    "collapsed": false,
    "ExecuteTime": {
     "end_time": "2024-10-12T23:08:29.152863Z",
     "start_time": "2024-10-12T23:08:29.139811700Z"
    }
   }
  },
  {
   "cell_type": "markdown",
   "source": [
    "#### Объявление классов"
   ],
   "metadata": {
    "collapsed": false
   }
  },
  {
   "cell_type": "code",
   "execution_count": null,
   "outputs": [],
   "source": [
    "# Функция для подавления шума в одном аудиофайле\n",
    "def reduce_noise(audio_file, noise_file, output_file, noise_reduction_factor=1):\n",
    "    voice, sr = librosa.load(audio_file, sr=16000)\n",
    "    noise, sr_noise = librosa.load(noise_file, sr=16000)\n",
    "\n",
    "    # Проверка на длину шума\n",
    "    if len(noise) < len(voice):\n",
    "        noise = np.pad(noise, (0, len(voice) - len(noise)), mode='wrap')\n",
    "    else:\n",
    "        noise = noise[:len(voice)]\n",
    "\n",
    "    # Удаление шума\n",
    "    voice_clean = nr.reduce_noise(y=voice, sr=sr, y_noise=noise, prop_decrease=noise_reduction_factor)\n",
    "\n",
    "    # Сохранение очищенного файла\n",
    "    sf.write(output_file, voice_clean, sr)\n",
    "    return output_file"
   ],
   "metadata": {
    "collapsed": false
   }
  },
  {
   "cell_type": "code",
   "execution_count": 88,
   "outputs": [],
   "source": [
    "# Датасет для классификации текста\n",
    "class TextDataset(Dataset):\n",
    "    def __init__(self, texts, labels):\n",
    "        self.texts = texts\n",
    "        self.labels = labels\n",
    "\n",
    "    def __len__(self):\n",
    "        return len(self.texts)\n",
    "\n",
    "    def __getitem__(self, idx):\n",
    "        return self.texts[idx], self.labels[idx]"
   ],
   "metadata": {
    "collapsed": false,
    "ExecuteTime": {
     "end_time": "2024-10-12T23:08:29.283849300Z",
     "start_time": "2024-10-12T23:08:29.156862200Z"
    }
   }
  },
  {
   "cell_type": "code",
   "execution_count": 89,
   "outputs": [],
   "source": [
    "class TextClassifier(nn.Module):\n",
    "    def __init__(self, input_dim, hidden_dim, output_dim):\n",
    "        super(TextClassifier, self).__init__()\n",
    "        self.fc1 = nn.Linear(input_dim, hidden_dim)\n",
    "        self.relu = nn.ReLU()\n",
    "        self.fc2 = nn.Linear(hidden_dim, output_dim)  # output_dim соответствует количеству классов\n",
    "\n",
    "    def forward(self, x):\n",
    "        x = self.fc1(x)\n",
    "        x = self.relu(x)\n",
    "        x = self.fc2(x)\n",
    "        return x  # Возвращаем тензор с размером [batch_size, output_dim]"
   ],
   "metadata": {
    "collapsed": false,
    "ExecuteTime": {
     "end_time": "2024-10-12T23:08:29.340550Z",
     "start_time": "2024-10-12T23:08:29.170460900Z"
    }
   }
  },
  {
   "cell_type": "markdown",
   "source": [
    "##### Объявление функций"
   ],
   "metadata": {
    "collapsed": false
   }
  },
  {
   "cell_type": "code",
   "execution_count": 90,
   "outputs": [],
   "source": [
    "# Функция для обработки аудиофайла\n",
    "def transcribe_audio(audio_file, dir):\n",
    "    wf = wave.open(f\"{dir}/{audio_file}\", \"rb\")\n",
    "    rec = KaldiRecognizer(model, wf.getframerate())\n",
    "\n",
    "    result_text = \"\"\n",
    "    while True:\n",
    "        data = wf.readframes(4000)\n",
    "        if len(data) == 0:\n",
    "            break\n",
    "        if rec.AcceptWaveform(data):\n",
    "            result = json.loads(rec.Result())\n",
    "            result_text += result.get(\"text\", \"\")\n",
    "\n",
    "    final_result = json.loads(rec.FinalResult())\n",
    "    result_text += final_result.get(\"text\", \"\")\n",
    "\n",
    "    return result_text"
   ],
   "metadata": {
    "collapsed": false,
    "ExecuteTime": {
     "end_time": "2024-10-12T23:08:29.341558300Z",
     "start_time": "2024-10-12T23:08:29.188479200Z"
    }
   }
  },
  {
   "cell_type": "code",
   "execution_count": 91,
   "outputs": [],
   "source": [
    "# Функция классификации текста\n",
    "def classify_text(text, classifier, tokenizer):\n",
    "    # Преобразование текста в вектор\n",
    "    inputs = tokenizer(text, return_tensors='pt', padding=True, truncation=True)\n",
    "    with torch.no_grad():\n",
    "        outputs = classifier(inputs['input_ids'])\n",
    "    return outputs"
   ],
   "metadata": {
    "collapsed": false,
    "ExecuteTime": {
     "end_time": "2024-10-12T23:08:29.341558300Z",
     "start_time": "2024-10-12T23:08:29.203021300Z"
    }
   }
  },
  {
   "cell_type": "code",
   "execution_count": 92,
   "outputs": [],
   "source": [
    "# Аугментация аудио\n",
    "def augment_audio(file_path):\n",
    "    audio, sr = librosa.load(file_path, sr=None)\n",
    "    noise = np.random.randn(len(audio))\n",
    "    augmented_audio = audio + 0.005 * noise\n",
    "    augmented_file_path = file_path.replace('.wav', '_augmented.wav')\n",
    "    sf.write(augmented_file_path, augmented_audio, sr)\n",
    "    return augmented_file_path"
   ],
   "metadata": {
    "collapsed": false,
    "ExecuteTime": {
     "end_time": "2024-10-12T23:08:29.342559Z",
     "start_time": "2024-10-12T23:08:29.219084Z"
    }
   }
  },
  {
   "cell_type": "code",
   "execution_count": 93,
   "outputs": [],
   "source": [
    "# Загрузка аннотаций\n",
    "def load_annotations(file_path):\n",
    "    with open(file_path, 'r', encoding='utf-8') as f:\n",
    "        return json.load(f)"
   ],
   "metadata": {
    "collapsed": false,
    "ExecuteTime": {
     "end_time": "2024-10-12T23:08:29.360944Z",
     "start_time": "2024-10-12T23:08:29.238724300Z"
    }
   }
  },
  {
   "cell_type": "code",
   "execution_count": 94,
   "outputs": [],
   "source": [
    "def encode_with_bert(text):\n",
    "    inputs = tokenizer(text, return_tensors='pt', padding=True, truncation=True)\n",
    "    with torch.no_grad():\n",
    "        outputs = bert_model(**inputs)\n",
    "    return outputs.last_hidden_state.mean(dim=1).squeeze()"
   ],
   "metadata": {
    "collapsed": false,
    "ExecuteTime": {
     "end_time": "2024-10-12T23:08:29.360944Z",
     "start_time": "2024-10-12T23:08:29.249462100Z"
    }
   }
  },
  {
   "cell_type": "code",
   "execution_count": 95,
   "outputs": [],
   "source": [
    "# Преобразование MP3 в WAV\n",
    "def convert_mp3_to_wav(mp3_filepath):\n",
    "    try:\n",
    "        if not mp3_filepath.endswith('.mp3'):\n",
    "            print(f\"Файл {mp3_filepath} не является MP3.\")\n",
    "            return None\n",
    "\n",
    "        wav_filepath = mp3_filepath.replace('.mp3', '.wav')\n",
    "        audio = AudioSegment.from_file(mp3_filepath)\n",
    "        audio.export(wav_filepath, format='wav')\n",
    "        print(f\"Файл {mp3_filepath} успешно конвертирован в WAV: {wav_filepath}\")\n",
    "        return wav_filepath\n",
    "    except Exception as e:\n",
    "        print(f\"Ошибка при конвертации {mp3_filepath} в WAV: {e}\")\n",
    "        return None"
   ],
   "metadata": {
    "collapsed": false,
    "ExecuteTime": {
     "end_time": "2024-10-12T23:08:29.361944700Z",
     "start_time": "2024-10-12T23:08:29.264767500Z"
    }
   }
  },
  {
   "cell_type": "code",
   "execution_count": 96,
   "outputs": [],
   "source": [
    "def load_dataset():\n",
    "    audio_files = []\n",
    "    texts = []\n",
    "    labels = []\n",
    "\n",
    "    for annotation_file, data_dir in zip(ANNOTATION_FILES, DATA_DIR_FILES):\n",
    "        annotation_path = os.path.join(ANNOTATION_DIR, annotation_file)\n",
    "        print(f\"Загрузка аннотаций из: {annotation_path}\")\n",
    "        training_annotations = load_annotations(annotation_path)\n",
    "\n",
    "        for annotation in training_annotations:\n",
    "            audio_filepath = os.path.join(DATA_DIR, data_dir, annotation['audio_filepath'])\n",
    "            if os.path.exists(audio_filepath):\n",
    "                if audio_filepath.endswith('.mp3'):\n",
    "                    audio_filepath = convert_mp3_to_wav(audio_filepath)\n",
    "\n",
    "                # Подавляем шум перед аугментацией\n",
    "                augmented_file = augment_audio(audio_filepath)\n",
    "                audio_files.append(augmented_file)\n",
    "\n",
    "                text = annotation['text']\n",
    "                label = annotation['label']\n",
    "                texts.append(text)  # добавляем текст\n",
    "                labels.append(label)  # добавляем метку\n",
    "\n",
    "            else:\n",
    "                print(f\"Файл {audio_filepath} не найден.\")\n",
    "                continue\n",
    "\n",
    "    print(\"Загрузка датасета завершена.\")\n",
    "    return audio_files, texts, labels"
   ],
   "metadata": {
    "collapsed": false,
    "ExecuteTime": {
     "end_time": "2024-10-12T23:08:29.363944300Z",
     "start_time": "2024-10-12T23:08:29.283849300Z"
    }
   }
  },
  {
   "cell_type": "markdown",
   "source": [
    "#### Подготовка настроек модели, создание модели"
   ],
   "metadata": {
    "collapsed": false
   }
  },
  {
   "cell_type": "code",
   "execution_count": 97,
   "outputs": [],
   "source": [
    "# Вычисление WER\n",
    "def calculate_wer(reference, hypothesis):\n",
    "    reference_words = reference.split()\n",
    "    hypothesis_words = hypothesis.split()\n",
    "\n",
    "    S = sum(1 for r, h in zip(reference_words, hypothesis_words) if r != h)\n",
    "    D = len(reference_words) - len(hypothesis_words) if len(reference_words) > len(hypothesis_words) else 0\n",
    "    I = len(hypothesis_words) - len(reference_words) if len(hypothesis_words) > len(reference_words) else 0\n",
    "    N = len(reference_words)\n",
    "\n",
    "    return (S + D + I) / N if N > 0 else 0"
   ],
   "metadata": {
    "collapsed": false,
    "ExecuteTime": {
     "end_time": "2024-10-12T23:08:29.461248400Z",
     "start_time": "2024-10-12T23:08:29.298387300Z"
    }
   }
  },
  {
   "cell_type": "code",
   "execution_count": 98,
   "outputs": [],
   "source": [
    "# Вычисление Mq\n",
    "def calculate_mq(wer, f1_weighted):\n",
    "    return 0.25 * (1 - wer) + 0.75 * f1_weighted"
   ],
   "metadata": {
    "collapsed": false,
    "ExecuteTime": {
     "end_time": "2024-10-12T23:08:29.465253800Z",
     "start_time": "2024-10-12T23:08:29.309421600Z"
    }
   }
  },
  {
   "cell_type": "code",
   "execution_count": 104,
   "outputs": [],
   "source": [
    "# Функция objective для Optuna\n",
    "def objective(trial):\n",
    "    hidden_dim = trial.suggest_int('hidden_dim', 32, 128)\n",
    "    learning_rate = trial.suggest_loguniform('learning_rate', 1e-5, 1e-1)\n",
    "    batch_size = trial.suggest_int('batch_size', 4, 16)\n",
    "\n",
    "    # Загрузка и подготовка данных\n",
    "    audio_files, texts, labels = load_dataset()\n",
    "    train_texts, test_texts, train_labels, test_labels = train_test_split(texts, labels, test_size=0.2)\n",
    "\n",
    "    # Генерация векторов BERT\n",
    "    bert_vectors = torch.stack([encode_with_bert(text) for text in train_texts])\n",
    "\n",
    "    # Преобразование меток в тензор\n",
    "    train_labels = torch.tensor(train_labels, dtype=torch.long)\n",
    "\n",
    "    # Создание датасета и загрузчика\n",
    "    train_dataset = TextDataset(bert_vectors, train_labels)\n",
    "    train_loader = DataLoader(train_dataset, batch_size=batch_size, shuffle=True)\n",
    "\n",
    "    # Определение количества классов\n",
    "    num_classes = len(set(labels))\n",
    "\n",
    "    # Обучение модели\n",
    "    classifier = TextClassifier(input_dim=bert_vectors.size(1), hidden_dim=hidden_dim, output_dim=num_classes)\n",
    "    criterion = nn.CrossEntropyLoss()\n",
    "    optimizer = torch.optim.Adam(classifier.parameters(), lr=learning_rate)\n",
    "\n",
    "    classifier.train()  # Переводим модель в режим обучения\n",
    "    for epoch in range(3):  # Можно увеличить количество эпох\n",
    "        for texts_batch, labels_batch in train_loader:\n",
    "            optimizer.zero_grad()\n",
    "            outputs = classifier(texts_batch.float())\n",
    "\n",
    "            loss = criterion(outputs, labels_batch)\n",
    "            loss.backward()\n",
    "            optimizer.step()\n",
    "\n",
    "    # Оценка модели на тестовом наборе\n",
    "    classifier.eval()  # Переводим модель в режим оценки\n",
    "    test_bert_vectors = torch.stack([encode_with_bert(text) for text in test_texts])\n",
    "    test_dataset = TextDataset(test_bert_vectors, torch.tensor(test_labels, dtype=torch.long))\n",
    "    test_loader = DataLoader(test_dataset, batch_size=batch_size)\n",
    "\n",
    "    all_preds = []\n",
    "    all_labels = []\n",
    "\n",
    "    with torch.no_grad():\n",
    "        for texts_batch, labels_batch in test_loader:\n",
    "            outputs = classifier(texts_batch.float())\n",
    "            _, predicted = torch.max(outputs, 1)\n",
    "            all_preds.extend(predicted.numpy())\n",
    "            all_labels.extend(labels_batch.numpy())\n",
    "\n",
    "    # Теперь вычисляем WER для каждого примера и усредняем\n",
    "    total_wer = 0\n",
    "    for ref, hyp in zip(test_texts, all_preds):\n",
    "        total_wer += calculate_wer(ref, _label[hyp])  # Используем _label для преобразования предсказания в текст\n",
    "\n",
    "    average_wer = total_wer / len(test_texts)\n",
    "\n",
    "    # Вычисление метрик\n",
    "    f1_weighted = f1_score(all_labels, all_preds, average='weighted')\n",
    "    precision = precision_score(all_labels, all_preds, average='weighted')\n",
    "    recall = recall_score(all_labels, all_preds, average='weighted')\n",
    "    mq = calculate_mq(average_wer, f1_weighted)\n",
    "\n",
    "    return mq"
   ],
   "metadata": {
    "collapsed": false,
    "ExecuteTime": {
     "end_time": "2024-10-12T23:24:56.195188600Z",
     "start_time": "2024-10-12T23:24:56.079573300Z"
    }
   }
  },
  {
   "cell_type": "code",
   "execution_count": 105,
   "outputs": [
    {
     "data": {
      "text/plain": "BertModel(\n  (embeddings): BertEmbeddings(\n    (word_embeddings): Embedding(30522, 768, padding_idx=0)\n    (position_embeddings): Embedding(512, 768)\n    (token_type_embeddings): Embedding(2, 768)\n    (LayerNorm): LayerNorm((768,), eps=1e-12, elementwise_affine=True)\n    (dropout): Dropout(p=0.1, inplace=False)\n  )\n  (encoder): BertEncoder(\n    (layer): ModuleList(\n      (0-11): 12 x BertLayer(\n        (attention): BertAttention(\n          (self): BertSdpaSelfAttention(\n            (query): Linear(in_features=768, out_features=768, bias=True)\n            (key): Linear(in_features=768, out_features=768, bias=True)\n            (value): Linear(in_features=768, out_features=768, bias=True)\n            (dropout): Dropout(p=0.1, inplace=False)\n          )\n          (output): BertSelfOutput(\n            (dense): Linear(in_features=768, out_features=768, bias=True)\n            (LayerNorm): LayerNorm((768,), eps=1e-12, elementwise_affine=True)\n            (dropout): Dropout(p=0.1, inplace=False)\n          )\n        )\n        (intermediate): BertIntermediate(\n          (dense): Linear(in_features=768, out_features=3072, bias=True)\n          (intermediate_act_fn): GELUActivation()\n        )\n        (output): BertOutput(\n          (dense): Linear(in_features=3072, out_features=768, bias=True)\n          (LayerNorm): LayerNorm((768,), eps=1e-12, elementwise_affine=True)\n          (dropout): Dropout(p=0.1, inplace=False)\n        )\n      )\n    )\n  )\n  (pooler): BertPooler(\n    (dense): Linear(in_features=768, out_features=768, bias=True)\n    (activation): Tanh()\n  )\n)"
     },
     "execution_count": 105,
     "metadata": {},
     "output_type": "execute_result"
    }
   ],
   "source": [
    "# Настройка модели BERT\n",
    "tokenizer = BertTokenizer.from_pretrained('bert-base-uncased')\n",
    "bert_model = BertModel.from_pretrained('bert-base-uncased')\n",
    "bert_model.eval()"
   ],
   "metadata": {
    "collapsed": false,
    "ExecuteTime": {
     "end_time": "2024-10-12T23:24:58.560339600Z",
     "start_time": "2024-10-12T23:24:57.699722600Z"
    }
   }
  },
  {
   "cell_type": "code",
   "execution_count": 106,
   "outputs": [
    {
     "name": "stderr",
     "output_type": "stream",
     "text": [
      "[I 2024-10-13 02:25:01,265] A new study created in memory with name: no-name-f931751f-8435-458c-beb5-b86eaaaffa8f\n",
      "C:\\Users\\nikit\\AppData\\Local\\Temp\\ipykernel_30368\\2943492142.py:4: FutureWarning: suggest_loguniform has been deprecated in v3.0.0. This feature will be removed in v6.0.0. See https://github.com/optuna/optuna/releases/tag/v3.0.0. Use suggest_float(..., log=True) instead.\n",
      "  learning_rate = trial.suggest_loguniform('learning_rate', 1e-5, 1e-1)\n"
     ]
    },
    {
     "name": "stdout",
     "output_type": "stream",
     "text": [
      "Загрузка аннотаций из: ../data/train/annotation/hr_bot_synt.json\n",
      "Загрузка датасета завершена.\n"
     ]
    },
    {
     "name": "stderr",
     "output_type": "stream",
     "text": [
      "[I 2024-10-13 02:30:01,539] Trial 0 finished with value: 0.9152492088607596 and parameters: {'hidden_dim': 35, 'learning_rate': 0.003634046774341438, 'batch_size': 8}. Best is trial 0 with value: 0.9152492088607596.\n",
      "C:\\Users\\nikit\\AppData\\Local\\Temp\\ipykernel_30368\\2943492142.py:4: FutureWarning: suggest_loguniform has been deprecated in v3.0.0. This feature will be removed in v6.0.0. See https://github.com/optuna/optuna/releases/tag/v3.0.0. Use suggest_float(..., log=True) instead.\n",
      "  learning_rate = trial.suggest_loguniform('learning_rate', 1e-5, 1e-1)\n"
     ]
    },
    {
     "name": "stdout",
     "output_type": "stream",
     "text": [
      "Загрузка аннотаций из: ../data/train/annotation/hr_bot_synt.json\n",
      "Загрузка датасета завершена.\n"
     ]
    },
    {
     "name": "stderr",
     "output_type": "stream",
     "text": [
      "[I 2024-10-13 02:34:50,866] Trial 1 finished with value: 0.9184137658227848 and parameters: {'hidden_dim': 100, 'learning_rate': 0.0008874504786672866, 'batch_size': 6}. Best is trial 1 with value: 0.9184137658227848.\n",
      "C:\\Users\\nikit\\AppData\\Local\\Temp\\ipykernel_30368\\2943492142.py:4: FutureWarning: suggest_loguniform has been deprecated in v3.0.0. This feature will be removed in v6.0.0. See https://github.com/optuna/optuna/releases/tag/v3.0.0. Use suggest_float(..., log=True) instead.\n",
      "  learning_rate = trial.suggest_loguniform('learning_rate', 1e-5, 1e-1)\n"
     ]
    },
    {
     "name": "stdout",
     "output_type": "stream",
     "text": [
      "Загрузка аннотаций из: ../data/train/annotation/hr_bot_synt.json\n",
      "Загрузка датасета завершена.\n"
     ]
    },
    {
     "name": "stderr",
     "output_type": "stream",
     "text": [
      "[I 2024-10-13 02:39:34,276] Trial 2 finished with value: 0.9208860759493671 and parameters: {'hidden_dim': 71, 'learning_rate': 0.0017747737172995744, 'batch_size': 6}. Best is trial 2 with value: 0.9208860759493671.\n",
      "C:\\Users\\nikit\\AppData\\Local\\Temp\\ipykernel_30368\\2943492142.py:4: FutureWarning: suggest_loguniform has been deprecated in v3.0.0. This feature will be removed in v6.0.0. See https://github.com/optuna/optuna/releases/tag/v3.0.0. Use suggest_float(..., log=True) instead.\n",
      "  learning_rate = trial.suggest_loguniform('learning_rate', 1e-5, 1e-1)\n"
     ]
    },
    {
     "name": "stdout",
     "output_type": "stream",
     "text": [
      "Загрузка аннотаций из: ../data/train/annotation/hr_bot_synt.json\n",
      "Загрузка датасета завершена.\n"
     ]
    },
    {
     "name": "stderr",
     "output_type": "stream",
     "text": [
      "[I 2024-10-13 02:44:40,242] Trial 3 finished with value: 0.9176226265822784 and parameters: {'hidden_dim': 40, 'learning_rate': 0.006739192763222393, 'batch_size': 5}. Best is trial 2 with value: 0.9208860759493671.\n",
      "C:\\Users\\nikit\\AppData\\Local\\Temp\\ipykernel_30368\\2943492142.py:4: FutureWarning: suggest_loguniform has been deprecated in v3.0.0. This feature will be removed in v6.0.0. See https://github.com/optuna/optuna/releases/tag/v3.0.0. Use suggest_float(..., log=True) instead.\n",
      "  learning_rate = trial.suggest_loguniform('learning_rate', 1e-5, 1e-1)\n"
     ]
    },
    {
     "name": "stdout",
     "output_type": "stream",
     "text": [
      "Загрузка аннотаций из: ../data/train/annotation/hr_bot_synt.json\n",
      "Загрузка датасета завершена.\n"
     ]
    },
    {
     "name": "stderr",
     "output_type": "stream",
     "text": [
      "D:\\russian_railways\\002_train_operator_console\\venv\\lib\\site-packages\\sklearn\\metrics\\_classification.py:1531: UndefinedMetricWarning: Precision is ill-defined and being set to 0.0 in labels with no predicted samples. Use `zero_division` parameter to control this behavior.\n",
      "  _warn_prf(average, modifier, f\"{metric.capitalize()} is\", len(result))\n",
      "[I 2024-10-13 02:49:25,381] Trial 4 finished with value: 0.5669285101391774 and parameters: {'hidden_dim': 90, 'learning_rate': 0.046768049801770954, 'batch_size': 15}. Best is trial 2 with value: 0.9208860759493671.\n",
      "C:\\Users\\nikit\\AppData\\Local\\Temp\\ipykernel_30368\\2943492142.py:4: FutureWarning: suggest_loguniform has been deprecated in v3.0.0. This feature will be removed in v6.0.0. See https://github.com/optuna/optuna/releases/tag/v3.0.0. Use suggest_float(..., log=True) instead.\n",
      "  learning_rate = trial.suggest_loguniform('learning_rate', 1e-5, 1e-1)\n"
     ]
    },
    {
     "name": "stdout",
     "output_type": "stream",
     "text": [
      "Загрузка аннотаций из: ../data/train/annotation/hr_bot_synt.json\n",
      "Загрузка датасета завершена.\n"
     ]
    },
    {
     "name": "stderr",
     "output_type": "stream",
     "text": [
      "[I 2024-10-13 02:53:47,576] Trial 5 finished with value: 0.9184137658227848 and parameters: {'hidden_dim': 122, 'learning_rate': 0.001014810629734613, 'batch_size': 15}. Best is trial 2 with value: 0.9208860759493671.\n",
      "C:\\Users\\nikit\\AppData\\Local\\Temp\\ipykernel_30368\\2943492142.py:4: FutureWarning: suggest_loguniform has been deprecated in v3.0.0. This feature will be removed in v6.0.0. See https://github.com/optuna/optuna/releases/tag/v3.0.0. Use suggest_float(..., log=True) instead.\n",
      "  learning_rate = trial.suggest_loguniform('learning_rate', 1e-5, 1e-1)\n"
     ]
    },
    {
     "name": "stdout",
     "output_type": "stream",
     "text": [
      "Загрузка аннотаций из: ../data/train/annotation/hr_bot_synt.json\n",
      "Загрузка датасета завершена.\n"
     ]
    },
    {
     "name": "stderr",
     "output_type": "stream",
     "text": [
      "D:\\russian_railways\\002_train_operator_console\\venv\\lib\\site-packages\\sklearn\\metrics\\_classification.py:1531: UndefinedMetricWarning: Precision is ill-defined and being set to 0.0 in labels with no predicted samples. Use `zero_division` parameter to control this behavior.\n",
      "  _warn_prf(average, modifier, f\"{metric.capitalize()} is\", len(result))\n",
      "[I 2024-10-13 02:58:59,010] Trial 6 finished with value: 0.7689407119334395 and parameters: {'hidden_dim': 50, 'learning_rate': 0.0003792264230351263, 'batch_size': 10}. Best is trial 2 with value: 0.9208860759493671.\n",
      "C:\\Users\\nikit\\AppData\\Local\\Temp\\ipykernel_30368\\2943492142.py:4: FutureWarning: suggest_loguniform has been deprecated in v3.0.0. This feature will be removed in v6.0.0. See https://github.com/optuna/optuna/releases/tag/v3.0.0. Use suggest_float(..., log=True) instead.\n",
      "  learning_rate = trial.suggest_loguniform('learning_rate', 1e-5, 1e-1)\n"
     ]
    },
    {
     "name": "stdout",
     "output_type": "stream",
     "text": [
      "Загрузка аннотаций из: ../data/train/annotation/hr_bot_synt.json\n",
      "Загрузка датасета завершена.\n"
     ]
    },
    {
     "name": "stderr",
     "output_type": "stream",
     "text": [
      "D:\\russian_railways\\002_train_operator_console\\venv\\lib\\site-packages\\sklearn\\metrics\\_classification.py:1531: UndefinedMetricWarning: Precision is ill-defined and being set to 0.0 in labels with no predicted samples. Use `zero_division` parameter to control this behavior.\n",
      "  _warn_prf(average, modifier, f\"{metric.capitalize()} is\", len(result))\n",
      "[I 2024-10-13 03:04:08,776] Trial 7 finished with value: 0.8772415611814345 and parameters: {'hidden_dim': 111, 'learning_rate': 0.00039204897749052373, 'batch_size': 6}. Best is trial 2 with value: 0.9208860759493671.\n",
      "C:\\Users\\nikit\\AppData\\Local\\Temp\\ipykernel_30368\\2943492142.py:4: FutureWarning: suggest_loguniform has been deprecated in v3.0.0. This feature will be removed in v6.0.0. See https://github.com/optuna/optuna/releases/tag/v3.0.0. Use suggest_float(..., log=True) instead.\n",
      "  learning_rate = trial.suggest_loguniform('learning_rate', 1e-5, 1e-1)\n"
     ]
    },
    {
     "name": "stdout",
     "output_type": "stream",
     "text": [
      "Загрузка аннотаций из: ../data/train/annotation/hr_bot_synt.json\n",
      "Загрузка датасета завершена.\n"
     ]
    },
    {
     "name": "stderr",
     "output_type": "stream",
     "text": [
      "D:\\russian_railways\\002_train_operator_console\\venv\\lib\\site-packages\\sklearn\\metrics\\_classification.py:1531: UndefinedMetricWarning: Precision is ill-defined and being set to 0.0 in labels with no predicted samples. Use `zero_division` parameter to control this behavior.\n",
      "  _warn_prf(average, modifier, f\"{metric.capitalize()} is\", len(result))\n",
      "[I 2024-10-13 03:09:09,357] Trial 8 finished with value: 0.2122658704931697 and parameters: {'hidden_dim': 123, 'learning_rate': 3.0370658663920378e-05, 'batch_size': 16}. Best is trial 2 with value: 0.9208860759493671.\n",
      "C:\\Users\\nikit\\AppData\\Local\\Temp\\ipykernel_30368\\2943492142.py:4: FutureWarning: suggest_loguniform has been deprecated in v3.0.0. This feature will be removed in v6.0.0. See https://github.com/optuna/optuna/releases/tag/v3.0.0. Use suggest_float(..., log=True) instead.\n",
      "  learning_rate = trial.suggest_loguniform('learning_rate', 1e-5, 1e-1)\n"
     ]
    },
    {
     "name": "stdout",
     "output_type": "stream",
     "text": [
      "Загрузка аннотаций из: ../data/train/annotation/hr_bot_synt.json\n",
      "Загрузка датасета завершена.\n"
     ]
    },
    {
     "name": "stderr",
     "output_type": "stream",
     "text": [
      "D:\\russian_railways\\002_train_operator_console\\venv\\lib\\site-packages\\sklearn\\metrics\\_classification.py:1531: UndefinedMetricWarning: Precision is ill-defined and being set to 0.0 in labels with no predicted samples. Use `zero_division` parameter to control this behavior.\n",
      "  _warn_prf(average, modifier, f\"{metric.capitalize()} is\", len(result))\n",
      "[I 2024-10-13 03:13:56,844] Trial 9 finished with value: 0.1994049441949094 and parameters: {'hidden_dim': 69, 'learning_rate': 1.6518268018407632e-05, 'batch_size': 5}. Best is trial 2 with value: 0.9208860759493671.\n"
     ]
    }
   ],
   "source": [
    "# Оптимизация с помощью Optuna\n",
    "study = optuna.create_study(direction='maximize')\n",
    "study.optimize(objective, n_trials=10)"
   ],
   "metadata": {
    "collapsed": false,
    "ExecuteTime": {
     "end_time": "2024-10-13T00:13:56.864428200Z",
     "start_time": "2024-10-12T23:25:01.265687800Z"
    }
   }
  },
  {
   "cell_type": "code",
   "execution_count": 107,
   "outputs": [
    {
     "name": "stdout",
     "output_type": "stream",
     "text": [
      "Лучшие параметры:\n",
      "{'hidden_dim': 71, 'learning_rate': 0.0017747737172995744, 'batch_size': 6}\n",
      "Лучшее значение функции цели:\n",
      "0.9208860759493671\n"
     ]
    }
   ],
   "source": [
    "print(\"Лучшие параметры:\")\n",
    "print(study.best_params)\n",
    "print(\"Лучшее значение функции цели:\")\n",
    "print(study.best_value)"
   ],
   "metadata": {
    "collapsed": false,
    "ExecuteTime": {
     "end_time": "2024-10-13T00:24:22.804593700Z",
     "start_time": "2024-10-13T00:24:22.708753100Z"
    }
   }
  },
  {
   "cell_type": "code",
   "execution_count": null,
   "outputs": [],
   "source": [
    "# Функция предсказания команды для аудиофайла\n",
    "def predict_command(audio_filepath):\n",
    "    # Преобразование аудио в текст\n",
    "    transcription = transcribe_audio(audio_filepath, VAL_DIR)\n",
    "\n",
    "    # Используем обученную модель для классификации текста\n",
    "    bert_vector = encode_with_bert(transcription).unsqueeze(0)  # Преобразуем вектор для одного примера\n",
    "    classifier.eval()  # Убедимся, что модель находится в режиме оценки\n",
    "    with torch.no_grad():\n",
    "        output = classifier(bert_vector)\n",
    "        _, predicted_label = torch.max(output, 1)  # Возвращаем индекс наибольшего значения (класса)\n",
    "\n",
    "    # Возвращаем метку, которая соответствует предсказанному классу\n",
    "    return _label[predicted_label.item()]"
   ],
   "metadata": {
    "collapsed": false
   }
  },
  {
   "cell_type": "code",
   "execution_count": 117,
   "outputs": [],
   "source": [
    "# Обновленная функция для оценки точности команд\n",
    "def evaluate_commands():\n",
    "    annotations = load_annotations(ANNOTATION_VAL_FILE)\n",
    "    correct_predictions = 0\n",
    "    total_predictions = len(annotations)\n",
    "\n",
    "    # Словарь для хранения статистики по меткам\n",
    "    statistics = {\n",
    "        'correct': {label: 0 for label in _label.values()},\n",
    "        'total': {label: 0 for label in _label.values()},\n",
    "        'accuracy': {}\n",
    "    }\n",
    "\n",
    "    for item in annotations:\n",
    "        audio_filepath = item['audio_filepath']\n",
    "        true_label = item['label']\n",
    "\n",
    "        audio_path = os.path.join(\"\", audio_filepath)\n",
    "        if os.path.exists(audio_path):\n",
    "            # Предсказание команды\n",
    "            predicted_label = predict_command(audio_path)\n",
    "            print(f'Predicted: {predicted_label}, Actual: {true_label} for {audio_path}')\n",
    "\n",
    "            # Обновление статистики\n",
    "            statistics['total'][true_label] += 1\n",
    "            if predicted_label == true_label:\n",
    "                correct_predictions += 1\n",
    "                statistics['correct'][true_label] += 1\n",
    "\n",
    "    accuracy = correct_predictions / total_predictions\n",
    "\n",
    "    # Сохраняем общую точность\n",
    "    statistics['accuracy']['overall'] = accuracy\n",
    "\n",
    "    # Выводим общую точность\n",
    "    print(f'\\nTotal Predictions: {total_predictions}')\n",
    "    print(f'Correct Predictions: {correct_predictions}')\n",
    "    print(f'Overall Accuracy: {accuracy:.2f}')\n",
    "\n",
    "    # Выводим статистику по каждой метке\n",
    "    print('Detailed statistics per label:')\n",
    "    for label in _label.values():\n",
    "        total = statistics['total'][label]\n",
    "        correct = statistics['correct'][label]\n",
    "        label_accuracy = correct / total if total > 0 else 0\n",
    "        print(f'Label: {label}, Total: {total}, Correct: {correct}, Accuracy: {label_accuracy:.2f}')\n"
   ],
   "metadata": {
    "collapsed": false,
    "ExecuteTime": {
     "end_time": "2024-10-13T00:32:21.418464300Z",
     "start_time": "2024-10-13T00:32:21.347394600Z"
    }
   }
  },
  {
   "cell_type": "code",
   "execution_count": 118,
   "outputs": [
    {
     "name": "stdout",
     "output_type": "stream",
     "text": [
      "\n",
      "Total Predictions: 610\n",
      "Correct Predictions: 0\n",
      "Overall Accuracy: 0.00\n",
      "Detailed statistics per label:\n",
      "Label: отказ, Total: 0, Correct: 0, Accuracy: 0.00\n",
      "Label: отмена, Total: 0, Correct: 0, Accuracy: 0.00\n",
      "Label: подтверждение, Total: 0, Correct: 0, Accuracy: 0.00\n",
      "Label: начать осаживание, Total: 0, Correct: 0, Accuracy: 0.00\n",
      "Label: осадить на (количество) вагон, Total: 0, Correct: 0, Accuracy: 0.00\n",
      "Label: продолжаем осаживание, Total: 0, Correct: 0, Accuracy: 0.00\n",
      "Label: зарядка тормозной магистрали, Total: 0, Correct: 0, Accuracy: 0.00\n",
      "Label: вышел из межвагонного пространства, Total: 0, Correct: 0, Accuracy: 0.00\n",
      "Label: продолжаем роспуск, Total: 0, Correct: 0, Accuracy: 0.00\n",
      "Label: растянуть автосцепки, Total: 0, Correct: 0, Accuracy: 0.00\n",
      "Label: протянуть на (количество) вагон, Total: 0, Correct: 0, Accuracy: 0.00\n",
      "Label: отцепка, Total: 0, Correct: 0, Accuracy: 0.00\n",
      "Label: назад на башмак, Total: 0, Correct: 0, Accuracy: 0.00\n",
      "Label: захожу в межвагонное пространство, Total: 0, Correct: 0, Accuracy: 0.00\n",
      "Label: остановка, Total: 0, Correct: 0, Accuracy: 0.00\n",
      "Label: вперед на башмак, Total: 0, Correct: 0, Accuracy: 0.00\n",
      "Label: сжать автосцепки, Total: 0, Correct: 0, Accuracy: 0.00\n",
      "Label: назад с башмака, Total: 0, Correct: 0, Accuracy: 0.00\n",
      "Label: тише, Total: 0, Correct: 0, Accuracy: 0.00\n",
      "Label: вперед с башмака, Total: 0, Correct: 0, Accuracy: 0.00\n",
      "Label: прекратить зарядку тормозной магистрали, Total: 0, Correct: 0, Accuracy: 0.00\n",
      "Label: тормозить, Total: 0, Correct: 0, Accuracy: 0.00\n",
      "Label: отпустить, Total: 0, Correct: 0, Accuracy: 0.00\n"
     ]
    }
   ],
   "source": [
    "# Пример вызова функции\n",
    "evaluate_commands()"
   ],
   "metadata": {
    "collapsed": false,
    "ExecuteTime": {
     "end_time": "2024-10-13T00:32:23.143827700Z",
     "start_time": "2024-10-13T00:32:23.069793800Z"
    }
   }
  },
  {
   "cell_type": "code",
   "execution_count": null,
   "outputs": [],
   "source": [],
   "metadata": {
    "collapsed": false
   }
  }
 ],
 "metadata": {
  "kernelspec": {
   "display_name": "Python 3",
   "language": "python",
   "name": "python3"
  },
  "language_info": {
   "codemirror_mode": {
    "name": "ipython",
    "version": 2
   },
   "file_extension": ".py",
   "mimetype": "text/x-python",
   "name": "python",
   "nbconvert_exporter": "python",
   "pygments_lexer": "ipython2",
   "version": "2.7.6"
  }
 },
 "nbformat": 4,
 "nbformat_minor": 0
}
