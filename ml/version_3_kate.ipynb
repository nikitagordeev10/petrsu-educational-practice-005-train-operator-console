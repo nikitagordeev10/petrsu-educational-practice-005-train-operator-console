{
 "cells": [
  {
   "cell_type": "markdown",
   "source": [
    "#### Импорт необходимых библиотек"
   ],
   "metadata": {
    "collapsed": false
   }
  },
  {
   "cell_type": "code",
   "execution_count": null,
   "outputs": [],
   "source": [
    "import json\n",
    "import os\n",
    "import jiwer as jiwer\n",
    "import torch\n",
    "import torch.nn as nn\n",
    "from torch.utils.data import Dataset, DataLoader\n",
    "from sklearn.model_selection import train_test_split\n",
    "from vosk import Model, KaldiRecognizer\n",
    "import wave\n",
    "import numpy as np\n",
    "from pydub import AudioSegment"
   ],
   "metadata": {
    "collapsed": false
   }
  },
  {
   "cell_type": "markdown",
   "source": [
    "#### Создание констант"
   ],
   "metadata": {
    "collapsed": false
   }
  },
  {
   "cell_type": "code",
   "execution_count": null,
   "outputs": [],
   "source": [
    "# Константы\n",
    "DATA_DIR = '../data/train/'\n",
    "DATA_DIR_FILES = [\n",
    "    'hr_bot_clear',\n",
    "    'hr_bot_noise',\n",
    "    'hr_bot_synt'\n",
    "]\n",
    "ANNOTATION_DIR = '../data/train/annotation/'\n",
    "ANNOTATION_FILES = [\n",
    "    'hr_bot_clear.json',\n",
    "    'hr_bot_noise.json',\n",
    "    'hr_bot_synt.json'\n",
    "]\n",
    "\n",
    "VAL_DIR = '../data/val/luga/'  # Путь к валидационным данным\n",
    "ANNOTATION_VAL_FILE = os.path.join(VAL_DIR, 'luga.json')\n",
    "\n",
    "# Настройка Vosk модели для распознавания речи\n",
    "MODEL_PATH = \"../model/vosk_model\"  # Путь к скачанной модели Vosk"
   ],
   "metadata": {
    "collapsed": false
   }
  },
  {
   "cell_type": "markdown",
   "source": [
    "#### Подготовка данных"
   ],
   "metadata": {
    "collapsed": false
   }
  },
  {
   "cell_type": "code",
   "execution_count": null,
   "outputs": [],
   "source": [
    "train_data_dir = '../data/train/annotation'\n",
    "with open(f'{train_data_dir}/hr_bot_synt.json', 'r', encoding='utf-8') as f:\n",
    "    training_annotations = json.load(f)\n",
    "\n",
    "\n",
    "def load_data_annotations():\n",
    "    audio_files = []\n",
    "    texts = []  # Замените на свои данные\n",
    "    labels = []  # Метки классов\n",
    "\n",
    "\n",
    "    for annotation in training_annotations:\n",
    "        audio_filepath = annotation['audio_filepath']\n",
    "        file_id = annotation['id']\n",
    "        text = annotation['text']\n",
    "        label = annotation['label']\n",
    "\n",
    "        # Добавление данных в соответствующие списки\n",
    "        audio_files.append({\"file\": audio_filepath, \"id\": file_id})\n",
    "        texts.append(text)\n",
    "        labels.append(label)\n",
    "\n",
    "    return audio_files, texts, labels\n",
    "\n",
    "audio_files, text, labels = load_data_annotations()"
   ],
   "metadata": {
    "collapsed": false
   }
  },
  {
   "cell_type": "markdown",
   "source": [
    "#### Подготовка данных для обучения"
   ],
   "metadata": {
    "collapsed": false
   }
  },
  {
   "cell_type": "code",
   "execution_count": null,
   "outputs": [],
   "source": [
    "# Пример классификатора и токенизатора\n",
    "input_dim = 2  # Зависит от метода векторизации текста\n",
    "hidden_dim = 55\n",
    "output_dim = 22  # Количество классов\n",
    "classifier = TextClassifier(input_dim, hidden_dim, output_dim)"
   ],
   "metadata": {
    "collapsed": false
   }
  },
  {
   "cell_type": "code",
   "execution_count": null,
   "outputs": [],
   "source": [
    "#### Дообучение?"
   ],
   "metadata": {
    "collapsed": false
   }
  },
  {
   "cell_type": "code",
   "execution_count": null,
   "outputs": [],
   "source": [
    "def train():\n",
    "    for epoch in range(30):  # Количество эпох обучения\n",
    "        for texts_batch, labels_batch in train_loader:\n",
    "            texts_batch = texts_batch.float()\n",
    "            optimizer.zero_grad()\n",
    "            outputs = classifier(texts_batch)\n",
    "            loss = criterion(outputs, labels_batch)\n",
    "            loss.backward()\n",
    "            optimizer.step()\n",
    "\n",
    "        # Оценка на валидационном наборе после каждой эпохи\n",
    "        if (epoch + 1) % 5 == 0:  # Оценка каждые 5 эпох\n",
    "            # val_hypothesis_texts = process_audio_files(val_audio_files, classifier, tokenizer, dir)\n",
    "\n",
    "            # # Рассчитываем WER для валидационного набора\n",
    "            # wer = jiwer.wer(val_reference_texts, val_hypothesis_texts)\n",
    "            print(f\"Эпоха {epoch + 1}\")"
   ],
   "metadata": {
    "collapsed": false
   }
  },
  {
   "cell_type": "markdown",
   "source": [
    "Загрузка модели для распознавания речи"
   ],
   "metadata": {
    "collapsed": false
   }
  },
  {
   "cell_type": "code",
   "execution_count": null,
   "outputs": [],
   "source": [
    "model = Model(MODEL_PATH)"
   ],
   "metadata": {
    "collapsed": false
   }
  },
  {
   "cell_type": "markdown",
   "source": [
    "Определение архитектуры нейронной сети для классификации текста"
   ],
   "metadata": {
    "collapsed": false
   }
  },
  {
   "cell_type": "code",
   "execution_count": null,
   "outputs": [],
   "source": [
    "# Нейронная сеть для классификации текста\n",
    "class TextClassifier(nn.Module):\n",
    "    def __init__(self, input_dim, hidden_dim, output_dim):\n",
    "        super(TextClassifier, self).__init__()\n",
    "        self.fc1 = nn.Linear(input_dim, hidden_dim)\n",
    "        self.relu = nn.ReLU()\n",
    "        self.fc2 = nn.Linear(hidden_dim, output_dim)\n",
    "\n",
    "    def forward(self, x):\n",
    "        x = self.fc1(x)\n",
    "        x = self.relu(x)\n",
    "        x = self.fc2(x)\n",
    "        return x"
   ],
   "metadata": {
    "collapsed": false
   }
  },
  {
   "cell_type": "markdown",
   "source": [
    "Создание датасета для классификации текста"
   ],
   "metadata": {
    "collapsed": false
   }
  },
  {
   "cell_type": "code",
   "execution_count": null,
   "outputs": [],
   "source": [
    "# Датасет для классификации текста\n",
    "class TextDataset(Dataset):\n",
    "    def __init__(self, texts, labels):\n",
    "        self.texts = texts\n",
    "        self.labels = labels\n",
    "\n",
    "    def __len__(self):\n",
    "        return len(self.texts)\n",
    "\n",
    "    def __getitem__(self, idx):\n",
    "        return self.texts[idx], self.labels[idx]"
   ],
   "metadata": {
    "collapsed": false
   }
  },
  {
   "cell_type": "markdown",
   "source": [
    "Функция для распознавания речи из аудиофайлов"
   ],
   "metadata": {
    "collapsed": false
   }
  },
  {
   "cell_type": "code",
   "execution_count": null,
   "outputs": [],
   "source": [
    "# Функция для обработки аудиофайла с использованием Vosk\n",
    "def transcribe_audio(audio_file, dir):\n",
    "    wf = wave.open(f\"{dir}/{audio_file}\", \"rb\")\n",
    "    rec = KaldiRecognizer(model, wf.getframerate())\n",
    "\n",
    "    result_text = \"\"\n",
    "    while True:\n",
    "        data = wf.readframes(4000)\n",
    "        if len(data) == 0:\n",
    "            break\n",
    "        if rec.AcceptWaveform(data):\n",
    "            result = json.loads(rec.Result())\n",
    "            result_text += result.get(\"text\", \"\")\n",
    "\n",
    "    final_result = json.loads(rec.FinalResult())\n",
    "    result_text += final_result.get(\"text\", \"\")\n",
    "\n",
    "    return result_text"
   ],
   "metadata": {
    "collapsed": false
   }
  },
  {
   "cell_type": "markdown",
   "source": [
    "Функция для классификации текста"
   ],
   "metadata": {
    "collapsed": false
   }
  },
  {
   "cell_type": "code",
   "execution_count": null,
   "outputs": [],
   "source": [
    "# Пример функции для классификации текста\n",
    "def classify_text(text, classifier, tokenizer):\n",
    "    # Преобразование текста в вектор (например, с помощью Bag of Words или TF-IDF)\n",
    "    text_vector = tokenizer.transform([text]).toarray()\n",
    "    text_tensor = torch.tensor(text_vector, dtype=torch.float32)\n",
    "\n",
    "    # Классификация текста\n",
    "    with torch.no_grad():\n",
    "        outputs = classifier(text_tensor)\n",
    "    _, predicted_class = torch.max(outputs, 1)\n",
    "\n",
    "    return predicted_class.item()"
   ],
   "metadata": {
    "collapsed": false
   }
  },
  {
   "cell_type": "markdown",
   "source": [
    "Функция для обработки списка аудиофайлов"
   ],
   "metadata": {
    "collapsed": false
   }
  },
  {
   "cell_type": "code",
   "execution_count": null,
   "outputs": [],
   "source": [
    "# Функция для обработки аудиофайлов\n",
    "def process_audio_files(file_list, classifier, tokenizer, dir):\n",
    "    results = []\n",
    "    for file_info in file_list:\n",
    "        print(f\"pocessing {file_info['file']}\")\n",
    "        audio_file = file_info['file']\n",
    "        audio_id = file_info['id']\n",
    "\n",
    "        # convert_mp3_to_wav(audio_file, f\"{audio_file[:3]}.wav\")\n",
    "\n",
    "        # Распознавание текста из аудио\n",
    "        transcribed_text = transcribe_audio(audio_file, dir)\n",
    "\n",
    "        # Классификация текста\n",
    "        predicted_class = classify_text(transcribed_text, classifier, tokenizer)\n",
    "\n",
    "        # Извлечение атрибутов (может быть расширено по вашим данным)\n",
    "        attributes = {\"length\": len(transcribed_text.split()),\n",
    "                      \"contains_numbers\": any(char.isdigit() for char in transcribed_text)}\n",
    "\n",
    "        result = {\n",
    "            \"file_name\": os.path.basename(audio_file),\n",
    "            \"file_id\": audio_id,\n",
    "            \"transcription\": transcribed_text,\n",
    "            \"category\": predicted_class,\n",
    "            \"attributes\": attributes\n",
    "        }\n",
    "\n",
    "        results.append(result)\n",
    "        print(f\"done {file_info['file']}\")\n",
    "\n",
    "    return results"
   ],
   "metadata": {
    "collapsed": false
   }
  },
  {
   "cell_type": "markdown",
   "source": [],
   "metadata": {
    "collapsed": false
   }
  },
  {
   "cell_type": "code",
   "execution_count": null,
   "metadata": {
    "collapsed": true
   },
   "outputs": [],
   "source": [
    "\n",
    "# Пример использования токенизатора (например, TF-IDF или другой метод)\n",
    "from sklearn.feature_extraction.text import TfidfVectorizer\n",
    "\n",
    "tokenizer = TfidfVectorizer(max_features=input_dim)\n",
    "\n",
    "# Разделение данных на тренировочные и тестовые\n",
    "train_texts, test_texts, train_labels, test_labels = train_test_split(texts, labels, test_size=0.2)\n",
    "\n",
    "# Подготовка текстовых данных для классификации\n",
    "train_vectors = tokenizer.fit_transform(train_texts).toarray()\n",
    "test_vectors = tokenizer.transform(test_texts).toarray()\n",
    "\n",
    "train_dataset = TextDataset(train_vectors, train_labels)\n",
    "train_loader = DataLoader(train_dataset, batch_size=2, shuffle=True)\n",
    "\n",
    "# Обучение нейронной сети\n",
    "criterion = nn.CrossEntropyLoss()\n",
    "optimizer = torch.optim.Adam(classifier.parameters(), lr=0.001)\n",
    "\n",
    "val_reference_texts = []\n",
    "val_audio_files = []\n",
    "#\n",
    "\n",
    "\n",
    "\n",
    "# директория, где лежат файлы, которые мы хотим обработать\n",
    "result_dir = '../data/train/hr_bot_synt'\n",
    "# Обработка файлов и получение результатов\n",
    "result_files = os.listdir(result_dir)\n",
    "\n",
    "for i in range(len(result_files)):\n",
    "    result_files[i] = {\"file\": result_files[i], \"id\": result_files[i][:-4]}\n",
    "\n",
    "transcription_results = process_audio_files(result_files, classifier, tokenizer, result_dir)\n",
    "\n",
    "# Сохранение результатов в JSON\n",
    "with open(\"transcriptions.json\", \"w\", encoding=\"utf-8\") as f:\n",
    "    json.dump(transcription_results, f, ensure_ascii=False, indent=4)\n",
    "\n"
   ]
  },
  {
   "cell_type": "markdown",
   "source": [
    "Вывод результатов в консоль"
   ],
   "metadata": {
    "collapsed": false
   }
  },
  {
   "cell_type": "code",
   "execution_count": null,
   "outputs": [],
   "source": [
    "# Пример результата\n",
    "print(json.dumps(transcription_results, indent=4, ensure_ascii=False))"
   ],
   "metadata": {
    "collapsed": false
   }
  }
 ],
 "metadata": {
  "kernelspec": {
   "display_name": "Python 3",
   "language": "python",
   "name": "python3"
  },
  "language_info": {
   "codemirror_mode": {
    "name": "ipython",
    "version": 2
   },
   "file_extension": ".py",
   "mimetype": "text/x-python",
   "name": "python",
   "nbconvert_exporter": "python",
   "pygments_lexer": "ipython2",
   "version": "2.7.6"
  }
 },
 "nbformat": 4,
 "nbformat_minor": 0
}
