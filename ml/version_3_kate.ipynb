{
 "cells": [
  {
   "cell_type": "markdown",
   "metadata": {
    "collapsed": false
   },
   "source": [
    "#### Импорт необходимых библиотек"
   ]
  },
  {
   "cell_type": "code",
   "execution_count": null,
   "metadata": {
    "collapsed": false
   },
   "outputs": [],
   "source": [
    "import json\n",
    "import os\n",
    "import jiwer as jiwer\n",
    "import torch\n",
    "import torch.nn as nn\n",
    "from torch.utils.data import Dataset, DataLoader\n",
    "from sklearn.model_selection import train_test_split\n",
    "from vosk import Model, KaldiRecognizer\n",
    "import wave\n",
    "import numpy as np\n",
    "from pydub import AudioSegment\n",
    "from sklearn.feature_extraction.text import TfidfVectorizer\n",
    "\n",
    "\n",
    "# Настройка Vosk модели для распознавания речи\n",
    "MODEL_PATH = \"../model/vosk_model\"  # Путь к скачанной модели Vosk"
   ]
  },
  {
   "cell_type": "markdown",
   "metadata": {},
   "source": [
    "#### Объявление классов"
   ]
  },
  {
   "cell_type": "code",
   "execution_count": null,
   "metadata": {
    "collapsed": false
   },
   "outputs": [],
   "source": [
    "# Датасет для классификации текста\n",
    "class TextDataset(Dataset):\n",
    "    def __init__(self, texts, labels):\n",
    "        self.texts = texts\n",
    "        self.labels = labels\n",
    "\n",
    "    def __len__(self):\n",
    "        return len(self.texts)\n",
    "\n",
    "    def __getitem__(self, idx):\n",
    "        return self.texts[idx], self.labels[idx]"
   ]
  },
  {
   "cell_type": "code",
   "execution_count": null,
   "metadata": {
    "collapsed": false
   },
   "outputs": [],
   "source": [
    "# Нейронная сеть для классификации текста\n",
    "class TextClassifier(nn.Module):\n",
    "    def __init__(self, input_dim, hidden_dim, output_dim):\n",
    "        super(TextClassifier, self).__init__()\n",
    "        self.fc1 = nn.Linear(input_dim, hidden_dim)\n",
    "        self.relu = nn.ReLU()\n",
    "        self.fc2 = nn.Linear(hidden_dim, output_dim)\n",
    "\n",
    "    def forward(self, x):\n",
    "        x = self.fc1(x)\n",
    "        x = self.relu(x)\n",
    "        x = self.fc2(x)\n",
    "        return x"
   ]
  },
  {
   "cell_type": "markdown",
   "metadata": {},
   "source": [
    "##### Объявление функций"
   ]
  },
  {
   "cell_type": "code",
   "execution_count": null,
   "metadata": {
    "collapsed": false
   },
   "outputs": [],
   "source": [
    "# Функция для обработки аудиофайла\n",
    "def transcribe_audio(audio_file, dir):\n",
    "    wf = wave.open(f\"{dir}/{audio_file}\", \"rb\")\n",
    "    rec = KaldiRecognizer(model, wf.getframerate())\n",
    "\n",
    "    result_text = \"\"\n",
    "    while True:\n",
    "        data = wf.readframes(4000)\n",
    "        if len(data) == 0:\n",
    "            break\n",
    "        if rec.AcceptWaveform(data):\n",
    "            result = json.loads(rec.Result())\n",
    "            result_text += result.get(\"text\", \"\")\n",
    "\n",
    "    final_result = json.loads(rec.FinalResult())\n",
    "    result_text += final_result.get(\"text\", \"\")\n",
    "\n",
    "    return result_text"
   ]
  },
  {
   "cell_type": "code",
   "execution_count": null,
   "metadata": {
    "collapsed": false
   },
   "outputs": [],
   "source": [
    "# Функция классификации текста\n",
    "def classify_text(text, classifier, tokenizer):\n",
    "    # Преобразование текста в вектор\n",
    "    text_vector = tokenizer.transform([text]).toarray()\n",
    "    text_tensor = torch.tensor(text_vector, dtype=torch.float32)\n",
    "\n",
    "    # Классификация текста\n",
    "    with torch.no_grad():\n",
    "        outputs = classifier(text_tensor)\n",
    "        \n",
    "    _, predicted_class = torch.max(outputs, 1)\n",
    "\n",
    "    return predicted_class.item()"
   ]
  },
  {
   "cell_type": "code",
   "execution_count": null,
   "metadata": {
    "collapsed": false
   },
   "outputs": [],
   "source": [
    "# Функция для обработки аудиофайлов\n",
    "def process_audio_files(file_list, classifier, tokenizer, dir):\n",
    "    results = []\n",
    "    for file_info in file_list:\n",
    "        # [{'file': file_name, 'id': file_id}, ...]\n",
    "        print(f\"pocessing {file_info['file']}\")\n",
    "        audio_file = file_info['file']\n",
    "        audio_id = file_info['id']\n",
    "\n",
    "        # Распознавание текста из аудио\n",
    "        transcribed_text = transcribe_audio(audio_file, dir)\n",
    "\n",
    "        # Классификация текста\n",
    "        predicted_class = classify_text(transcribed_text, classifier, tokenizer)\n",
    "\n",
    "        # Извлечение атрибута\n",
    "        attribute = any(char.isdigit() for char in transcribed_text)\n",
    "\n",
    "        result = {\n",
    "            \"audio_filepath\": os.path.basename(audio_file),\n",
    "            \"id\": audio_id,\n",
    "            \"text\": transcribed_text,\n",
    "            \"category\": predicted_class,\n",
    "            \"attribute\": attribute\n",
    "        }\n",
    "\n",
    "        results.append(result)\n",
    "        print(f\"done {file_info['file']}\")\n",
    "\n",
    "    return results"
   ]
  },
  {
   "cell_type": "markdown",
   "metadata": {},
   "source": [
    "##### Подготовка настроек модели, создание модели"
   ]
  },
  {
   "cell_type": "code",
   "execution_count": null,
   "metadata": {
    "collapsed": false
   },
   "outputs": [],
   "source": [
    "# Пример классификатора и токенизатора\n",
    "input_dim = 2  # Зависит от метода векторизации текста\n",
    "hidden_dim = 55\n",
    "output_dim = 22  # Количество классов\n",
    "classifier = TextClassifier(input_dim, hidden_dim, output_dim)"
   ]
  },
  {
   "cell_type": "code",
   "execution_count": null,
   "metadata": {
    "collapsed": false
   },
   "outputs": [],
   "source": [
    "model = Model(MODEL_PATH)"
   ]
  },
  {
   "cell_type": "markdown",
   "metadata": {
    "collapsed": false
   },
   "source": [
    "#### Подготовка данных для обучения"
   ]
  },
  {
   "cell_type": "code",
   "execution_count": null,
   "metadata": {
    "collapsed": false
   },
   "outputs": [],
   "source": [
    "train_data_dir = '../data/train/annotation'\n",
    "with open(f'{train_data_dir}/hr_bot_synt.json', 'r', encoding='utf-8') as f:\n",
    "    training_annotations = json.load(f)\n",
    "\n",
    "\n",
    "def load_data_annotations():\n",
    "    audio_files = []\n",
    "    texts = []  # Замените на свои данные\n",
    "    labels = []  # Метки классов\n",
    "\n",
    "\n",
    "    for annotation in training_annotations:\n",
    "        audio_filepath = annotation['audio_filepath']\n",
    "        file_id = annotation['id']\n",
    "        text = annotation['text']\n",
    "        label = annotation['label']\n",
    "\n",
    "        # Добавление данных в соответствующие списки\n",
    "        audio_files.append({\"file\": audio_filepath, \"id\": file_id})\n",
    "        texts.append(text)\n",
    "        labels.append(label)\n",
    "\n",
    "    return audio_files, texts, labels\n",
    "\n",
    "audio_files, texts, labels = load_data_annotations()\n",
    "\n",
    "# Разделение данных на тренировочные и тестовые\n",
    "train_texts, test_texts, train_labels, test_labels = train_test_split(texts, labels, test_size=0.2)\n",
    "\n",
    "tokenizer = TfidfVectorizer(max_features=input_dim)\n",
    "\n",
    "# Подготовка текстовых данных для классификации\n",
    "train_vectors = tokenizer.fit_transform(train_texts).toarray()\n",
    "test_vectors = tokenizer.transform(test_texts).toarray()\n",
    "\n",
    "train_dataset = TextDataset(train_vectors, train_labels)\n",
    "train_loader = DataLoader(train_dataset, batch_size=2, shuffle=True)"
   ]
  },
  {
   "cell_type": "markdown",
   "metadata": {
    "collapsed": false
   },
   "source": [
    "#### Функция обучения модели (+ расчет метрик каждые 5 эпох)"
   ]
  },
  {
   "cell_type": "code",
   "execution_count": null,
   "metadata": {
    "collapsed": false
   },
   "outputs": [],
   "source": [
    "criterion = nn.CrossEntropyLoss()\n",
    "optimizer = torch.optim.Adam(classifier.parameters(), lr=0.001)\n",
    "\n",
    "val_reference_texts = []\n",
    "val_audio_files = []\n",
    "\n",
    "def train():\n",
    "    for epoch in range(30):\n",
    "        for texts_batch, labels_batch in train_loader:\n",
    "            texts_batch = texts_batch.float()\n",
    "            optimizer.zero_grad()\n",
    "            outputs = classifier(texts_batch)\n",
    "            loss = criterion(outputs, labels_batch)\n",
    "            loss.backward()\n",
    "            optimizer.step()\n",
    "\n",
    "        # Оценка на валидационном наборе после каждой эпохи\n",
    "        if (epoch + 1) % 5 == 0:  # Оценка каждые 5 эпох\n",
    "            # val_hypothesis_texts = process_audio_files(val_audio_files, classifier, tokenizer, dir)\n",
    "\n",
    "            # # Рассчитываем WER для валидационного набора\n",
    "            # wer = jiwer.wer(val_reference_texts, val_hypothesis_texts)\n",
    "            print(f\"Эпоха {epoch + 1}\")"
   ]
  },
  {
   "cell_type": "markdown",
   "metadata": {
    "collapsed": false
   },
   "source": [
    "##### Использование модели для транскрибации и классификации текста"
   ]
  },
  {
   "cell_type": "code",
   "execution_count": null,
   "metadata": {
    "collapsed": true
   },
   "outputs": [],
   "source": [
    "# директория, где лежат файлы, которые мы хотим обработать\n",
    "result_dir = '../data/train/hr_bot_synt'\n",
    "\n",
    "result_files = os.listdir(result_dir)\n",
    "\n",
    "for i in range(len(result_files)):\n",
    "    result_files[i] = {\"file\": result_files[i], \"id\": result_files[i][:-4]}\n",
    "\n",
    "# Обработка файлов и получение результатов\n",
    "transcription_results = process_audio_files(result_files, classifier, tokenizer, result_dir)\n",
    "\n",
    "# Сохранение результатов в JSON\n",
    "with open(\"transcriptions.json\", \"w\", encoding=\"utf-8\") as f:\n",
    "    json.dump(transcription_results, f, ensure_ascii=False, indent=4)"
   ]
  },
  {
   "cell_type": "markdown",
   "metadata": {
    "collapsed": false
   },
   "source": [
    "Вывод результатов в консоль"
   ]
  },
  {
   "cell_type": "code",
   "execution_count": null,
   "metadata": {
    "collapsed": false
   },
   "outputs": [],
   "source": [
    "# выводим результат\n",
    "# print(json.dumps(transcription_results, indent=4, ensure_ascii=False))"
   ]
  }
 ],
 "metadata": {
  "kernelspec": {
   "display_name": "Python 3",
   "language": "python",
   "name": "python3"
  },
  "language_info": {
   "codemirror_mode": {
    "name": "ipython",
    "version": 2
   },
   "file_extension": ".py",
   "mimetype": "text/x-python",
   "name": "python",
   "nbconvert_exporter": "python",
   "pygments_lexer": "ipython2",
   "version": "2.7.6"
  }
 },
 "nbformat": 4,
 "nbformat_minor": 0
}
