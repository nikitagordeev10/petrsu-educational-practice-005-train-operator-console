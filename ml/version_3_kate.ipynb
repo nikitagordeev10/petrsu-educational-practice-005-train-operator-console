{
 "cells": [
  {
   "cell_type": "markdown",
   "metadata": {
    "collapsed": false
   },
   "source": [
    "#### Импорт необходимых библиотек"
   ]
  },
  {
   "cell_type": "code",
   "execution_count": 59,
   "metadata": {
    "collapsed": false,
    "ExecuteTime": {
     "end_time": "2024-10-12T18:25:49.498848900Z",
     "start_time": "2024-10-12T18:25:47.858603800Z"
    }
   },
   "outputs": [],
   "source": [
    "import json\n",
    "import os\n",
    "import jiwer as jiwer\n",
    "import torch\n",
    "import torch.nn as nn\n",
    "from torch.utils.data import Dataset, DataLoader\n",
    "from sklearn.model_selection import train_test_split\n",
    "from vosk import Model, KaldiRecognizer\n",
    "import wave\n",
    "import numpy as np\n",
    "from pydub import AudioSegment\n",
    "from sklearn.feature_extraction.text import TfidfVectorizer\n",
    "from fuzzywuzzy import process\n",
    "from transformers import BertTokenizer, BertModel\n",
    "import optuna\n",
    "from gensim.models import Word2Vec\n",
    "import librosa"
   ]
  },
  {
   "cell_type": "code",
   "execution_count": 60,
   "outputs": [],
   "source": [
    "# Константы\n",
    "DATA_DIR = '../data/train/'\n",
    "DATA_DIR_FILES = [\n",
    "    'hr_bot_clear',\n",
    "    'hr_bot_noise',\n",
    "    'hr_bot_synt'\n",
    "]\n",
    "ANNOTATION_DIR = '../data/train/annotation/'\n",
    "ANNOTATION_FILES = [\n",
    "    'hr_bot_clear.json',\n",
    "    'hr_bot_noise.json',\n",
    "    'hr_bot_synt.json'\n",
    "]\n",
    "\n",
    "VAL_DIR = '../data/val/luga/'  # Путь к валидационным данным\n",
    "ANNOTATION_VAL_FILE = os.path.join(VAL_DIR, 'luga.json')\n",
    "\n",
    "# Настройка Vosk модели для распознавания речи\n",
    "MODEL_PATH = \"../model/vosk_model\"  # Путь к скачанной модели Vosk"
   ],
   "metadata": {
    "collapsed": false,
    "ExecuteTime": {
     "end_time": "2024-10-12T18:25:49.498848900Z",
     "start_time": "2024-10-12T18:25:49.491811200Z"
    }
   }
  },
  {
   "cell_type": "code",
   "execution_count": 61,
   "outputs": [
    {
     "name": "stdout",
     "output_type": "stream",
     "text": [
      "Модель Vosk загружена успешно.\n"
     ]
    }
   ],
   "source": [
    "# Настройка Vosk модели для распознавания речи\n",
    "MODEL_PATH = \"../model/vosk_model\"\n",
    "model = Model(MODEL_PATH)\n",
    "print(\"Модель Vosk загружена успешно.\")"
   ],
   "metadata": {
    "collapsed": false,
    "ExecuteTime": {
     "end_time": "2024-10-12T18:25:50.433237700Z",
     "start_time": "2024-10-12T18:25:49.491811200Z"
    }
   }
  },
  {
   "cell_type": "code",
   "execution_count": 62,
   "outputs": [],
   "source": [
    "# Метки команд\n",
    "_label = {\n",
    "    0: \"отказ\",\n",
    "    1: \"отмена\",\n",
    "    2: \"подтверждение\",\n",
    "    3: \"начать осаживание\",\n",
    "    4: \"осадить на (количество) вагон\",\n",
    "    5: \"продолжаем осаживание\",\n",
    "    6: \"зарядка тормозной магистрали\",\n",
    "    7: \"вышел из межвагонного пространства\",\n",
    "    8: \"продолжаем роспуск\",\n",
    "    9: \"растянуть автосцепки\",\n",
    "    10: \"протянуть на (количество) вагон\",\n",
    "    11: \"отцепка\",\n",
    "    12: \"назад на башмак\",\n",
    "    13: \"захожу в межвагонное пространство\",\n",
    "    14: \"остановка\",\n",
    "    15: \"вперед на башмак\",\n",
    "    16: \"сжать автосцепки\",\n",
    "    17: \"назад с башмака\",\n",
    "    18: \"тише\",\n",
    "    19: \"вперед с башмака\",\n",
    "    20: \"прекратить зарядку тормозной магистрали\",\n",
    "    21: \"тормозить\",\n",
    "    22: \"отпустить\",\n",
    "}"
   ],
   "metadata": {
    "collapsed": false,
    "ExecuteTime": {
     "end_time": "2024-10-12T18:25:50.470021100Z",
     "start_time": "2024-10-12T18:25:50.435749900Z"
    }
   }
  },
  {
   "cell_type": "markdown",
   "metadata": {},
   "source": [
    "#### Объявление классов"
   ]
  },
  {
   "cell_type": "code",
   "execution_count": 63,
   "metadata": {
    "collapsed": false,
    "ExecuteTime": {
     "end_time": "2024-10-12T18:25:50.470021100Z",
     "start_time": "2024-10-12T18:25:50.451788800Z"
    }
   },
   "outputs": [],
   "source": [
    "# Датасет для классификации текста\n",
    "class TextDataset(Dataset):\n",
    "    def __init__(self, texts, labels):\n",
    "        self.texts = texts\n",
    "        self.labels = labels\n",
    "\n",
    "    def __len__(self):\n",
    "        return len(self.texts)\n",
    "\n",
    "    def __getitem__(self, idx):\n",
    "        return self.texts[idx], self.labels[idx]"
   ]
  },
  {
   "cell_type": "code",
   "execution_count": 64,
   "metadata": {
    "collapsed": false,
    "ExecuteTime": {
     "end_time": "2024-10-12T18:25:50.492054400Z",
     "start_time": "2024-10-12T18:25:50.467019600Z"
    }
   },
   "outputs": [],
   "source": [
    "# Нейронная сеть для классификации текста\n",
    "class TextClassifier(nn.Module):\n",
    "    def __init__(self, input_dim, hidden_dim, output_dim):\n",
    "        super(TextClassifier, self).__init__()\n",
    "        self.fc1 = nn.Linear(input_dim, hidden_dim)\n",
    "        self.relu = nn.ReLU()\n",
    "        self.fc2 = nn.Linear(hidden_dim, output_dim)\n",
    "\n",
    "    def forward(self, x):\n",
    "        x = self.fc1(x)\n",
    "        x = self.relu(x)\n",
    "        x = self.fc2(x)\n",
    "        return x"
   ]
  },
  {
   "cell_type": "markdown",
   "metadata": {},
   "source": [
    "#### Объявление функций"
   ]
  },
  {
   "cell_type": "code",
   "execution_count": 65,
   "outputs": [],
   "source": [
    "def prepare_word2vec(texts):\n",
    "    tokenized_texts = [text.split() for text in texts]\n",
    "    model = Word2Vec(tokenized_texts, vector_size=100, window=5, min_count=1, workers=4)\n",
    "    return model"
   ],
   "metadata": {
    "collapsed": false,
    "ExecuteTime": {
     "end_time": "2024-10-12T18:25:50.523965900Z",
     "start_time": "2024-10-12T18:25:50.482038800Z"
    }
   }
  },
  {
   "cell_type": "code",
   "execution_count": 66,
   "outputs": [],
   "source": [
    "def encode_with_bert(text):\n",
    "    inputs = tokenizer(text, return_tensors='pt', padding=True, truncation=True)\n",
    "    outputs = bert_model(**inputs)\n",
    "    return outputs.last_hidden_state.mean(dim=1)  # Усреднение по всем токенам"
   ],
   "metadata": {
    "collapsed": false,
    "ExecuteTime": {
     "end_time": "2024-10-12T18:25:50.524967800Z",
     "start_time": "2024-10-12T18:25:50.496412200Z"
    }
   }
  },
  {
   "cell_type": "code",
   "execution_count": 67,
   "outputs": [],
   "source": [
    "# Аугментация аудио\n",
    "def augment_audio(file_path):\n",
    "    audio, sr = librosa.load(file_path, sr=None)\n",
    "\n",
    "    # Добавление белого шума\n",
    "    noise = np.random.randn(len(audio))\n",
    "    augmented_audio = audio + 0.005 * noise\n",
    "\n",
    "    # Изменение скорости\n",
    "    augmented_audio_speed = librosa.effects.time_stretch(audio, rate=1.2)\n",
    "\n",
    "    # Сохранение аугментированного аудио\n",
    "    augmented_file_path = file_path.replace('.wav', '_augmented.wav')\n",
    "    librosa.output.write_wav(augmented_file_path, augmented_audio, sr)\n",
    "\n",
    "    augmented_file_path_speed = file_path.replace('.wav', '_augmented_speed.wav')\n",
    "    librosa.output.write_wav(augmented_file_path_speed, augmented_audio_speed, sr)\n",
    "\n",
    "    return [augmented_file_path, augmented_file_path_speed]"
   ],
   "metadata": {
    "collapsed": false,
    "ExecuteTime": {
     "end_time": "2024-10-12T18:25:50.540546200Z",
     "start_time": "2024-10-12T18:25:50.513452700Z"
    }
   }
  },
  {
   "cell_type": "code",
   "execution_count": 68,
   "outputs": [],
   "source": [
    "def correct_transcription(transcribed_text):\n",
    "    # Используем fuzzywuzzy для нахождения ближайшей команды\n",
    "    corrected_text, score = process.extractOne(transcribed_text, label.values())\n",
    "    if score >= 80:  # Порог для принятия исправления\n",
    "        return corrected_text\n",
    "    return transcribed_text  # Если нет похожей команды, возвращаем оригинал"
   ],
   "metadata": {
    "collapsed": false,
    "ExecuteTime": {
     "end_time": "2024-10-12T18:25:50.550064200Z",
     "start_time": "2024-10-12T18:25:50.529968Z"
    }
   }
  },
  {
   "cell_type": "code",
   "execution_count": 69,
   "outputs": [],
   "source": [
    "# Преобразование MP3 в WAV\n",
    "def convert_mp3_to_wav(mp3_filepath):\n",
    "    try:\n",
    "        # Убедимся, что pydub правильно обрабатывает MP3\n",
    "        if not mp3_filepath.endswith('.mp3'):\n",
    "            print(f\"Файл {mp3_filepath} не является MP3.\")\n",
    "            return None\n",
    "\n",
    "        wav_filepath = mp3_filepath.replace('.mp3', '.wav')\n",
    "        audio = AudioSegment.from_file(mp3_filepath)  # Используем from_file для универсальности\n",
    "        audio.export(wav_filepath, format='wav')\n",
    "        print(f\"Файл {mp3_filepath} успешно конвертирован в WAV: {wav_filepath}\")\n",
    "        return wav_filepath\n",
    "    except Exception as e:\n",
    "        print(f\"Ошибка при конвертации {mp3_filepath} в WAV: {e}\")\n",
    "        return None"
   ],
   "metadata": {
    "collapsed": false,
    "ExecuteTime": {
     "end_time": "2024-10-12T18:25:50.579134300Z",
     "start_time": "2024-10-12T18:25:50.545061500Z"
    }
   }
  },
  {
   "cell_type": "code",
   "execution_count": 70,
   "metadata": {
    "collapsed": false,
    "ExecuteTime": {
     "end_time": "2024-10-12T18:25:50.579134300Z",
     "start_time": "2024-10-12T18:25:50.562088600Z"
    }
   },
   "outputs": [],
   "source": [
    "# Функция для обработки аудиофайла\n",
    "def transcribe_audio(audio_file, dir):\n",
    "    wf = wave.open(f\"{dir}/{audio_file}\", \"rb\")\n",
    "    rec = KaldiRecognizer(model, wf.getframerate())\n",
    "\n",
    "    result_text = \"\"\n",
    "    while True:\n",
    "        data = wf.readframes(4000)\n",
    "        if len(data) == 0:\n",
    "            break\n",
    "        if rec.AcceptWaveform(data):\n",
    "            result = json.loads(rec.Result())\n",
    "            result_text += result.get(\"text\", \"\") + \" \"\n",
    "\n",
    "    final_result = json.loads(rec.FinalResult())\n",
    "    result_text += final_result.get(\"text\", \"\")\n",
    "    print(f\"Распознанный текст для {audio_file}: {result_text}\")\n",
    "    return result_text.strip()"
   ]
  },
  {
   "cell_type": "code",
   "execution_count": 71,
   "metadata": {
    "collapsed": false,
    "ExecuteTime": {
     "end_time": "2024-10-12T18:25:50.593172300Z",
     "start_time": "2024-10-12T18:25:50.575624600Z"
    }
   },
   "outputs": [],
   "source": [
    "# Функция классификации текста\n",
    "def classify_text(text, classifier, tokenizer):\n",
    "    # Преобразование текста в вектор\n",
    "    text_vector = tokenizer.transform([text]).toarray()\n",
    "    text_tensor = torch.tensor(text_vector, dtype=torch.float32)\n",
    "\n",
    "    # Классификация текста\n",
    "    with torch.no_grad():\n",
    "        outputs = classifier(text_tensor)\n",
    "\n",
    "    _, predicted_class = torch.max(outputs, 1)\n",
    "\n",
    "    return predicted_class.item()"
   ]
  },
  {
   "cell_type": "code",
   "execution_count": 72,
   "metadata": {
    "collapsed": false,
    "ExecuteTime": {
     "end_time": "2024-10-12T18:25:50.615225300Z",
     "start_time": "2024-10-12T18:25:50.596175300Z"
    }
   },
   "outputs": [],
   "source": [
    "def process_audio_files(file_list, classifier, tokenizer, result_dir):\n",
    "    results = []\n",
    "\n",
    "    for file_info in file_list:\n",
    "        audio_file = file_info['file']\n",
    "        audio_id = file_info['id']\n",
    "        print(f\"Обработка файла: {audio_file}\")\n",
    "\n",
    "        # Транскрибируем аудиофайл\n",
    "        transcribed_text = transcribe_audio(audio_file)\n",
    "        if transcribed_text is None:\n",
    "            print(f\"Ошибка транскрипции для {audio_file}. Пропуск файла.\")\n",
    "            continue  # Пропускаем файл в случае ошибки\n",
    "\n",
    "        # Коррекция текста\n",
    "        corrected_text = correct_transcription(transcribed_text)\n",
    "        print(f\"Исправленный текст для {audio_file}: {corrected_text}\")\n",
    "\n",
    "        # Классификация текста\n",
    "        predicted_class = classify_text(corrected_text, classifier, tokenizer)\n",
    "\n",
    "        # Собираем атрибуты\n",
    "        attributes = {\n",
    "            \"length\": len(corrected_text.split()),\n",
    "            \"contains_numbers\": any(char.isdigit() for char in corrected_text)\n",
    "        }\n",
    "\n",
    "        result = {\n",
    "            \"file_name\": os.path.basename(audio_file),\n",
    "            \"file_id\": audio_id,\n",
    "            \"transcription\": corrected_text,\n",
    "            \"category\": predicted_class,\n",
    "            \"attributes\": attributes\n",
    "        }\n",
    "\n",
    "        results.append(result)\n",
    "        print(f\"Готово: {audio_file}\")\n",
    "\n",
    "    return results"
   ]
  },
  {
   "cell_type": "markdown",
   "metadata": {},
   "source": [
    "#### Подготовка настроек модели, создание модели"
   ]
  },
  {
   "cell_type": "code",
   "execution_count": 73,
   "metadata": {
    "collapsed": false,
    "ExecuteTime": {
     "end_time": "2024-10-12T18:25:50.637667900Z",
     "start_time": "2024-10-12T18:25:50.607712600Z"
    }
   },
   "outputs": [],
   "source": [
    "# Пример классификатора и токенизатора\n",
    "input_dim = 2  # Зависит от метода векторизации текста\n",
    "hidden_dim = 55\n",
    "output_dim = len(_label)  # Количество классов\n",
    "classifier = TextClassifier(input_dim, hidden_dim, output_dim)"
   ]
  },
  {
   "cell_type": "markdown",
   "metadata": {
    "collapsed": false
   },
   "source": [
    "#### Подготовка данных для обучения"
   ]
  },
  {
   "cell_type": "code",
   "execution_count": null,
   "outputs": [],
   "source": [
    "# Функция загрузки аннотаций\n",
    "def load_annotations(file_path):\n",
    "    with open(file_path, 'r', encoding='utf-8') as f:\n",
    "        return json.load(f)"
   ],
   "metadata": {
    "collapsed": false
   }
  },
  {
   "cell_type": "code",
   "execution_count": 74,
   "metadata": {
    "collapsed": false,
    "ExecuteTime": {
     "end_time": "2024-10-12T18:25:53.892879900Z",
     "start_time": "2024-10-12T18:25:50.620223500Z"
    }
   },
   "outputs": [
    {
     "name": "stdout",
     "output_type": "stream",
     "text": [
      "Начало загрузки данных...\n",
      "Загрузка аннотаций из: ../data/train/annotation/hr_bot_clear.json\n",
      "Файл ../data/train/hr_bot_clear\\6ca54494-76ff-11ee-8f2f-c09bf4619c03.mp3 успешно конвертирован в WAV: ../data/train/hr_bot_clear\\6ca54494-76ff-11ee-8f2f-c09bf4619c03.wav\n"
     ]
    },
    {
     "ename": "AttributeError",
     "evalue": "No librosa attribute output",
     "output_type": "error",
     "traceback": [
      "\u001B[1;31m---------------------------------------------------------------------------\u001B[0m",
      "\u001B[1;31mAttributeError\u001B[0m                            Traceback (most recent call last)",
      "Cell \u001B[1;32mIn[74], line 49\u001B[0m\n\u001B[0;32m     46\u001B[0m     \u001B[38;5;28;01mreturn\u001B[39;00m audio_files, texts, labels\n\u001B[0;32m     48\u001B[0m \u001B[38;5;28mprint\u001B[39m(\u001B[38;5;124m\"\u001B[39m\u001B[38;5;124mНачало загрузки данных...\u001B[39m\u001B[38;5;124m\"\u001B[39m)\n\u001B[1;32m---> 49\u001B[0m audio_files, texts, labels \u001B[38;5;241m=\u001B[39m \u001B[43mload_dataset\u001B[49m\u001B[43m(\u001B[49m\u001B[43m)\u001B[49m\n",
      "Cell \u001B[1;32mIn[74], line 29\u001B[0m, in \u001B[0;36mload_dataset\u001B[1;34m()\u001B[0m\n\u001B[0;32m     26\u001B[0m     \u001B[38;5;28;01mif\u001B[39;00m audio_filepath\u001B[38;5;241m.\u001B[39mendswith(\u001B[38;5;124m'\u001B[39m\u001B[38;5;124m.mp3\u001B[39m\u001B[38;5;124m'\u001B[39m):\n\u001B[0;32m     27\u001B[0m         audio_filepath \u001B[38;5;241m=\u001B[39m convert_mp3_to_wav(audio_filepath)\n\u001B[1;32m---> 29\u001B[0m     augmented_files \u001B[38;5;241m=\u001B[39m \u001B[43maugment_audio\u001B[49m\u001B[43m(\u001B[49m\u001B[43maudio_filepath\u001B[49m\u001B[43m)\u001B[49m  \u001B[38;5;66;03m# Аугментация аудио\u001B[39;00m\n\u001B[0;32m     30\u001B[0m     audio_files\u001B[38;5;241m.\u001B[39mextend(augmented_files)\n\u001B[0;32m     32\u001B[0m \u001B[38;5;28;01melse\u001B[39;00m:\n",
      "Cell \u001B[1;32mIn[67], line 14\u001B[0m, in \u001B[0;36maugment_audio\u001B[1;34m(file_path)\u001B[0m\n\u001B[0;32m     12\u001B[0m \u001B[38;5;66;03m# Сохранение аугментированного аудио\u001B[39;00m\n\u001B[0;32m     13\u001B[0m augmented_file_path \u001B[38;5;241m=\u001B[39m file_path\u001B[38;5;241m.\u001B[39mreplace(\u001B[38;5;124m'\u001B[39m\u001B[38;5;124m.wav\u001B[39m\u001B[38;5;124m'\u001B[39m, \u001B[38;5;124m'\u001B[39m\u001B[38;5;124m_augmented.wav\u001B[39m\u001B[38;5;124m'\u001B[39m)\n\u001B[1;32m---> 14\u001B[0m \u001B[43mlibrosa\u001B[49m\u001B[38;5;241;43m.\u001B[39;49m\u001B[43moutput\u001B[49m\u001B[38;5;241m.\u001B[39mwrite_wav(augmented_file_path, augmented_audio, sr)\n\u001B[0;32m     16\u001B[0m augmented_file_path_speed \u001B[38;5;241m=\u001B[39m file_path\u001B[38;5;241m.\u001B[39mreplace(\u001B[38;5;124m'\u001B[39m\u001B[38;5;124m.wav\u001B[39m\u001B[38;5;124m'\u001B[39m, \u001B[38;5;124m'\u001B[39m\u001B[38;5;124m_augmented_speed.wav\u001B[39m\u001B[38;5;124m'\u001B[39m)\n\u001B[0;32m     17\u001B[0m librosa\u001B[38;5;241m.\u001B[39moutput\u001B[38;5;241m.\u001B[39mwrite_wav(augmented_file_path_speed, augmented_audio_speed, sr)\n",
      "File \u001B[1;32mD:\\russian_railways\\002_train_operator_console\\venv\\lib\\site-packages\\lazy_loader\\__init__.py:94\u001B[0m, in \u001B[0;36mattach.<locals>.__getattr__\u001B[1;34m(name)\u001B[0m\n\u001B[0;32m     92\u001B[0m     \u001B[38;5;28;01mreturn\u001B[39;00m attr\n\u001B[0;32m     93\u001B[0m \u001B[38;5;28;01melse\u001B[39;00m:\n\u001B[1;32m---> 94\u001B[0m     \u001B[38;5;28;01mraise\u001B[39;00m \u001B[38;5;167;01mAttributeError\u001B[39;00m(\u001B[38;5;124mf\u001B[39m\u001B[38;5;124m\"\u001B[39m\u001B[38;5;124mNo \u001B[39m\u001B[38;5;132;01m{\u001B[39;00mpackage_name\u001B[38;5;132;01m}\u001B[39;00m\u001B[38;5;124m attribute \u001B[39m\u001B[38;5;132;01m{\u001B[39;00mname\u001B[38;5;132;01m}\u001B[39;00m\u001B[38;5;124m\"\u001B[39m)\n",
      "\u001B[1;31mAttributeError\u001B[0m: No librosa attribute output"
     ]
    }
   ],
   "source": [
    "def load_dataset():\n",
    "    audio_files = []\n",
    "    texts = []\n",
    "    labels = []\n",
    "\n",
    "    for annotation_file, data_dir in zip(ANNOTATION_FILES, DATA_DIR_FILES):\n",
    "        annotation_path = os.path.join(ANNOTATION_DIR, annotation_file)\n",
    "        print(f\"Загрузка аннотаций из: {annotation_path}\")\n",
    "        training_annotations = load_annotations(annotation_path)\n",
    "\n",
    "        for annotation in training_annotations:\n",
    "            audio_filepath = os.path.join(DATA_DIR, data_dir, annotation['audio_filepath'])\n",
    "            # Проверка существования файла перед конвертацией\n",
    "            if os.path.exists(audio_filepath):\n",
    "                if audio_filepath.endswith('.mp3'):\n",
    "                    audio_filepath = convert_mp3_to_wav(audio_filepath)\n",
    "\n",
    "                augmented_files = augment_audio(audio_filepath)  # Аугментация аудио\n",
    "                audio_files.extend(augmented_files)\n",
    "\n",
    "            else:\n",
    "                print(f\"Файл {audio_filepath} не найден.\")\n",
    "                continue  # Пропустить, если файл не найден\n",
    "\n",
    "\n",
    "            text = annotation['text']\n",
    "            label = annotation['label']\n",
    "            texts.extend([text] * len(augmented_files))  # Повторяем текст для каждого аугментированного файла\n",
    "            labels.extend([label] * len(augmented_files))\n",
    "\n",
    "    print(\"Загрузка датасета завершена.\")\n",
    "    return audio_files, texts, labels\n",
    "\n",
    "    print(\"Загрузка датасета завершена.\")\n",
    "    return audio_files, texts, labels\n",
    "\n",
    "print(\"Начало загрузки данных...\")\n",
    "audio_files, texts, labels = load_dataset()"
   ]
  },
  {
   "cell_type": "code",
   "execution_count": null,
   "outputs": [],
   "source": [
    "# Использование BERT для контекстуальной векторизации\n",
    "tokenizer = BertTokenizer.from_pretrained('bert-base-uncased')\n",
    "bert_model = BertModel.from_pretrained('bert-base-uncased')"
   ],
   "metadata": {
    "collapsed": false
   }
  },
  {
   "cell_type": "code",
   "execution_count": null,
   "outputs": [],
   "source": [
    "# Подготовка данных для Word2Vec\n",
    "word2vec_model = prepare_word2vec(texts)\n",
    "word2vec_vectors = np.array([word2vec_model.wv[text.split()].mean(axis=0) for text in texts])\n",
    "\n",
    "# Подготовка TF-IDF векторов\n",
    "tfidf_vectorizer = TfidfVectorizer(max_features=100)  # Максимальное количество признаков\n",
    "tfidf_vectors = tfidf_vectorizer.fit_transform(texts).toarray()\n",
    "\n",
    "# Пример использования BERT\n",
    "bert_vectors = np.array([encode_with_bert(text).detach().numpy() for text in texts])"
   ],
   "metadata": {
    "collapsed": false
   }
  },
  {
   "cell_type": "code",
   "execution_count": null,
   "outputs": [],
   "source": [
    "print(\"Разделение данных на тренировочные и тестовые...\")\n",
    "train_texts, test_texts, train_labels, test_labels = train_test_split(texts, labels, test_size=0.2)"
   ],
   "metadata": {
    "collapsed": false
   }
  },
  {
   "cell_type": "code",
   "execution_count": null,
   "outputs": [],
   "source": [
    "tokenizer = TfidfVectorizer(max_features=input_dim)\n",
    "\n",
    "# Подготовка текстовых данных для классификации\n",
    "train_vectors = tokenizer.fit_transform(train_texts).toarray()\n",
    "test_vectors = tokenizer.transform(test_texts).toarray()\n",
    "\n",
    "train_dataset = TextDataset(train_vectors, train_labels)\n",
    "train_loader = DataLoader(train_dataset, batch_size=2, shuffle=True)"
   ],
   "metadata": {
    "collapsed": false
   }
  },
  {
   "cell_type": "markdown",
   "metadata": {
    "collapsed": false
   },
   "source": [
    "#### Функция обучения модели (+ расчет метрик каждые 5 эпох)"
   ]
  },
  {
   "cell_type": "code",
   "execution_count": null,
   "metadata": {
    "collapsed": false
   },
   "outputs": [],
   "source": [
    "def train_classifier(classifier, train_vectors, train_labels, epochs=30, batch_size=4):\n",
    "    train_dataset = TextDataset(train_vectors, train_labels)\n",
    "    train_loader = DataLoader(train_dataset, batch_size=batch_size, shuffle=True)\n",
    "\n",
    "    criterion = nn.CrossEntropyLoss()\n",
    "    optimizer = torch.optim.Adam(classifier.parameters(), lr=0.001)\n",
    "\n",
    "    for epoch in range(epochs):\n",
    "        for texts_batch, labels_batch in train_loader:\n",
    "            texts_batch = texts_batch.float()\n",
    "            optimizer.zero_grad()\n",
    "            outputs = classifier(texts_batch)\n",
    "            loss = criterion(outputs, labels_batch)\n",
    "            loss.backward()\n",
    "            optimizer.step()\n",
    "\n",
    "        if (epoch + 1) % 5 == 0:\n",
    "            print(f\"Эпоха {epoch + 1}: Потеря = {loss.item():.4f}\")\n",
    "\n",
    "# Обучение с использованием TF-IDF\n",
    "print(\"Обучение модели с использованием TF-IDF...\")\n",
    "classifier_tfidf = TextClassifier(input_dim=tfidf_vectors.shape[1], hidden_dim=100, output_dim=len(set(labels)))\n",
    "train_classifier(classifier_tfidf, tfidf_vectors, train_labels)\n",
    "\n",
    "# Обучение с использованием Word2Vec\n",
    "print(\"Обучение модели с использованием Word2Vec...\")\n",
    "classifier_word2vec = TextClassifier(input_dim=100, hidden_dim=100, output_dim=len(set(labels)))  # 100 - размерность Word2Vec\n",
    "train_classifier(classifier_word2vec, word2vec_vectors, train_labels)\n",
    "\n",
    "# Обучение с использованием BERT\n",
    "print(\"Обучение модели с использованием BERT...\")\n",
    "classifier_bert = TextClassifier(input_dim=768, hidden_dim=100, output_dim=len(set(labels)))  # 768 - размерность BERT\n",
    "train_classifier(classifier_bert, bert_vectors, train_labels)\n",
    "\n",
    "print(\"Обучение завершено.\")"
   ]
  },
  {
   "cell_type": "markdown",
   "metadata": {
    "collapsed": false
   },
   "source": [
    "#### Использование модели для транскрибации и классификации текста"
   ]
  },
  {
   "cell_type": "code",
   "execution_count": null,
   "metadata": {
    "collapsed": true
   },
   "outputs": [],
   "source": [
    "def process_validation_files(val_dir, classifier, tokenizer):\n",
    "    \"\"\"Обрабатывает валидационные файлы и сохраняет результаты.\"\"\"\n",
    "    annotations = load_annotations(ANNOTATION_VAL_FILE)\n",
    "    print(f\"Загружено аннотаций: {len(annotations)}\")\n",
    "\n",
    "    result_files = []\n",
    "    for annotation in annotations:\n",
    "        audio_filepath = os.path.join(val_dir, annotation['audio_filepath'])\n",
    "        if os.path.exists(audio_filepath):\n",
    "            result_files.append({\"file\": audio_filepath, \"id\": annotation['id']})\n",
    "        else:\n",
    "            print(f\"Файл {audio_filepath} не найден.\")\n",
    "\n",
    "    if result_files:\n",
    "        # Обрабатываем аудиофайлы\n",
    "        transcription_results = process_audio_files(result_files, classifier, tokenizer, val_dir)\n",
    "\n",
    "        # Сохранение результатов в JSON\n",
    "        output_file = \"transcriptions_validation.json\"\n",
    "        with open(output_file, \"w\", encoding=\"utf-8\") as f:\n",
    "            json.dump(transcription_results, f, ensure_ascii=False, indent=4)\n",
    "\n",
    "        print(f\"Результаты транскрипции сохранены в {output_file}\")\n",
    "    else:\n",
    "        print(\"Нет доступных аудиофайлов для обработки.\")\n",
    "\n",
    "# Вызов функции для обработки валидационных файлов\n",
    "print(\"Обработка валидационных файлов...\")\n",
    "process_validation_files(VAL_DIR, classifier, tokenizer)"
   ]
  },
  {
   "cell_type": "code",
   "execution_count": null,
   "outputs": [],
   "source": [],
   "metadata": {
    "collapsed": false
   }
  }
 ],
 "metadata": {
  "kernelspec": {
   "display_name": "Python 3",
   "language": "python",
   "name": "python3"
  },
  "language_info": {
   "codemirror_mode": {
    "name": "ipython",
    "version": 2
   },
   "file_extension": ".py",
   "mimetype": "text/x-python",
   "name": "python",
   "nbconvert_exporter": "python",
   "pygments_lexer": "ipython2",
   "version": "2.7.6"
  }
 },
 "nbformat": 4,
 "nbformat_minor": 0
}
