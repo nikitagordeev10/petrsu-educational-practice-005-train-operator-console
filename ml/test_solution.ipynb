{
 "cells": [
  {
   "cell_type": "code",
   "execution_count": 20,
   "metadata": {},
   "outputs": [
    {
     "name": "stdout",
     "output_type": "stream",
     "text": [
      "Requirement already satisfied: pocketsphinx in c:\\users\\admin\\appdata\\local\\programs\\python\\python311\\lib\\site-packages (5.0.3)\n",
      "Requirement already satisfied: sounddevice in c:\\users\\admin\\appdata\\local\\programs\\python\\python311\\lib\\site-packages (from pocketsphinx) (0.5.1)\n",
      "Requirement already satisfied: CFFI>=1.0 in c:\\users\\admin\\appdata\\local\\programs\\python\\python311\\lib\\site-packages (from sounddevice->pocketsphinx) (1.16.0)\n",
      "Requirement already satisfied: pycparser in c:\\users\\admin\\appdata\\local\\programs\\python\\python311\\lib\\site-packages (from CFFI>=1.0->sounddevice->pocketsphinx) (2.21)\n",
      "Note: you may need to restart the kernel to use updated packages.\n"
     ]
    },
    {
     "name": "stderr",
     "output_type": "stream",
     "text": [
      "\n",
      "[notice] A new release of pip is available: 23.1.2 -> 24.2\n",
      "[notice] To update, run: python.exe -m pip install --upgrade pip\n"
     ]
    }
   ],
   "source": [
    "# %pip install pocketsphinx"
   ]
  },
  {
   "cell_type": "code",
   "execution_count": 19,
   "metadata": {},
   "outputs": [],
   "source": [
    "# %pip install SpeechRecognition\n",
    "# %pip install pydub"
   ]
  },
  {
   "cell_type": "code",
   "execution_count": 21,
   "metadata": {},
   "outputs": [],
   "source": [
    "import os\n",
    "import speech_recognition as sr\n",
    "from pydub import AudioSegment"
   ]
  },
  {
   "cell_type": "code",
   "execution_count": 22,
   "metadata": {},
   "outputs": [],
   "source": [
    "_label2id = {\n",
    "    \"отказ\": 0,\n",
    "    \"отмена\": 1,\n",
    "    \"подтверждение\": 2,\n",
    "    \"начать осаживание\": 3,\n",
    "    \"осадить на (количество) вагон\": 4,\n",
    "    \"продолжаем осаживание\": 5,\n",
    "    \"зарядка тормозной магистрали\": 6,\n",
    "    \"вышел из межвагонного пространства\": 7,\n",
    "    \"продолжаем роспуск\": 8,\n",
    "    \"растянуть автосцепки\": 9,\n",
    "    \"протянуть на (количество) вагон\": 10\n",
    "}\n"
   ]
  },
  {
   "cell_type": "code",
   "execution_count": 23,
   "metadata": {},
   "outputs": [],
   "source": [
    "def transcribe_audio(audio_path):\n",
    "    r = sr.Recognizer()\n",
    "    with sr.AudioFile(audio_path) as source:\n",
    "        audio_data = r.record(source)\n",
    "        try:\n",
    "            text = r.recognize_google(audio_data, language='ru-RU')\n",
    "            return text\n",
    "        except sr.RequestError as e:\n",
    "            print(f\"Ошибка при обращении к сервису: {e}\")\n",
    "            return None\n",
    "        except sr.UnknownValueError:\n",
    "            print(\"Не удалось распознать аудио\")\n",
    "            return None\n",
    "\n",
    "def classify_text(text):\n",
    "    for label, label_id in _label2id.items():\n",
    "        if label in text:\n",
    "            return label_id\n",
    "    return -1\n",
    "\n",
    "def process_audio_files(audio_files):\n",
    "    results = []\n",
    "    for audio_path in audio_files:\n",
    "        text = transcribe_audio(audio_path)\n",
    "        if text:\n",
    "            label = classify_text(text)\n",
    "            result = {\n",
    "                \"audio\": os.path.basename(audio_path),\n",
    "                \"text\": text,\n",
    "                \"label\": label,\n",
    "                \"attribute\": -1  # здесь можно добавить логики для атрибутов, если нужно\n",
    "            }\n",
    "            results.append(result)\n",
    "    return results"
   ]
  },
  {
   "cell_type": "code",
   "execution_count": 24,
   "metadata": {},
   "outputs": [
    {
     "name": "stdout",
     "output_type": "stream",
     "text": [
      "посадить на 19 вагонов\n"
     ]
    }
   ],
   "source": [
    "# Пример использования\n",
    "audio_file_path = \"..\\data\\\\train\\hr_bot_synt\\\\3a0cb44f-76ff-11ee-844c-c09bf4619c03_2.wav\"\n",
    "result = transcribe_audio(audio_file_path)\n",
    "if result:\n",
    "    print(result)\n",
    "else:\n",
    "    print(\"Не удалось обработать аудиофайл.\")"
   ]
  }
 ],
 "metadata": {
  "kernelspec": {
   "display_name": "Python 3",
   "language": "python",
   "name": "python3"
  },
  "language_info": {
   "codemirror_mode": {
    "name": "ipython",
    "version": 3
   },
   "file_extension": ".py",
   "mimetype": "text/x-python",
   "name": "python",
   "nbconvert_exporter": "python",
   "pygments_lexer": "ipython3",
   "version": "3.11.4"
  }
 },
 "nbformat": 4,
 "nbformat_minor": 2
}
