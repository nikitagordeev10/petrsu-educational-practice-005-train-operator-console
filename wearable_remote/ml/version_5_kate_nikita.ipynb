{
 "cells": [
  {
   "cell_type": "markdown",
   "metadata": {
    "collapsed": false
   },
   "source": [
    "#### Импорт необходимых библиотек"
   ]
  },
  {
   "cell_type": "code",
   "execution_count": null,
   "metadata": {
    "collapsed": false,
    "is_executing": true
   },
   "outputs": [],
   "source": [
    "import json\n",
    "import os\n",
    "import jiwer as jiwer\n",
    "import torch\n",
    "import torch.nn as nn\n",
    "from torch.utils.data import Dataset, DataLoader\n",
    "from sklearn.model_selection import train_test_split\n",
    "from vosk import Model, KaldiRecognizer\n",
    "import wave\n",
    "import numpy as np\n",
    "from pydub import AudioSegment\n",
    "from sklearn.feature_extraction.text import TfidfVectorizer\n",
    "from fuzzywuzzy import process\n",
    "from transformers import BertTokenizer, BertModel\n",
    "import optuna\n",
    "from gensim.models import Word2Vec\n",
    "import librosa"
   ]
  },
  {
   "cell_type": "code",
   "execution_count": null,
   "outputs": [],
   "source": [
    "# Константы\n",
    "DATA_DIR = '../data/train/'\n",
    "DATA_DIR_FILES = [\n",
    "    'hr_bot_clear',\n",
    "    'hr_bot_noise',\n",
    "    'hr_bot_synt'\n",
    "]\n",
    "ANNOTATION_DIR = '../data/train/annotation/'\n",
    "ANNOTATION_FILES = [\n",
    "    'hr_bot_clear.json',\n",
    "    'hr_bot_noise.json',\n",
    "    'hr_bot_synt.json'\n",
    "]\n",
    "\n",
    "VAL_DIR = '../data/val/luga/'  # Путь к валидационным данным\n",
    "ANNOTATION_VAL_FILE = os.path.join(VAL_DIR, 'luga.json')\n",
    "\n",
    "# Настройка Vosk модели для распознавания речи\n",
    "MODEL_PATH = \"../model/vosk_model\"  # Путь к скачанной модели Vosk"
   ],
   "metadata": {
    "collapsed": false,
    "is_executing": true
   }
  },
  {
   "cell_type": "code",
   "execution_count": null,
   "outputs": [],
   "source": [
    "# Настройка Vosk модели для распознавания речи\n",
    "MODEL_PATH = \"../model/vosk_model\"\n",
    "model = Model(MODEL_PATH)\n",
    "print(\"Модель Vosk загружена успешно.\")"
   ],
   "metadata": {
    "collapsed": false,
    "is_executing": true
   }
  },
  {
   "cell_type": "code",
   "execution_count": null,
   "outputs": [],
   "source": [
    "# Метки команд\n",
    "_label = {\n",
    "    0: \"отказ\",\n",
    "    1: \"отмена\",\n",
    "    2: \"подтверждение\",\n",
    "    3: \"начать осаживание\",\n",
    "    4: \"осадить на (количество) вагон\",\n",
    "    5: \"продолжаем осаживание\",\n",
    "    6: \"зарядка тормозной магистрали\",\n",
    "    7: \"вышел из межвагонного пространства\",\n",
    "    8: \"продолжаем роспуск\",\n",
    "    9: \"растянуть автосцепки\",\n",
    "    10: \"протянуть на (количество) вагон\",\n",
    "    11: \"отцепка\",\n",
    "    12: \"назад на башмак\",\n",
    "    13: \"захожу в межвагонное пространство\",\n",
    "    14: \"остановка\",\n",
    "    15: \"вперед на башмак\",\n",
    "    16: \"сжать автосцепки\",\n",
    "    17: \"назад с башмака\",\n",
    "    18: \"тише\",\n",
    "    19: \"вперед с башмака\",\n",
    "    20: \"прекратить зарядку тормозной магистрали\",\n",
    "    21: \"тормозить\",\n",
    "    22: \"отпустить\",\n",
    "}"
   ],
   "metadata": {
    "collapsed": false,
    "is_executing": true
   }
  },
  {
   "cell_type": "markdown",
   "metadata": {},
   "source": [
    "#### Объявление классов"
   ]
  },
  {
   "cell_type": "code",
   "execution_count": null,
   "metadata": {
    "collapsed": false,
    "is_executing": true
   },
   "outputs": [],
   "source": [
    "# Датасет для классификации текста\n",
    "class TextDataset(Dataset):\n",
    "    def __init__(self, texts, labels):\n",
    "        self.texts = texts\n",
    "        self.labels = labels\n",
    "\n",
    "    def __len__(self):\n",
    "        return len(self.texts)\n",
    "\n",
    "    def __getitem__(self, idx):\n",
    "        return self.texts[idx], self.labels[idx]"
   ]
  },
  {
   "cell_type": "code",
   "execution_count": null,
   "metadata": {
    "collapsed": false,
    "is_executing": true
   },
   "outputs": [],
   "source": [
    "# Нейронная сеть для классификации текста\n",
    "class TextClassifier(nn.Module):\n",
    "    def __init__(self, input_dim, hidden_dim, output_dim):\n",
    "        super(TextClassifier, self).__init__()\n",
    "        self.fc1 = nn.Linear(input_dim, hidden_dim)\n",
    "        self.relu = nn.ReLU()\n",
    "        self.fc2 = nn.Linear(hidden_dim, output_dim)\n",
    "\n",
    "    def forward(self, x):\n",
    "        x = self.fc1(x)\n",
    "        x = self.relu(x)\n",
    "        x = self.fc2(x)\n",
    "        return x"
   ]
  },
  {
   "cell_type": "markdown",
   "metadata": {},
   "source": [
    "#### Объявление функций"
   ]
  },
  {
   "cell_type": "code",
   "execution_count": null,
   "outputs": [],
   "source": [
    "def prepare_word2vec(texts):\n",
    "    tokenized_texts = [text.split() for text in texts]\n",
    "    model = Word2Vec(tokenized_texts, vector_size=100, window=5, min_count=1, workers=4)\n",
    "    return model"
   ],
   "metadata": {
    "collapsed": false,
    "is_executing": true
   }
  },
  {
   "cell_type": "code",
   "execution_count": null,
   "outputs": [],
   "source": [
    "def encode_with_bert(text):\n",
    "    inputs = tokenizer(text, return_tensors='pt', padding=True, truncation=True)\n",
    "    outputs = bert_model(**inputs)\n",
    "    return outputs.last_hidden_state.mean(dim=1)  # Усреднение по всем токенам"
   ],
   "metadata": {
    "collapsed": false,
    "is_executing": true
   }
  },
  {
   "cell_type": "code",
   "execution_count": null,
   "outputs": [],
   "source": [
    "# Аугментация аудио\n",
    "def augment_audio(file_path):\n",
    "    audio, sr = librosa.load(file_path, sr=None)\n",
    "\n",
    "    # Добавление белого шума\n",
    "    noise = np.random.randn(len(audio))\n",
    "    augmented_audio = audio + 0.005 * noise\n",
    "\n",
    "    # Изменение скорости\n",
    "    augmented_audio_speed = librosa.effects.time_stretch(audio, rate=1.2)\n",
    "\n",
    "    # Save augmented audio\n",
    "    augmented_file_paths = []\n",
    "    for augmented_audio_variant in [augmented_audio, augmented_audio_speed]:\n",
    "        augmented_file_path = file_path.replace('.wav', f'_{augmented_audio_variant}.wav')\n",
    "        librosa.output.write_wav(augmented_file_path, augmented_audio_variant, sr)\n",
    "        augmented_file_paths.append(augmented_file_path)\n",
    "\n",
    "    return augmented_file_paths"
   ],
   "metadata": {
    "collapsed": false,
    "is_executing": true
   }
  },
  {
   "cell_type": "code",
   "execution_count": null,
   "outputs": [],
   "source": [
    "def correct_transcription(transcribed_text):\n",
    "    # Используем fuzzywuzzy для нахождения ближайшей команды\n",
    "    corrected_text, score = process.extractOne(transcribed_text, label.values())\n",
    "    if score >= 80:  # Порог для принятия исправления\n",
    "        return corrected_text\n",
    "    return transcribed_text  # Если нет похожей команды, возвращаем оригинал"
   ],
   "metadata": {
    "collapsed": false,
    "is_executing": true
   }
  },
  {
   "cell_type": "code",
   "execution_count": null,
   "outputs": [],
   "source": [
    "# Преобразование MP3 в WAV\n",
    "def convert_mp3_to_wav(mp3_filepath):\n",
    "    try:\n",
    "        # Убедимся, что pydub правильно обрабатывает MP3\n",
    "        if not mp3_filepath.endswith('.mp3'):\n",
    "            print(f\"Файл {mp3_filepath} не является MP3.\")\n",
    "            return None\n",
    "\n",
    "        wav_filepath = mp3_filepath.replace('.mp3', '.wav')\n",
    "        audio = AudioSegment.from_file(mp3_filepath)  # Используем from_file для универсальности\n",
    "        audio.export(wav_filepath, format='wav')\n",
    "        print(f\"Файл {mp3_filepath} успешно конвертирован в WAV: {wav_filepath}\")\n",
    "        return wav_filepath\n",
    "    except Exception as e:\n",
    "        print(f\"Ошибка при конвертации {mp3_filepath} в WAV: {e}\")\n",
    "        return None"
   ],
   "metadata": {
    "collapsed": false,
    "is_executing": true
   }
  },
  {
   "cell_type": "code",
   "execution_count": null,
   "metadata": {
    "collapsed": false,
    "is_executing": true
   },
   "outputs": [],
   "source": [
    "# Функция для обработки аудиофайла\n",
    "def transcribe_audio(audio_file, dir):\n",
    "    wf = wave.open(f\"{dir}/{audio_file}\", \"rb\")\n",
    "    rec = KaldiRecognizer(model, wf.getframerate())\n",
    "\n",
    "    result_text = \"\"\n",
    "    while True:\n",
    "        data = wf.readframes(4000)\n",
    "        if len(data) == 0:\n",
    "            break\n",
    "        if rec.AcceptWaveform(data):\n",
    "            result = json.loads(rec.Result())\n",
    "            result_text += result.get(\"text\", \"\") + \" \"\n",
    "\n",
    "    final_result = json.loads(rec.FinalResult())\n",
    "    result_text += final_result.get(\"text\", \"\")\n",
    "    print(f\"Распознанный текст для {audio_file}: {result_text}\")\n",
    "    return result_text.strip()"
   ]
  },
  {
   "cell_type": "code",
   "execution_count": null,
   "metadata": {
    "collapsed": false,
    "is_executing": true
   },
   "outputs": [],
   "source": [
    "# Функция классификации текста\n",
    "def classify_text(text, classifier, tokenizer):\n",
    "    # Преобразование текста в вектор\n",
    "    text_vector = tokenizer.transform([text]).toarray()\n",
    "    text_tensor = torch.tensor(text_vector, dtype=torch.float32)\n",
    "\n",
    "    # Классификация текста\n",
    "    with torch.no_grad():\n",
    "        outputs = classifier(text_tensor)\n",
    "\n",
    "    _, predicted_class = torch.max(outputs, 1)\n",
    "\n",
    "    return predicted_class.item()"
   ]
  },
  {
   "cell_type": "code",
   "execution_count": null,
   "metadata": {
    "collapsed": false,
    "is_executing": true
   },
   "outputs": [],
   "source": [
    "def process_audio_files(file_list, classifier, tokenizer, result_dir):\n",
    "    results = []\n",
    "\n",
    "    for file_info in file_list:\n",
    "        audio_file = file_info['file']\n",
    "        audio_id = file_info['id']\n",
    "        print(f\"Обработка файла: {audio_file}\")\n",
    "\n",
    "        # Транскрибируем аудиофайл\n",
    "        transcribed_text = transcribe_audio(audio_file)\n",
    "        if transcribed_text is None:\n",
    "            print(f\"Ошибка транскрипции для {audio_file}. Пропуск файла.\")\n",
    "            continue  # Пропускаем файл в случае ошибки\n",
    "\n",
    "        # Коррекция текста\n",
    "        corrected_text = correct_transcription(transcribed_text)\n",
    "        print(f\"Исправленный текст для {audio_file}: {corrected_text}\")\n",
    "\n",
    "        # Классификация текста\n",
    "        predicted_class = classify_text(corrected_text, classifier, tokenizer)\n",
    "\n",
    "        # Собираем атрибуты\n",
    "        attributes = {\n",
    "            \"length\": len(corrected_text.split()),\n",
    "            \"contains_numbers\": any(char.isdigit() for char in corrected_text)\n",
    "        }\n",
    "\n",
    "        result = {\n",
    "            \"file_name\": os.path.basename(audio_file),\n",
    "            \"file_id\": audio_id,\n",
    "            \"transcription\": corrected_text,\n",
    "            \"category\": predicted_class,\n",
    "            \"attributes\": attributes\n",
    "        }\n",
    "\n",
    "        results.append(result)\n",
    "        print(f\"Готово: {audio_file}\")\n",
    "\n",
    "    return results"
   ]
  },
  {
   "cell_type": "markdown",
   "metadata": {},
   "source": [
    "#### Подготовка настроек модели, создание модели"
   ]
  },
  {
   "cell_type": "code",
   "execution_count": null,
   "metadata": {
    "collapsed": false,
    "is_executing": true
   },
   "outputs": [],
   "source": [
    "# Пример классификатора и токенизатора\n",
    "input_dim = 2  # Зависит от метода векторизации текста\n",
    "hidden_dim = 55\n",
    "output_dim = len(_label)  # Количество классов\n",
    "classifier = TextClassifier(input_dim, hidden_dim, output_dim)"
   ]
  },
  {
   "cell_type": "markdown",
   "metadata": {
    "collapsed": false
   },
   "source": [
    "#### Подготовка данных для обучения"
   ]
  },
  {
   "cell_type": "code",
   "execution_count": null,
   "outputs": [],
   "source": [
    "# Функция загрузки аннотаций\n",
    "def load_annotations(file_path):\n",
    "    with open(file_path, 'r', encoding='utf-8') as f:\n",
    "        return json.load(f)"
   ],
   "metadata": {
    "collapsed": false,
    "is_executing": true
   }
  },
  {
   "cell_type": "code",
   "execution_count": null,
   "metadata": {
    "collapsed": false,
    "is_executing": true
   },
   "outputs": [],
   "source": [
    "def load_dataset():\n",
    "    audio_files = []\n",
    "    texts = []\n",
    "    labels = []\n",
    "\n",
    "    for annotation_file, data_dir in zip(ANNOTATION_FILES, DATA_DIR_FILES):\n",
    "        annotation_path = os.path.join(ANNOTATION_DIR, annotation_file)\n",
    "        print(f\"Загрузка аннотаций из: {annotation_path}\")\n",
    "        training_annotations = load_annotations(annotation_path)\n",
    "\n",
    "        for annotation in training_annotations:\n",
    "            audio_filepath = os.path.join(DATA_DIR, data_dir, annotation['audio_filepath'])\n",
    "            # Проверка существования файла перед конвертацией\n",
    "            if os.path.exists(audio_filepath):\n",
    "                if audio_filepath.endswith('.mp3'):\n",
    "                    audio_filepath = convert_mp3_to_wav(audio_filepath)\n",
    "\n",
    "                augmented_files = augment_audio(audio_filepath)  # Аугментация аудио\n",
    "                audio_files.extend(augmented_files)\n",
    "\n",
    "            else:\n",
    "                print(f\"Файл {audio_filepath} не найден.\")\n",
    "                continue  # Пропустить, если файл не найден\n",
    "\n",
    "\n",
    "            text = annotation['text']\n",
    "            label = annotation['label']\n",
    "            texts.extend([text] * len(augmented_files))  # Повторяем текст для каждого аугментированного файла\n",
    "            labels.extend([label] * len(augmented_files))\n",
    "\n",
    "    print(\"Загрузка датасета завершена.\")\n",
    "    return audio_files, texts, labels\n",
    "\n",
    "    print(\"Загрузка датасета завершена.\")\n",
    "    return audio_files, texts, labels\n",
    "\n",
    "print(\"Начало загрузки данных...\")\n",
    "audio_files, texts, labels = load_dataset()"
   ]
  },
  {
   "cell_type": "code",
   "execution_count": null,
   "outputs": [],
   "source": [
    "# Использование BERT для контекстуальной векторизации\n",
    "tokenizer = BertTokenizer.from_pretrained('bert-base-uncased')\n",
    "bert_model = BertModel.from_pretrained('bert-base-uncased')"
   ],
   "metadata": {
    "collapsed": false,
    "is_executing": true
   }
  },
  {
   "cell_type": "code",
   "execution_count": null,
   "outputs": [],
   "source": [
    "# Подготовка данных для Word2Vec\n",
    "word2vec_model = prepare_word2vec(texts)\n",
    "word2vec_vectors = np.array([word2vec_model.wv[text.split()].mean(axis=0) for text in texts])\n",
    "\n",
    "# Подготовка TF-IDF векторов\n",
    "tfidf_vectorizer = TfidfVectorizer(max_features=100)  # Максимальное количество признаков\n",
    "tfidf_vectors = tfidf_vectorizer.fit_transform(texts).toarray()\n",
    "\n",
    "# Пример использования BERT\n",
    "bert_vectors = np.array([encode_with_bert(text).detach().numpy() for text in texts])"
   ],
   "metadata": {
    "collapsed": false,
    "is_executing": true
   }
  },
  {
   "cell_type": "code",
   "execution_count": null,
   "outputs": [],
   "source": [
    "print(\"Разделение данных на тренировочные и тестовые...\")\n",
    "X_train, X_val, y_train, y_val = train_test_split(tfidf_vectors, labels, test_size=0.2, random_state=42)"
   ],
   "metadata": {
    "collapsed": false,
    "is_executing": true
   }
  },
  {
   "cell_type": "code",
   "execution_count": null,
   "outputs": [],
   "source": [
    "# Create data loaders\n",
    "train_dataset = TextDataset(X_train, y_train)\n",
    "val_dataset = TextDataset(X_val, y_val)\n",
    "\n",
    "train_loader = DataLoader(train_dataset, batch_size=32, shuffle=True)\n",
    "val_loader = DataLoader(val_dataset, batch_size=32, shuffle=False)"
   ],
   "metadata": {
    "collapsed": false,
    "is_executing": true
   }
  },
  {
   "cell_type": "code",
   "execution_count": null,
   "outputs": [],
   "source": [
    "# Initialize classifier\n",
    "input_dim = X_train.shape[1]\n",
    "hidden_dim = 64  # Can be tuned\n",
    "output_dim = len(set(labels))  # Number of classes\n",
    "classifier = TextClassifier(input_dim, hidden_dim, output_dim)\n",
    "\n",
    "# Define loss function and optimizer\n",
    "criterion = nn.CrossEntropyLoss()\n",
    "optimizer = torch.optim.Adam(classifier.parameters(), lr=0.001)"
   ],
   "metadata": {
    "collapsed": false,
    "is_executing": true
   }
  },
  {
   "cell_type": "markdown",
   "metadata": {
    "collapsed": false
   },
   "source": [
    "#### Функция обучения модели (+ расчет метрик каждые 5 эпох)"
   ]
  },
  {
   "cell_type": "code",
   "execution_count": null,
   "metadata": {
    "collapsed": false,
    "is_executing": true
   },
   "outputs": [],
   "source": [
    "# Training loop\n",
    "num_epochs = 10  # Can be tuned\n",
    "for epoch in range(num_epochs):\n",
    "    classifier.train()\n",
    "    for texts, labels in train_loader:\n",
    "        optimizer.zero_grad()\n",
    "        outputs = classifier(texts)\n",
    "        loss = criterion(outputs, labels)\n",
    "        loss.backward()\n",
    "        optimizer.step()\n",
    "\n",
    "    # Validation\n",
    "    classifier.eval()\n",
    "    val_outputs = []\n",
    "    val_labels = []\n",
    "    with torch.no_grad():\n",
    "        for texts, labels in val_loader:\n",
    "            outputs = classifier(texts)\n",
    "            val_outputs.append(outputs)\n",
    "            val_labels.append(labels)\n",
    "\n",
    "    val_outputs = torch.cat(val_outputs)\n",
    "    val_labels = torch.cat(val_labels)\n",
    "\n",
    "    val_predictions = torch.argmax(val_outputs, dim=1).numpy()\n",
    "    val_f1_score = f1_score(y_val, val_predictions, average='weighted')\n",
    "    val_precision = precision_score(y_val, val_predictions, average='weighted')\n",
    "    val_recall = recall_score(y_val, val_predictions, average='weighted')\n",
    "\n",
    "    print(f\"Epoch {epoch+1}/{num_epochs} - \"\n",
    "          f\"Validation F1 Score: {val_f1_score:.4f} - \"\n",
    "          f\"Validation Precision: {val_precision:.4f} - \"\n",
    "          f\"Validation Recall: {val_recall:.4f}\")\n",
    "\n",
    "# Save the trained model\n",
    "torch.save(classifier.state_dict(), '../model/text_classifier.pth')\n",
    "print(\"Model saved.\")"
   ]
  },
  {
   "cell_type": "markdown",
   "source": [
    "#### Метрики производительности"
   ],
   "metadata": {
    "collapsed": false
   }
  },
  {
   "cell_type": "code",
   "execution_count": null,
   "outputs": [],
   "source": [
    "# Validate audio files\n",
    "audio_files_to_validate = [audio_file for audio_file in audio_files if audio_file.endswith('.wav')]\n",
    "print(f\"Starting audio validation for {len(audio_files_to_validate)} files...\")\n",
    "\n",
    "validation_results = process_audio_files(audio_files_to_validate, classifier)"
   ],
   "metadata": {
    "collapsed": false,
    "is_executing": true
   }
  },
  {
   "cell_type": "code",
   "execution_count": null,
   "outputs": [],
   "source": [
    "# Save results to JSON\n",
    "results_file_path = '../data/results/validation_results.json'\n",
    "with open(results_file_path, 'w', encoding='utf-8') as results_file:\n",
    "    json.dump(validation_results, results_file, ensure_ascii=False, indent=4)\n",
    "\n",
    "print(f\"Validation results saved to {results_file_path}.\")"
   ],
   "metadata": {
    "collapsed": false,
    "is_executing": true
   }
  },
  {
   "cell_type": "code",
   "execution_count": null,
   "outputs": [],
   "source": [
    "#### Метрики производительности"
   ],
   "metadata": {
    "collapsed": false,
    "is_executing": true
   }
  },
  {
   "cell_type": "code",
   "execution_count": null,
   "outputs": [],
   "source": [
    "# Вычисление WER\n",
    "def calculate_wer(reference, hypothesis):\n",
    "    reference_words = reference.split()\n",
    "    hypothesis_words = hypothesis.split()\n",
    "\n",
    "    S = sum(1 for r, h in zip(reference_words, hypothesis_words) if r != h)\n",
    "    D = len(reference_words) - len(hypothesis_words) if len(reference_words) > len(hypothesis_words) else 0\n",
    "    I = len(hypothesis_words) - len(reference_words) if len(hypothesis_words) > len(reference_words) else 0\n",
    "    N = len(reference_words)\n",
    "\n",
    "    return (S + D + I) / N if N > 0 else 0\n",
    "\n",
    "# Вычисление Mq\n",
    "def calculate_mq(wer, f1_weighted):\n",
    "    WERnorm = wer\n",
    "    return 0.25 * (1 - WERnorm) + 0.75 * f1_weighted"
   ],
   "metadata": {
    "collapsed": false,
    "is_executing": true
   }
  },
  {
   "cell_type": "code",
   "execution_count": null,
   "outputs": [],
   "source": [
    "# Оптимизация гиперпараметров с помощью Optuna\n",
    "def objective(trial):\n",
    "    hidden_dim = trial.suggest_int('hidden_dim', 32, 128)\n",
    "    learning_rate = trial.suggest_loguniform('learning_rate', 1e-5, 1e-1)\n",
    "    batch_size = trial.suggest_int('batch_size', 4, 16)\n",
    "\n",
    "    # Загрузка и подготовка данных\n",
    "    audio_files, texts, labels = load_dataset()\n",
    "    train_texts, test_texts, train_labels, test_labels = train_test_split(texts, labels, test_size=0.2)\n",
    "\n",
    "    # Генерация векторов BERT\n",
    "    bert_vectors = np.array([encode_with_bert(text).detach().numpy() for text in train_texts])\n",
    "\n",
    "    # Создание датасета и загрузчика\n",
    "    train_dataset = TextDataset(bert_vectors, train_labels)\n",
    "    train_loader = DataLoader(train_dataset, batch_size=batch_size, shuffle=True)\n",
    "\n",
    "    # Обучение модели\n",
    "    classifier = TextClassifier(input_dim=768, hidden_dim=hidden_dim, output_dim=len(set(labels)))\n",
    "    criterion = nn.CrossEntropyLoss()\n",
    "    optimizer = torch.optim.Adam(classifier.parameters(), lr=learning_rate)\n",
    "\n",
    "    for epoch in range(3):  # Можно увеличить количество эпох\n",
    "        for texts_batch, labels_batch in train_loader:\n",
    "            texts_batch = texts_batch.float()\n",
    "            optimizer.zero_grad()\n",
    "            outputs = classifier(texts_batch)\n",
    "            loss = criterion(outputs, labels_batch)\n",
    "            loss.backward()\n",
    "            optimizer.step()\n",
    "\n",
    "    # Оценка модели на тестовом наборе\n",
    "    test_bert_vectors = np.array([encode_with_bert(text).detach().numpy() for text in test_texts])\n",
    "    test_dataset = TextDataset(test_bert_vectors, test_labels)\n",
    "    test_loader = DataLoader(test_dataset, batch_size=batch_size, shuffle=False)\n",
    "\n",
    "    all_predictions = []\n",
    "    all_labels = []\n",
    "\n",
    "    with torch.no_grad():\n",
    "        for texts_batch, labels_batch in test_loader:\n",
    "            texts_batch = texts_batch.float()\n",
    "            outputs = classifier(texts_batch)\n",
    "            _, predicted = torch.max(outputs, 1)\n",
    "\n",
    "            all_predictions.extend(predicted.numpy())\n",
    "            all_labels.extend(labels_batch.numpy())\n",
    "\n",
    "    # Вычисление метрик\n",
    "    f1_weighted = f1_score(all_labels, all_predictions, average='weighted')\n",
    "    precision = precision_score(all_labels, all_predictions, average='weighted')\n",
    "    recall = recall_score(all_labels, all_predictions, average='weighted')\n",
    "\n",
    "    # Расчет WER и Mq\n",
    "    wer = calculate_wer(\" \".join(test_texts), \" \".join([tokenizer.decode(pred) for pred in all_predictions]))\n",
    "    mq = calculate_mq(wer, f1_weighted)\n",
    "\n",
    "    print(f'F1-Weighted: {f1_weighted}, Precision: {precision}, Recall: {recall}, WER: {wer}, Mq: {mq}')\n",
    "\n",
    "    return f1_weighted\n",
    "\n",
    "# Запуск оптимизации гиперпараметров\n",
    "study = optuna.create_study(direction='maximize')\n",
    "study.optimize(objective, n_trials=10)\n",
    "\n",
    "print(\"Лучшие гиперпараметры: \", study.best_params)"
   ],
   "metadata": {
    "collapsed": false,
    "is_executing": true
   }
  },
  {
   "cell_type": "markdown",
   "metadata": {
    "collapsed": false
   },
   "source": [
    "#### Проверка модели на тестовых данных"
   ]
  },
  {
   "cell_type": "code",
   "execution_count": null,
   "metadata": {
    "collapsed": true,
    "is_executing": true
   },
   "outputs": [],
   "source": [
    "def process_validation_files(val_dir, classifier, tokenizer):\n",
    "    \"\"\"Обрабатывает валидационные файлы и сохраняет результаты.\"\"\"\n",
    "    annotations = load_annotations(ANNOTATION_VAL_FILE)\n",
    "    print(f\"Загружено аннотаций: {len(annotations)}\")\n",
    "\n",
    "    result_files = []\n",
    "    for annotation in annotations:\n",
    "        audio_filepath = os.path.join(val_dir, annotation['audio_filepath'])\n",
    "        if os.path.exists(audio_filepath):\n",
    "            result_files.append({\"file\": audio_filepath, \"id\": annotation['id']})\n",
    "        else:\n",
    "            print(f\"Файл {audio_filepath} не найден.\")\n",
    "\n",
    "    if result_files:\n",
    "        # Обрабатываем аудиофайлы\n",
    "        transcription_results = process_audio_files(result_files, classifier, tokenizer, val_dir)\n",
    "\n",
    "        # Сохранение результатов в JSON\n",
    "        output_file = \"transcriptions_validation.json\"\n",
    "        with open(output_file, \"w\", encoding=\"utf-8\") as f:\n",
    "            json.dump(transcription_results, f, ensure_ascii=False, indent=4)\n",
    "\n",
    "        print(f\"Результаты транскрипции сохранены в {output_file}\")\n",
    "    else:\n",
    "        print(\"Нет доступных аудиофайлов для обработки.\")\n",
    "\n",
    "# Вызов функции для обработки валидационных файлов\n",
    "print(\"Обработка валидационных файлов...\")\n",
    "process_validation_files(VAL_DIR, classifier, tokenizer)"
   ]
  },
  {
   "cell_type": "code",
   "execution_count": null,
   "outputs": [],
   "source": [],
   "metadata": {
    "collapsed": false,
    "is_executing": true
   }
  }
 ],
 "metadata": {
  "kernelspec": {
   "display_name": "Python 3",
   "language": "python",
   "name": "python3"
  },
  "language_info": {
   "codemirror_mode": {
    "name": "ipython",
    "version": 2
   },
   "file_extension": ".py",
   "mimetype": "text/x-python",
   "name": "python",
   "nbconvert_exporter": "python",
   "pygments_lexer": "ipython2",
   "version": "2.7.6"
  }
 },
 "nbformat": 4,
 "nbformat_minor": 0
}
