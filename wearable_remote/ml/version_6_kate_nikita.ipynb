{
 "cells": [
  {
   "cell_type": "code",
   "execution_count": null,
   "outputs": [],
   "source": [],
   "metadata": {
    "collapsed": false
   }
  },
  {
   "cell_type": "code",
   "execution_count": null,
   "outputs": [],
   "source": [
    "# Датасет для классификации текста\n",
    "class TextDataset(Dataset):\n",
    "    def __init__(self, texts, labels):\n",
    "        self.texts = texts\n",
    "        self.labels = labels\n",
    "\n",
    "    def __len__(self):\n",
    "        return len(self.texts)\n",
    "\n",
    "    def __getitem__(self, idx):\n",
    "        return self.texts[idx], self.labels[idx]"
   ],
   "metadata": {
    "collapsed": false
   }
  },
  {
   "cell_type": "code",
   "execution_count": null,
   "outputs": [],
   "source": [
    "# Нейронная сеть для классификации текста\n",
    "class TextClassifier(nn.Module):\n",
    "    def __init__(self, input_dim, hidden_dim, output_dim):\n",
    "        super(TextClassifier, self).__init__()\n",
    "        self.fc1 = nn.Linear(input_dim, hidden_dim)\n",
    "        self.relu = nn.ReLU()\n",
    "        self.fc2 = nn.Linear(hidden_dim, output_dim)\n",
    "\n",
    "    def forward(self, x):\n",
    "        x = self.fc1(x)\n",
    "        x = self.relu(x)\n",
    "        x = self.fc2(x)\n",
    "        return x"
   ],
   "metadata": {
    "collapsed": false
   }
  },
  {
   "cell_type": "code",
   "execution_count": null,
   "outputs": [],
   "source": [
    "def prepare_word2vec(texts):\n",
    "    tokenized_texts = [text.split() for text in texts]\n",
    "    model = Word2Vec(tokenized_texts, vector_size=100, window=5, min_count=1, workers=4)\n",
    "    return model"
   ],
   "metadata": {
    "collapsed": false
   }
  },
  {
   "cell_type": "code",
   "execution_count": null,
   "outputs": [],
   "source": [
    "def encode_with_bert(text):\n",
    "    inputs = tokenizer(text, return_tensors='pt', padding=True, truncation=True)\n",
    "    outputs = bert_model(**inputs)\n",
    "    return outputs.last_hidden_state.mean(dim=1)  # Усреднение по всем токенам"
   ],
   "metadata": {
    "collapsed": false
   }
  },
  {
   "cell_type": "code",
   "execution_count": null,
   "outputs": [],
   "source": [
    "# Аугментация аудио\n",
    "def augment_audio(file_path):\n",
    "    audio, sr = librosa.load(file_path, sr=None)\n",
    "\n",
    "    # Добавление белого шума\n",
    "    noise = np.random.randn(len(audio))\n",
    "    augmented_audio = audio + 0.005 * noise\n",
    "\n",
    "    # Изменение скорости\n",
    "    augmented_audio_speed = librosa.effects.time_stretch(audio, rate=1.2)\n",
    "\n",
    "    # Сохранение аугментированного аудио\n",
    "    augmented_file_path = file_path.replace('.wav', '_augmented.wav')\n",
    "    librosa.output.write_wav(augmented_file_path, augmented_audio, sr)\n",
    "\n",
    "    augmented_file_path_speed = file_path.replace('.wav', '_augmented_speed.wav')\n",
    "    librosa.output.write_wav(augmented_file_path_speed, augmented_audio_speed, sr)\n",
    "\n",
    "    return [augmented_file_path, augmented_file_path_speed]"
   ],
   "metadata": {
    "collapsed": false
   }
  },
  {
   "cell_type": "code",
   "execution_count": null,
   "outputs": [],
   "source": [
    "def prepare_word2vec(texts):\n",
    "    tokenized_texts = [text.split() for text in texts]\n",
    "    model = Word2Vec(tokenized_texts, vector_size=100, window=5, min_count=1, workers=4)\n",
    "    return model"
   ],
   "metadata": {
    "collapsed": false
   }
  },
  {
   "cell_type": "code",
   "execution_count": null,
   "outputs": [],
   "source": [
    "def encode_with_bert(text):\n",
    "    inputs = tokenizer(text, return_tensors='pt', padding=True, truncation=True)\n",
    "    outputs = bert_model(**inputs)\n",
    "    return outputs.last_hidden_state.mean(dim=1)  # Усреднение по всем токенам"
   ],
   "metadata": {
    "collapsed": false
   }
  },
  {
   "cell_type": "code",
   "execution_count": null,
   "outputs": [],
   "source": [
    "# Аугментация аудио\n",
    "def augment_audio(file_path):\n",
    "    audio, sr = librosa.load(file_path, sr=None)\n",
    "\n",
    "    # Добавление белого шума\n",
    "    noise = np.random.randn(len(audio))\n",
    "    augmented_audio = audio + 0.005 * noise\n",
    "\n",
    "    # Изменение скорости\n",
    "    augmented_audio_speed = librosa.effects.time_stretch(audio, rate=1.2)\n",
    "\n",
    "    # Сохранение аугментированного аудио\n",
    "    augmented_file_path = file_path.replace('.wav', '_augmented.wav')\n",
    "    librosa.output.write_wav(augmented_file_path, augmented_audio, sr)\n",
    "\n",
    "    augmented_file_path_speed = file_path.replace('.wav', '_augmented_speed.wav')\n",
    "    librosa.output.write_wav(augmented_file_path_speed, augmented_audio_speed, sr)\n",
    "\n",
    "    return [augmented_file_path, augmented_file_path_speed]"
   ],
   "metadata": {
    "collapsed": false
   }
  },
  {
   "cell_type": "code",
   "execution_count": null,
   "outputs": [],
   "source": [
    "def correct_transcription(transcribed_text):\n",
    "    # Используем fuzzywuzzy для нахождения ближайшей команды\n",
    "    corrected_text, score = process.extractOne(transcribed_text, label.values())\n",
    "    if score >= 80:  # Порог для принятия исправления\n",
    "        return corrected_text\n",
    "    return transcribed_text  # Если нет похожей команды, возвращаем оригинал"
   ],
   "metadata": {
    "collapsed": false
   }
  },
  {
   "cell_type": "code",
   "execution_count": null,
   "outputs": [],
   "source": [
    "def correct_transcription(transcribed_text):\n",
    "    # Используем fuzzywuzzy для нахождения ближайшей команды\n",
    "    corrected_text, score = process.extractOne(transcribed_text, label.values())\n",
    "    if score >= 80:  # Порог для принятия исправления\n",
    "        return corrected_text\n",
    "    return transcribed_text  # Если нет похожей команды, возвращаем оригинал"
   ],
   "metadata": {
    "collapsed": false
   }
  },
  {
   "cell_type": "code",
   "execution_count": null,
   "outputs": [],
   "source": [
    "# Функция для обработки аудиофайла\n",
    "def transcribe_audio(audio_file, dir):\n",
    "    wf = wave.open(f\"{dir}/{audio_file}\", \"rb\")\n",
    "    rec = KaldiRecognizer(model, wf.getframerate())\n",
    "\n",
    "    result_text = \"\"\n",
    "    while True:\n",
    "        data = wf.readframes(4000)\n",
    "        if len(data) == 0:\n",
    "            break\n",
    "        if rec.AcceptWaveform(data):\n",
    "            result = json.loads(rec.Result())\n",
    "            result_text += result.get(\"text\", \"\") + \" \"\n",
    "\n",
    "    final_result = json.loads(rec.FinalResult())\n",
    "    result_text += final_result.get(\"text\", \"\")\n",
    "    print(f\"Распознанный текст для {audio_file}: {result_text}\")\n",
    "    return result_text.strip()"
   ],
   "metadata": {
    "collapsed": false
   }
  },
  {
   "cell_type": "code",
   "execution_count": null,
   "outputs": [],
   "source": [
    "# Функция классификации текста\n",
    "def classify_text(text, classifier, tokenizer):\n",
    "    # Преобразование текста в вектор\n",
    "    text_vector = tokenizer.transform([text]).toarray()\n",
    "    text_tensor = torch.tensor(text_vector, dtype=torch.float32)\n",
    "\n",
    "    # Классификация текста\n",
    "    with torch.no_grad():\n",
    "        outputs = classifier(text_tensor)\n",
    "\n",
    "    _, predicted_class = torch.max(outputs, 1)\n",
    "\n",
    "    return predicted_class.item()"
   ],
   "metadata": {
    "collapsed": false
   }
  },
  {
   "cell_type": "code",
   "execution_count": null,
   "outputs": [],
   "source": [
    "def process_audio_files(file_list, classifier, tokenizer, result_dir):\n",
    "    results = []\n",
    "\n",
    "    for file_info in file_list:\n",
    "        audio_file = file_info['file']\n",
    "        audio_id = file_info['id']\n",
    "        print(f\"Обработка файла: {audio_file}\")\n",
    "\n",
    "        # Транскрибируем аудиофайл\n",
    "        transcribed_text = transcribe_audio(audio_file)\n",
    "        if transcribed_text is None:\n",
    "            print(f\"Ошибка транскрипции для {audio_file}. Пропуск файла.\")\n",
    "            continue  # Пропускаем файл в случае ошибки\n",
    "\n",
    "        # Коррекция текста\n",
    "        corrected_text = correct_transcription(transcribed_text)\n",
    "        print(f\"Исправленный текст для {audio_file}: {corrected_text}\")\n",
    "\n",
    "        # Классификация текста\n",
    "        predicted_class = classify_text(corrected_text, classifier, tokenizer)\n",
    "\n",
    "        # Собираем атрибуты\n",
    "        attributes = {\n",
    "            \"length\": len(corrected_text.split()),\n",
    "            \"contains_numbers\": any(char.isdigit() for char in corrected_text)\n",
    "        }\n",
    "\n",
    "        result = {\n",
    "            \"file_name\": os.path.basename(audio_file),\n",
    "            \"file_id\": audio_id,\n",
    "            \"transcription\": corrected_text,\n",
    "            \"category\": predicted_class,\n",
    "            \"attributes\": attributes\n",
    "        }\n",
    "\n",
    "        results.append(result)\n",
    "        print(f\"Готово: {audio_file}\")\n",
    "\n",
    "    return results"
   ],
   "metadata": {
    "collapsed": false
   }
  },
  {
   "cell_type": "code",
   "execution_count": null,
   "outputs": [],
   "source": [
    "# Пример классификатора и токенизатора\n",
    "input_dim = 2  # Зависит от метода векторизации текста\n",
    "hidden_dim = 55\n",
    "output_dim = len(_label)  # Количество классов\n",
    "classifier = TextClassifier(input_dim, hidden_dim, output_dim)"
   ],
   "metadata": {
    "collapsed": false
   }
  },
  {
   "cell_type": "code",
   "execution_count": null,
   "outputs": [],
   "source": [
    "# Функция загрузки аннотаций\n",
    "def load_annotations(file_path):\n",
    "    with open(file_path, 'r', encoding='utf-8') as f:\n",
    "        return json.load(f)"
   ],
   "metadata": {
    "collapsed": false
   }
  },
  {
   "cell_type": "code",
   "execution_count": null,
   "outputs": [],
   "source": [
    "def load_dataset():\n",
    "    audio_files = []\n",
    "    texts = []\n",
    "    labels = []\n",
    "\n",
    "    for annotation_file, data_dir in zip(ANNOTATION_FILES, DATA_DIR_FILES):\n",
    "        annotation_path = os.path.join(ANNOTATION_DIR, annotation_file)\n",
    "        print(f\"Загрузка аннотаций из: {annotation_path}\")\n",
    "        training_annotations = load_annotations(annotation_path)\n",
    "\n",
    "        for annotation in training_annotations:\n",
    "            audio_filepath = os.path.join(DATA_DIR, data_dir, annotation['audio_filepath'])\n",
    "            # Проверка существования файла перед конвертацией\n",
    "            if os.path.exists(audio_filepath):\n",
    "                if audio_filepath.endswith('.mp3'):\n",
    "                    audio_filepath = convert_mp3_to_wav(audio_filepath)\n",
    "\n",
    "                augmented_files = augment_audio(audio_filepath)  # Аугментация аудио\n",
    "                audio_files.extend(augmented_files)\n",
    "\n",
    "            else:\n",
    "                print(f\"Файл {audio_filepath} не найден.\")\n",
    "                continue  # Пропустить, если файл не найден\n",
    "\n",
    "\n",
    "            text = annotation['text']\n",
    "            label = annotation['label']\n",
    "            texts.extend([text] * len(augmented_files))  # Повторяем текст для каждого аугментированного файла\n",
    "            labels.extend([label] * len(augmented_files))\n",
    "\n",
    "    print(\"Загрузка датасета завершена.\")\n",
    "    return audio_files, texts, labels\n",
    "\n",
    "    print(\"Загрузка датасета завершена.\")\n",
    "    return audio_files, texts, labels"
   ],
   "metadata": {
    "collapsed": false
   }
  },
  {
   "cell_type": "code",
   "execution_count": null,
   "outputs": [],
   "source": [
    "print(\"Начало загрузки данных...\")\n",
    "audio_files, texts, labels = load_dataset()"
   ],
   "metadata": {
    "collapsed": false
   }
  },
  {
   "cell_type": "code",
   "execution_count": null,
   "outputs": [],
   "source": [
    "# Использование BERT для контекстуальной векторизации\n",
    "tokenizer = BertTokenizer.from_pretrained('bert-base-uncased')\n",
    "bert_model = BertModel.from_pretrained('bert-base-uncased')"
   ],
   "metadata": {
    "collapsed": false
   }
  },
  {
   "cell_type": "code",
   "execution_count": null,
   "outputs": [],
   "source": [
    "# Подготовка данных для Word2Vec\n",
    "word2vec_model = prepare_word2vec(texts)\n",
    "word2vec_vectors = np.array([word2vec_model.wv[text.split()].mean(axis=0) for text in texts])"
   ],
   "metadata": {
    "collapsed": false
   }
  },
  {
   "cell_type": "code",
   "execution_count": null,
   "outputs": [],
   "source": [
    "# Подготовка TF-IDF векторов\n",
    "tfidf_vectorizer = TfidfVectorizer(max_features=100)  # Максимальное количество признаков\n",
    "tfidf_vectors = tfidf_vectorizer.fit_transform(texts).toarray()"
   ],
   "metadata": {
    "collapsed": false
   }
  },
  {
   "cell_type": "code",
   "execution_count": null,
   "outputs": [],
   "source": [
    "# Пример использования BERT\n",
    "bert_vectors = np.array([encode_with_bert(text).detach().numpy() for text in texts])"
   ],
   "metadata": {
    "collapsed": false
   }
  },
  {
   "cell_type": "code",
   "execution_count": null,
   "outputs": [],
   "source": [
    "print(\"Разделение данных на тренировочные и тестовые...\")\n",
    "train_texts, test_texts, train_labels, test_labels = train_test_split(texts, labels, test_size=0.2)"
   ],
   "metadata": {
    "collapsed": false
   }
  },
  {
   "cell_type": "code",
   "execution_count": null,
   "outputs": [],
   "source": [
    "tokenizer = TfidfVectorizer(max_features=input_dim)"
   ],
   "metadata": {
    "collapsed": false
   }
  },
  {
   "cell_type": "code",
   "execution_count": null,
   "outputs": [],
   "source": [
    "# Подготовка текстовых данных для классификации\n",
    "train_vectors = tokenizer.fit_transform(train_texts).toarray()\n",
    "test_vectors = tokenizer.transform(test_texts).toarray()\n",
    "\n",
    "train_dataset = TextDataset(train_vectors, train_labels)\n",
    "train_loader = DataLoader(train_dataset, batch_size=2, shuffle=True)"
   ],
   "metadata": {
    "collapsed": false
   }
  },
  {
   "cell_type": "code",
   "execution_count": null,
   "outputs": [],
   "source": [],
   "metadata": {
    "collapsed": false
   }
  },
  {
   "cell_type": "code",
   "execution_count": 1,
   "metadata": {
    "collapsed": true,
    "ExecuteTime": {
     "end_time": "2024-10-12T21:23:14.994233700Z",
     "start_time": "2024-10-12T21:23:09.744160100Z"
    }
   },
   "outputs": [
    {
     "name": "stderr",
     "output_type": "stream",
     "text": [
      "\n",
      "KeyboardInterrupt\n",
      "\n"
     ]
    }
   ],
   "source": [
    "def train_classifier(classifier, train_vectors, train_labels, epochs=30, batch_size=4):\n",
    "    train_dataset = TextDataset(train_vectors, train_labels)\n",
    "    train_loader = DataLoader(train_dataset, batch_size=batch_size, shuffle=True)\n",
    "\n",
    "    criterion = nn.CrossEntropyLoss()\n",
    "    optimizer = torch.optim.Adam(classifier.parameters(), lr=0.001)\n",
    "\n",
    "    for epoch in range(epochs):\n",
    "        for texts_batch, labels_batch in train_loader:\n",
    "            texts_batch = texts_batch.float()\n",
    "            optimizer.zero_grad()\n",
    "            outputs = classifier(texts_batch)\n",
    "            loss = criterion(outputs, labels_batch)\n",
    "            loss.backward()\n",
    "            optimizer.step()\n",
    "\n",
    "        if (epoch + 1) % 5 == 0:\n",
    "            print(f\"Эпоха {epoch + 1}: Потеря = {loss.item():.4f}\")\n",
    "\n",
    "# Обучение с использованием TF-IDF\n",
    "print(\"Обучение модели с использованием TF-IDF...\")\n",
    "classifier_tfidf = TextClassifier(input_dim=tfidf_vectors.shape[1], hidden_dim=100, output_dim=len(set(labels)))\n",
    "train_classifier(classifier_tfidf, tfidf_vectors, train_labels)\n",
    "\n",
    "# Обучение с использованием Word2Vec\n",
    "print(\"Обучение модели с использованием Word2Vec...\")\n",
    "classifier_word2vec = TextClassifier(input_dim=100, hidden_dim=100, output_dim=len(set(labels)))  # 100 - размерность Word2Vec\n",
    "train_classifier(classifier_word2vec, word2vec_vectors, train_labels)\n",
    "\n",
    "# Обучение с использованием BERT\n",
    "print(\"Обучение модели с использованием BERT...\")\n",
    "classifier_bert = TextClassifier(input_dim=768, hidden_dim=100, output_dim=len(set(labels)))  # 768 - размерность BERT\n",
    "train_classifier(classifier_bert, bert_vectors, train_labels)\n",
    "\n",
    "print(\"Обучение завершено.\")\n",
    "\n",
    "# Вычисление WER\n",
    "def calculate_wer(reference, hypothesis):\n",
    "    reference_words = reference.split()\n",
    "    hypothesis_words = hypothesis.split()\n",
    "\n",
    "    S = sum(1 for r, h in zip(reference_words, hypothesis_words) if r != h)\n",
    "    D = len(reference_words) - len(hypothesis_words) if len(reference_words) > len(hypothesis_words) else 0\n",
    "    I = len(hypothesis_words) - len(reference_words) if len(hypothesis_words) > len(reference_words) else 0\n",
    "    N = len(reference_words)\n",
    "\n",
    "    return (S + D + I) / N if N > 0 else 0\n",
    "\n",
    "# Вычисление Mq\n",
    "def calculate_mq(wer, f1_weighted):\n",
    "    WERnorm = wer\n",
    "    return 0.25 * (1 - WERnorm) + 0.75 * f1_weighted\n",
    "\n",
    "# Оптимизация гиперпараметров с помощью Optuna\n",
    "def objective(trial):\n",
    "    hidden_dim = trial.suggest_int('hidden_dim', 32, 128)\n",
    "    learning_rate = trial.suggest_loguniform('learning_rate', 1e-5, 1e-1)\n",
    "    batch_size = trial.suggest_int('batch_size', 4, 16)\n",
    "\n",
    "    # Загрузка и подготовка данных\n",
    "    audio_files, texts, labels = load_dataset()\n",
    "    train_texts, test_texts, train_labels, test_labels = train_test_split(texts, labels, test_size=0.2)\n",
    "\n",
    "    # Генерация векторов BERT\n",
    "    bert_vectors = np.array([encode_with_bert(text).detach().numpy() for text in train_texts])\n",
    "\n",
    "    # Создание датасета и загрузчика\n",
    "    train_dataset = TextDataset(bert_vectors, train_labels)\n",
    "    train_loader = DataLoader(train_dataset, batch_size=batch_size, shuffle=True)\n",
    "\n",
    "    # Обучение модели\n",
    "    classifier = TextClassifier(input_dim=768, hidden_dim=hidden_dim, output_dim=len(set(labels)))\n",
    "    criterion = nn.CrossEntropyLoss()\n",
    "    optimizer = torch.optim.Adam(classifier.parameters(), lr=learning_rate)\n",
    "\n",
    "    for epoch in range(3):  # Можно увеличить количество эпох\n",
    "        for texts_batch, labels_batch in train_loader:\n",
    "            texts_batch = texts_batch.float()\n",
    "            optimizer.zero_grad()\n",
    "            outputs = classifier(texts_batch)\n",
    "            loss = criterion(outputs, labels_batch)\n",
    "            loss.backward()\n",
    "            optimizer.step()\n",
    "\n",
    "    # Оценка модели на тестовом наборе\n",
    "    test_bert_vectors = np.array([encode_with_bert(text).detach().numpy() for text in test_texts])\n",
    "    test_dataset = TextDataset(test_bert_vectors, test_labels)\n",
    "    test_loader = DataLoader(test_dataset, batch_size=batch_size, shuffle=False)\n",
    "\n",
    "    all_predictions = []\n",
    "    all_labels = []\n",
    "\n",
    "    with torch.no_grad():\n",
    "        for texts_batch, labels_batch in test_loader:\n",
    "            texts_batch = texts_batch.float()\n",
    "            outputs = classifier(texts_batch)\n",
    "            _, predicted = torch.max(outputs, 1)\n",
    "\n",
    "            all_predictions.extend(predicted.numpy())\n",
    "            all_labels.extend(labels_batch.numpy())\n",
    "\n",
    "    # Вычисление метрик\n",
    "    f1_weighted = f1_score(all_labels, all_predictions, average='weighted')\n",
    "    precision = precision_score(all_labels, all_predictions, average='weighted')\n",
    "    recall = recall_score(all_labels, all_predictions, average='weighted')\n",
    "\n",
    "    # Расчет WER и Mq\n",
    "    wer = calculate_wer(\" \".join(test_texts), \" \".join([tokenizer.decode(pred) for pred in all_predictions]))\n",
    "    mq = calculate_mq(wer, f1_weighted)\n",
    "\n",
    "    print(f'F1-Weighted: {f1_weighted}, Precision: {precision}, Recall: {recall}, WER: {wer}, Mq: {mq}')\n",
    "\n",
    "    return f1_weighted\n",
    "\n",
    "# Запуск оптимизации гиперпараметров\n",
    "study = optuna.create_study(direction='maximize')\n",
    "study.optimize(objective, n_trials=10)\n",
    "\n",
    "print(\"Лучшие гиперпараметры: \", study.best_params)\n",
    "\n",
    "def process_validation_files(val_dir, classifier, tokenizer):\n",
    "    \"\"\"Обрабатывает валидационные файлы и сохраняет результаты.\"\"\"\n",
    "    annotations = load_annotations(ANNOTATION_VAL_FILE)\n",
    "    print(f\"Загружено аннотаций: {len(annotations)}\")\n",
    "\n",
    "    result_files = []\n",
    "    for annotation in annotations:\n",
    "        audio_filepath = os.path.join(val_dir, annotation['audio_filepath'])\n",
    "        if os.path.exists(audio_filepath):\n",
    "            result_files.append({\"file\": audio_filepath, \"id\": annotation['id']})\n",
    "        else:\n",
    "            print(f\"Файл {audio_filepath} не найден.\")\n",
    "\n",
    "    if result_files:\n",
    "        # Обрабатываем аудиофайлы\n",
    "        transcription_results = process_audio_files(result_files, classifier, tokenizer, val_dir)\n",
    "\n",
    "        # Сохранение результатов в JSON\n",
    "        output_file = \"transcriptions_validation.json\"\n",
    "        with open(output_file, \"w\", encoding=\"utf-8\") as f:\n",
    "            json.dump(transcription_results, f, ensure_ascii=False, indent=4)\n",
    "\n",
    "        print(f\"Результаты транскрипции сохранены в {output_file}\")\n",
    "    else:\n",
    "        print(\"Нет доступных аудиофайлов для обработки.\")\n",
    "\n",
    "# Вызов функции для обработки валидационных файлов\n",
    "print(\"Обработка валидационных файлов...\")\n",
    "process_validation_files(VAL_DIR, classifier, tokenizer)\n",
    "\n"
   ]
  }
 ],
 "metadata": {
  "kernelspec": {
   "display_name": "Python 3",
   "language": "python",
   "name": "python3"
  },
  "language_info": {
   "codemirror_mode": {
    "name": "ipython",
    "version": 2
   },
   "file_extension": ".py",
   "mimetype": "text/x-python",
   "name": "python",
   "nbconvert_exporter": "python",
   "pygments_lexer": "ipython2",
   "version": "2.7.6"
  }
 },
 "nbformat": 4,
 "nbformat_minor": 0
}
