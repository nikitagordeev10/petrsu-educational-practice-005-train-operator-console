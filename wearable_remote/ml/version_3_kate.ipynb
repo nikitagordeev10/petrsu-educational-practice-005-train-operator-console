{
 "cells": [
  {
   "cell_type": "markdown",
   "metadata": {
    "collapsed": false
   },
   "source": [
    "#### Импорт необходимых библиотек"
   ]
  },
  {
   "cell_type": "markdown",
   "metadata": {},
   "source": [
    "#### Объявление классов"
   ]
  },
  {
   "cell_type": "markdown",
   "metadata": {},
   "source": [
    "##### Объявление функций"
   ]
  },
  {
   "cell_type": "markdown",
   "metadata": {},
   "source": [
    "##### Подготовка настроек модели, создание модели"
   ]
  },
  {
   "cell_type": "code",
   "execution_count": 81,
   "metadata": {
    "collapsed": false,
    "ExecuteTime": {
     "end_time": "2024-10-12T18:35:38.919946500Z",
     "start_time": "2024-10-12T18:35:38.902428300Z"
    }
   },
   "outputs": [],
   "source": [
    "# Пример классификатора и токенизатора\n",
    "input_dim = 2  # Зависит от метода векторизации текста\n",
    "hidden_dim = 55\n",
    "output_dim = 22  # Количество классов\n",
    "classifier = TextClassifier(input_dim, hidden_dim, output_dim)"
   ]
  },
  {
   "cell_type": "code",
   "execution_count": 82,
   "metadata": {
    "collapsed": false,
    "ExecuteTime": {
     "end_time": "2024-10-12T18:35:39.804052400Z",
     "start_time": "2024-10-12T18:35:38.917948200Z"
    }
   },
   "outputs": [],
   "source": [
    "model = Model(MODEL_PATH)"
   ]
  },
  {
   "cell_type": "markdown",
   "metadata": {
    "collapsed": false
   },
   "source": [
    "#### Подготовка данных для обучения"
   ]
  },
  {
   "cell_type": "code",
   "execution_count": 83,
   "metadata": {
    "collapsed": false,
    "ExecuteTime": {
     "end_time": "2024-10-12T18:35:39.848289200Z",
     "start_time": "2024-10-12T18:35:39.789454600Z"
    }
   },
   "outputs": [],
   "source": [
    "train_data_dir = '../data/train/annotation'\n",
    "with open(f'{train_data_dir}/hr_bot_synt.json', 'r', encoding='utf-8') as f:\n",
    "    training_annotations = json.load(f)\n",
    "\n",
    "\n",
    "def load_data_annotations():\n",
    "    audio_files = []\n",
    "    texts = []\n",
    "    labels = []\n",
    "\n",
    "\n",
    "    for annotation in training_annotations:\n",
    "        audio_filepath = annotation['audio_filepath']\n",
    "        file_id = annotation['id']\n",
    "        text = annotation['text']\n",
    "        label = annotation['label']\n",
    "\n",
    "        # Добавление данных в соответствующие списки\n",
    "        audio_files.append({\"file\": audio_filepath, \"id\": file_id})\n",
    "        texts.append(text)\n",
    "        labels.append(label)\n",
    "\n",
    "    return audio_files, texts, labels\n",
    "\n",
    "audio_files, texts, labels = load_data_annotations()\n",
    "\n",
    "# Разделение данных на тренировочные и тестовые\n",
    "train_texts, test_texts, train_labels, test_labels = train_test_split(texts, labels, test_size=0.2)\n",
    "\n",
    "tokenizer = TfidfVectorizer(max_features=input_dim)\n",
    "\n",
    "# Подготовка текстовых данных для классификации\n",
    "train_vectors = tokenizer.fit_transform(train_texts).toarray()\n",
    "test_vectors = tokenizer.transform(test_texts).toarray()\n",
    "\n",
    "train_dataset = TextDataset(train_vectors, train_labels)\n",
    "train_loader = DataLoader(train_dataset, batch_size=2, shuffle=True)"
   ]
  },
  {
   "cell_type": "markdown",
   "metadata": {
    "collapsed": false
   },
   "source": [
    "#### Функция обучения модели (+ расчет метрик каждые 5 эпох)"
   ]
  },
  {
   "cell_type": "code",
   "execution_count": 5,
   "outputs": [],
   "source": [
    "criterion = nn.CrossEntropyLoss()\n",
    "optimizer = torch.optim.Adam(classifier.parameters(), lr=0.001, weight_decay=0.01)\n",
    "\n",
    "val_reference_texts = []\n",
    "val_audio_files = []\n",
    "\n",
    "def train():\n",
    "    for epoch in range(30):\n",
    "        for texts_batch, labels_batch in train_loader:\n",
    "            texts_batch = texts_batch.float()\n",
    "            optimizer.zero_grad()\n",
    "            outputs = classifier(texts_batch)\n",
    "            loss = criterion(outputs, labels_batch)\n",
    "            loss.backward()\n",
    "            optimizer.step()\n",
    "\n",
    "        # Оценка на валидационном наборе после каждой эпохи\n",
    "        if (epoch + 1) % 5 == 0:  # Оценка каждые 5 эпох\n",
    "            # val_hypothesis_texts = process_audio_files(val_audio_files, classifier, tokenizer, dir)\n",
    "\n",
    "            # # Рассчитываем WER для валидационного набора\n",
    "            # wer = jiwer.wer(val_reference_texts, val_hypothesis_texts)\n",
    "            print(f\"Эпоха {epoch + 1}\")"
   ],
   "metadata": {
    "collapsed": false
   }
  },
  {
   "cell_type": "markdown",
   "metadata": {
    "collapsed": false
   },
   "source": [
    "##### Использование модели для транскрибации и классификации текста"
   ]
  },
  {
   "cell_type": "code",
   "execution_count": 6,
   "metadata": {
    "collapsed": true,
    "ExecuteTime": {
     "end_time": "2024-10-12T20:27:13.034417Z",
     "start_time": "2024-10-12T20:27:12.955939800Z"
    }
   },
   "outputs": [
    {
     "ename": "NameError",
     "evalue": "name 'process_audio_files' is not defined",
     "output_type": "error",
     "traceback": [
      "\u001B[1;31m---------------------------------------------------------------------------\u001B[0m",
      "\u001B[1;31mNameError\u001B[0m                                 Traceback (most recent call last)",
      "Cell \u001B[1;32mIn[6], line 10\u001B[0m\n\u001B[0;32m      7\u001B[0m     result_files[i] \u001B[38;5;241m=\u001B[39m {\u001B[38;5;124m\"\u001B[39m\u001B[38;5;124mfile\u001B[39m\u001B[38;5;124m\"\u001B[39m: result_files[i], \u001B[38;5;124m\"\u001B[39m\u001B[38;5;124mid\u001B[39m\u001B[38;5;124m\"\u001B[39m: result_files[i][:\u001B[38;5;241m-\u001B[39m\u001B[38;5;241m4\u001B[39m]}\n\u001B[0;32m      9\u001B[0m \u001B[38;5;66;03m# Обработка файлов и получение результатов\u001B[39;00m\n\u001B[1;32m---> 10\u001B[0m transcription_results \u001B[38;5;241m=\u001B[39m \u001B[43mprocess_audio_files\u001B[49m(result_files, classifier, tokenizer, result_dir)\n\u001B[0;32m     12\u001B[0m \u001B[38;5;66;03m# Сохранение результатов в JSON\u001B[39;00m\n\u001B[0;32m     13\u001B[0m \u001B[38;5;28;01mwith\u001B[39;00m \u001B[38;5;28mopen\u001B[39m(\u001B[38;5;124m\"\u001B[39m\u001B[38;5;124mtranscriptions.json\u001B[39m\u001B[38;5;124m\"\u001B[39m, \u001B[38;5;124m\"\u001B[39m\u001B[38;5;124mw\u001B[39m\u001B[38;5;124m\"\u001B[39m, encoding\u001B[38;5;241m=\u001B[39m\u001B[38;5;124m\"\u001B[39m\u001B[38;5;124mutf-8\u001B[39m\u001B[38;5;124m\"\u001B[39m) \u001B[38;5;28;01mas\u001B[39;00m f:\n",
      "\u001B[1;31mNameError\u001B[0m: name 'process_audio_files' is not defined"
     ]
    }
   ],
   "source": [
    "# директория, где лежат файлы, которые мы хотим обработать\n",
    "result_dir = '../data/train/hr_bot_synt'\n",
    "\n",
    "result_files = os.listdir(result_dir)\n",
    "\n",
    "for i in range(len(result_files)):\n",
    "    result_files[i] = {\"file\": result_files[i], \"id\": result_files[i][:-4]}\n",
    "\n",
    "# Обработка файлов и получение результатов\n",
    "transcription_results = process_audio_files(result_files, classifier, tokenizer, result_dir)\n",
    "\n",
    "# Сохранение результатов в JSON\n",
    "with open(\"transcriptions.json\", \"w\", encoding=\"utf-8\") as f:\n",
    "    json.dump(transcription_results, f, ensure_ascii=False, indent=4)"
   ]
  },
  {
   "cell_type": "markdown",
   "metadata": {
    "collapsed": false
   },
   "source": [
    "Вывод результатов в консоль"
   ]
  },
  {
   "cell_type": "code",
   "execution_count": null,
   "metadata": {
    "collapsed": false,
    "is_executing": true
   },
   "outputs": [],
   "source": [
    "# выводим результат\n",
    "# print(json.dumps(transcription_results, indent=4, ensure_ascii=False))"
   ]
  }
 ],
 "metadata": {
  "kernelspec": {
   "display_name": "Python 3",
   "language": "python",
   "name": "python3"
  },
  "language_info": {
   "codemirror_mode": {
    "name": "ipython",
    "version": 2
   },
   "file_extension": ".py",
   "mimetype": "text/x-python",
   "name": "python",
   "nbconvert_exporter": "python",
   "pygments_lexer": "ipython2",
   "version": "2.7.6"
  }
 },
 "nbformat": 4,
 "nbformat_minor": 0
}
